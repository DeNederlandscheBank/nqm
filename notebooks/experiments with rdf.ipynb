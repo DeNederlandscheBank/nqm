{
 "cells": [
  {
   "cell_type": "code",
   "execution_count": null,
   "metadata": {},
   "outputs": [],
   "source": [
    "import rdflib\n",
    "import rdfextras\n",
    "import pandas as pd"
   ]
  },
  {
   "cell_type": "code",
   "execution_count": null,
   "metadata": {},
   "outputs": [],
   "source": [
    "string = \"\"\"\n",
    "@prefix link: <http://www.xbrl.org/2003/linkbase>.\n",
    "@prefix dnb: <http://www.dnb.nl/>.\n",
    "@prefix xbrli: <http://xbrl.org/2006/xbrldi>.\n",
    "@prefix xl: <http://www.xbrl.org/2003/XLink>.\n",
    "@prefix lei-code: <http://standards.iso.org/iso/17442>.\n",
    "\n",
    "_:source\n",
    "    link:instance \"filename\".\n",
    "\n",
    "_:fact1\n",
    "    xl:source _:source;\n",
    "    xbrli:entity lei-code:0LFF1WMNTWG5PTIYYI38.\n",
    "\n",
    "lei-code:0LFF1WMNTWG5PTIYYI38\n",
    "    link:short_name \"test_entity\";\n",
    "    link:long_name \"test entity from the EIOPA files\".\n",
    "\"\"\"\n",
    "\n",
    "g = rdflib.Graph()\n",
    "g.parse(data=string, format='turtle')"
   ]
  },
  {
   "cell_type": "code",
   "execution_count": null,
   "metadata": {},
   "outputs": [],
   "source": [
    "print(g.serialize(format=\"turtle\").decode(\"utf-8\"))"
   ]
  },
  {
   "cell_type": "markdown",
   "metadata": {},
   "source": [
    "# Convert DataFrame to rdf graph"
   ]
  },
  {
   "cell_type": "code",
   "execution_count": null,
   "metadata": {},
   "outputs": [],
   "source": [
    "def to_graph(df):\n",
    "    g = rdflib.Graph()\n",
    "    for (index, series) in df.iterrows():\n",
    "        for (column, value) in series.iteritems():\n",
    "            if (type(value) == 'bytes'):\n",
    "                g.add((rdflib.URIRef(index),\n",
    "                       rdflib.URIRef(column), \n",
    "                       rdflib.Literal(value.decode('utf-8'))))\n",
    "            else:\n",
    "                g.add((rdflib.URIRef(index),\n",
    "                       rdflib.URIRef(column), \n",
    "                       rdflib.Literal(value)))\n",
    "    return g"
   ]
  },
  {
   "cell_type": "code",
   "execution_count": null,
   "metadata": {},
   "outputs": [],
   "source": [
    "df = pd.DataFrame(index = [\"index_1\", \"index_2\"], columns = [\"a\", \"b\"], data = [[1, 2], [2, 3]])"
   ]
  },
  {
   "cell_type": "code",
   "execution_count": null,
   "metadata": {},
   "outputs": [],
   "source": [
    "df"
   ]
  },
  {
   "cell_type": "code",
   "execution_count": null,
   "metadata": {},
   "outputs": [],
   "source": [
    "print(to_graph(df).serialize(format='turtle').decode(\"utf-8\"))"
   ]
  },
  {
   "cell_type": "code",
   "execution_count": null,
   "metadata": {},
   "outputs": [],
   "source": []
  }
 ],
 "metadata": {
  "kernelspec": {
   "display_name": "Python 3",
   "language": "python",
   "name": "python3"
  },
  "language_info": {
   "codemirror_mode": {
    "name": "ipython",
    "version": 3
   },
   "file_extension": ".py",
   "mimetype": "text/x-python",
   "name": "python",
   "nbconvert_exporter": "python",
   "pygments_lexer": "ipython3",
   "version": "3.7.9"
  }
 },
 "nbformat": 4,
 "nbformat_minor": 4
}
