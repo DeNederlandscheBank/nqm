{
 "cells": [
  {
   "cell_type": "code",
   "execution_count": 15,
   "outputs": [],
   "source": [
    "from os import listdir\n",
    "from os.path import join, isfile\n",
    "from rdflib import URIRef, term, Graph, Literal, Namespace\n",
    "from rdflib.namespace import OWL,RDF, RDFS, SKOS, XSD\n",
    "from src_eiopa.features.generator_utils import sparql_encode,add_quotation_marks,strip_brackets,sparql_decode\n",
    "from src_eiopa.features.generator import initialize_graph\n",
    "from sacremoses import MosesTokenizer,MosesDetokenizer\n"
   ],
   "metadata": {
    "collapsed": false,
    "pycharm": {
     "name": "#%%\n"
    }
   }
  },
  {
   "cell_type": "code",
   "execution_count": 16,
   "outputs": [],
   "source": [
    "GRAPH_DATA_PATH = join(\"..\", \"data\", \"eiopa\", \"1_external\")\n",
    "\n",
    "# g = initialize_graph(GRAPH_DATA_PATH)"
   ],
   "metadata": {
    "collapsed": false,
    "pycharm": {
     "name": "#%%\n"
    }
   }
  },
  {
   "cell_type": "code",
   "execution_count": 17,
   "outputs": [],
   "source": [
    "# function to visualize the name of the uri without namespace\n",
    "def get_name(uri):\n",
    "    if isinstance(uri, term.URIRef):\n",
    "        return uri.n3().split(\"/\")[-1][0:-1]\n",
    "    else:\n",
    "        return uri"
   ],
   "metadata": {
    "collapsed": false,
    "pycharm": {
     "name": "#%%\n"
    }
   }
  },
  {
   "cell_type": "code",
   "execution_count": 18,
   "outputs": [],
   "source": [
    "# generator_query = \"\"\" select distinct ?a where{\n",
    "#                   ?s gleif-L1:hasLegalName ?a .\n",
    "#                   ?e gleif-Base:identifies ?s .\n",
    "#                   ?e eiopa-Base:hasInsuranceUndertakingID [].\n",
    "#                   ?e eiopa-Base:hasEUCountryWhereEntityOperates CountryCodes:NL.\n",
    "# }\"\"\"\n",
    "#\n",
    "# results = g.query(generator_query)\n",
    "# for row in results:\n",
    "#     for item in row:\n",
    "#         continue"
   ],
   "metadata": {
    "collapsed": false,
    "pycharm": {
     "name": "#%%\n"
    }
   }
  },
  {
   "cell_type": "code",
   "execution_count": 19,
   "outputs": [],
   "source": [
    "item = 'VGQ Zorgverzekeraar N.V.'\n",
    "mt, md = MosesTokenizer(lang = 'en'), MosesDetokenizer(lang = 'en')\n",
    "query = \"\"\"SELECT DISTINCT ?o WHERE {?s gleif-L1:hasLegalName <A>.}\"\"\"\n",
    "question = \"\"\"Give me legal name of <A>!\"\"\""
   ],
   "metadata": {
    "collapsed": false,
    "pycharm": {
     "name": "#%%\n"
    }
   }
  },
  {
   "cell_type": "code",
   "execution_count": 20,
   "outputs": [],
   "source": [
    "item_ = strip_brackets(item)\n",
    "item_ = add_quotation_marks(item_)\n",
    "\n",
    "question = question.replace(\"<A>\",item_)\n",
    "query = query.replace(\"<A>\",item_)"
   ],
   "metadata": {
    "collapsed": false,
    "pycharm": {
     "name": "#%%\n"
    }
   }
  },
  {
   "cell_type": "code",
   "execution_count": 21,
   "outputs": [
    {
     "name": "stdout",
     "output_type": "stream",
     "text": [
      "Give me legal name of \"vgq zorgverzekeraar n.v.\"!\n",
      "['Give', 'me', 'legal', 'name', 'of', '&quot;', 'vgq', 'zorgverzekeraar', 'n.v.', '&quot;', '!']\n",
      "Give me legal name of \"vgq zorgverzekeraar n.v.\"!\n"
     ]
    }
   ],
   "source": [
    "print(question)\n",
    "question_ = mt.tokenize(question)\n",
    "print(question_)\n",
    "question__ = md.detokenize(question_)\n",
    "print(question__)"
   ],
   "metadata": {
    "collapsed": false,
    "pycharm": {
     "name": "#%%\n"
    }
   }
  },
  {
   "cell_type": "code",
   "execution_count": 22,
   "outputs": [
    {
     "data": {
      "text/plain": "'Give me legal name of &quot; vgq zorgverzekeraar n.v. &quot; !'"
     },
     "execution_count": 22,
     "metadata": {},
     "output_type": "execute_result"
    }
   ],
   "source": [
    "' '.join(question_)"
   ],
   "metadata": {
    "collapsed": false,
    "pycharm": {
     "name": "#%%\n"
    }
   }
  },
  {
   "cell_type": "code",
   "execution_count": 23,
   "outputs": [
    {
     "name": "stdout",
     "output_type": "stream",
     "text": [
      "SELECT DISTINCT var_o WHERE  brack_open var_s gleif-L1:hasLegalName quot_mark_l vgq zorgverzekeraar n.v. quot_marks_r sep_dot brack_close \n",
      "SELECT DISTINCT ?o WHERE {?s gleif-L1:hasLegalName \"vgq zorgverzekeraar n.v.\"  . }\n"
     ]
    }
   ],
   "source": [
    "sparql_encoded = sparql_encode(query)\n",
    "print(sparql_encoded)\n",
    "print(sparql_decode(sparql_encoded))"
   ],
   "metadata": {
    "collapsed": false,
    "pycharm": {
     "name": "#%%\n"
    }
   }
  },
  {
   "cell_type": "code",
   "execution_count": 24,
   "outputs": [
    {
     "data": {
      "text/plain": "['varO']"
     },
     "execution_count": 24,
     "metadata": {},
     "output_type": "execute_result"
    }
   ],
   "source": [
    "variable = 'varO'\n",
    "mt.tokenize(variable)"
   ],
   "metadata": {
    "collapsed": false,
    "pycharm": {
     "name": "#%%%\n"
    }
   }
  },
  {
   "cell_type": "code",
   "execution_count": 25,
   "outputs": [
    {
     "data": {
      "text/plain": "'?o'"
     },
     "execution_count": 25,
     "metadata": {},
     "output_type": "execute_result"
    }
   ],
   "source": [
    "\"?\" + variable[-1].lower()"
   ],
   "metadata": {
    "collapsed": false,
    "pycharm": {
     "name": "#%%\n"
    }
   }
  },
  {
   "cell_type": "code",
   "execution_count": 26,
   "outputs": [
    {
     "ename": "NameError",
     "evalue": "name 'g' is not defined",
     "output_type": "error",
     "traceback": [
      "\u001B[0;31m---------------------------------------------------------------------------\u001B[0m",
      "\u001B[0;31mNameError\u001B[0m                                 Traceback (most recent call last)",
      "\u001B[0;32m<ipython-input-26-5fab00a92b5c>\u001B[0m in \u001B[0;36m<module>\u001B[0;34m\u001B[0m\n\u001B[1;32m      1\u001B[0m \u001B[0ms\u001B[0m \u001B[0;34m=\u001B[0m \u001B[0;34m'SELECT DISTINCT ?s WHERE { ?s gleif-L1:hasLegalName \"uitvaartverzekering twenthe n.v.\".}'\u001B[0m\u001B[0;34m\u001B[0m\u001B[0;34m\u001B[0m\u001B[0m\n\u001B[0;32m----> 2\u001B[0;31m \u001B[0mg\u001B[0m\u001B[0;34m.\u001B[0m\u001B[0mquery\u001B[0m\u001B[0;34m(\u001B[0m\u001B[0ms\u001B[0m\u001B[0;34m)\u001B[0m\u001B[0;34m\u001B[0m\u001B[0;34m\u001B[0m\u001B[0m\n\u001B[0m\u001B[1;32m      3\u001B[0m \u001B[0;34m\u001B[0m\u001B[0m\n",
      "\u001B[0;31mNameError\u001B[0m: name 'g' is not defined"
     ]
    }
   ],
   "source": [
    "s = 'SELECT DISTINCT ?s WHERE { ?s gleif-L1:hasLegalName \"uitvaartverzekering twenthe n.v.\".}'\n",
    "g.query(s)"
   ],
   "metadata": {
    "collapsed": false,
    "pycharm": {
     "name": "#%%\n"
    }
   }
  },
  {
   "cell_type": "code",
   "execution_count": null,
   "outputs": [],
   "source": [
    "s[27]"
   ],
   "metadata": {
    "collapsed": false,
    "pycharm": {
     "name": "#%%\n"
    }
   }
  },
  {
   "cell_type": "code",
   "execution_count": null,
   "outputs": [],
   "source": [],
   "metadata": {
    "collapsed": false,
    "pycharm": {
     "name": "#%%\n"
    }
   }
  }
 ],
 "metadata": {
  "kernelspec": {
   "display_name": "Python 3",
   "language": "python",
   "name": "python3"
  },
  "language_info": {
   "codemirror_mode": {
    "name": "ipython",
    "version": 2
   },
   "file_extension": ".py",
   "mimetype": "text/x-python",
   "name": "python",
   "nbconvert_exporter": "python",
   "pygments_lexer": "ipython2",
   "version": "2.7.6"
  }
 },
 "nbformat": 4,
 "nbformat_minor": 0
}