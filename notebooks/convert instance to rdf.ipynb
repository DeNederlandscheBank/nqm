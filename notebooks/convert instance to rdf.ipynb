{
 "cells": [
  {
   "cell_type": "code",
   "execution_count": null,
   "metadata": {},
   "outputs": [],
   "source": [
    "from lxml import etree\n",
    "from os.path import join, isfile\n",
    "from os import listdir\n",
    "from src.data import process_instance"
   ]
  },
  {
   "cell_type": "code",
   "execution_count": null,
   "metadata": {},
   "outputs": [],
   "source": [
    "base_dir = join(\"..\", \"data\", \"external\",\"instances\")\n",
    "output_dir = join(\"..\", \"data\", \"raw\")\n",
    "\n",
    "rdf_namespaces = {\"rdf\": \"http://www.w3.org/1999/02/22-rdf-syntax-ns#\",\n",
    "                  \"rdfs\": \"http://www.w3.org/2000/01/rdf-schema#\",\n",
    "                  \"xl\": \"http://www.xbrl.org/2003/XLink\",\n",
    "                  \"xsd\": \"http://www.w3.org/2001/XMLSchema\"}"
   ]
  },
  {
   "cell_type": "code",
   "execution_count": null,
   "metadata": {},
   "outputs": [],
   "source": [
    "xbrl_files = [f for f in listdir(base_dir) if (isfile(join(base_dir, f))) and f[-4:].lower()=='xbrl']\n",
    "for file in xbrl_files:\n",
    "    print(\"processing: \"+str(file))\n",
    "    base = join(base_dir, file)\n",
    "    with open(base, \"rb\") as fp:\n",
    "        root = etree.fromstring(fp.read(), parser=etree.XMLParser(remove_comments=True))\n",
    "    namespaces = {**root.nsmap, **rdf_namespaces}\n",
    "    instance = process_instance.processInstance(root, file, namespaces)\n",
    "    print(\"      write to: \" +str(join(file[:-5] + '.ttl')))\n",
    "    with open(join(output_dir, file[:-5]+'.ttl'), 'w') as fp:\n",
    "        fp.write(str(instance['output'].getvalue()))"
   ]
  },
  {
   "cell_type": "code",
   "execution_count": null,
   "metadata": {},
   "outputs": [],
   "source": [
    "namespaces"
   ]
  },
  {
   "cell_type": "code",
   "execution_count": null,
   "metadata": {},
   "outputs": [],
   "source": []
  },
  {
   "cell_type": "code",
   "execution_count": null,
   "metadata": {},
   "outputs": [],
   "source": []
  }
 ],
 "metadata": {
  "kernelspec": {
   "display_name": "Python 3",
   "language": "python",
   "name": "python3"
  },
  "language_info": {
   "codemirror_mode": {
    "name": "ipython",
    "version": 3
   },
   "file_extension": ".py",
   "mimetype": "text/x-python",
   "name": "python",
   "nbconvert_exporter": "python",
   "pygments_lexer": "ipython3",
   "version": "3.7.9"
  }
 },
 "nbformat": 4,
 "nbformat_minor": 4
}
