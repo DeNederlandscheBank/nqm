{
 "cells": [
  {
   "cell_type": "code",
   "execution_count": 1,
   "metadata": {},
   "outputs": [],
   "source": [
    "dataiku_env = True\n",
    "try:\n",
    "    import dataiku\n",
    "except:\n",
    "    dataiku_env = False"
   ]
  },
  {
   "cell_type": "code",
   "execution_count": 2,
   "metadata": {},
   "outputs": [],
   "source": [
    "from lxml import etree\n",
    "from os.path import join, isfile, exists as os_exists\n",
    "from os import listdir\n",
    "from src.data import process_instance\n",
    "import rdflib"
   ]
  },
  {
   "cell_type": "code",
   "execution_count": 3,
   "metadata": {
    "scrolled": true
   },
   "outputs": [],
   "source": [
    "if dataiku_env:\n",
    "    base_folder = dataiku.Folder(\"instances\").get_path()\n",
    "    data_folder = 'real/'\n",
    "    base_dir = base_folder + '/' + data_folder\n",
    "    output_dir = base_dir + \"/processed\"\n",
    "else:\n",
    "    base_dir = join(\"..\", \"data\", \"external\",\"instances\")\n",
    "    output_dir = join(\"..\", \"data\", \"raw\",\"instances\")\n",
    "    \n",
    "if not os_exists(output_dir):\n",
    "    os.mkdir(output_dir)"
   ]
  },
  {
   "cell_type": "code",
   "execution_count": 8,
   "metadata": {},
   "outputs": [],
   "source": [
    "rdf_namespaces = {\"rdf\": \"http://www.w3.org/1999/02/22-rdf-syntax-ns#\",\n",
    "                  \"rdfs\": \"http://www.w3.org/2000/01/rdf-schema#\",\n",
    "                  \"xl\": \"http://www.xbrl.org/2003/XLink\",\n",
    "                  \"xsd\": \"http://www.w3.org/2001/XMLSchema\",\n",
    "                  'xbrll': \"https://w3id.org/vocab/xbrll\",\n",
    "                  \"dnb\": \"http://dnb.nl/\",\n",
    "                  \"gleif-l1\": \"https://www.gleif.org/ontology/L1\"\n",
    "}"
   ]
  },
  {
   "cell_type": "code",
   "execution_count": 9,
   "metadata": {
    "scrolled": true
   },
   "outputs": [
    {
     "name": "stdout",
     "output_type": "stream",
     "text": [
      "processing: Xbrl_Instance_000305_JE_CONCZ_ARG2_4_2603_10572282028095600444513.xbrl\n",
      "      written to: Xbrl_Instance_000305_JE_CONCZ_ARG2_4_2603_10572282028095600444513.ttl\n",
      "processing: Xbrl_Instance_603492_JE_NZV_ARS_2_4_1806_164516541110199214850284.xbrl\n",
      "      written to: Xbrl_Instance_603492_JE_NZV_ARS_2_4_1806_164516541110199214850284.ttl\n",
      "processing: Xbrl_Instance_DMI006_S2AG_2019Q4_ASR_0204_16519496432483166490628.xbrl\n",
      "      written to: Xbrl_Instance_DMI006_S2AG_2019Q4_ASR_0204_16519496432483166490628.ttl\n",
      "processing: Xbrl_Instance_DMI006_S2AS_219Q4_2523_3003_07452433859020140614697.xbrl\n",
      "      written to: Xbrl_Instance_DMI006_S2AS_219Q4_2523_3003_07452433859020140614697.ttl\n",
      "processing: Xbrl_Instance_DMI006_S2AS_219Q4_2528_2906_10295540553839551139114.xbrl\n",
      "      written to: Xbrl_Instance_DMI006_S2AS_219Q4_2528_2906_10295540553839551139114.ttl\n",
      "processing: Xbrl_Instance_DMI006_S2QS_219Q4_2523_0402_15364061702482115404508.xbrl\n",
      "      written to: Xbrl_Instance_DMI006_S2QS_219Q4_2523_0402_15364061702482115404508.ttl\n"
     ]
    }
   ],
   "source": [
    "g = rdflib.Graph()\n",
    "xbrl_files = [f for f in listdir(base_dir ) if (isfile(join(base_dir , f))) and f[-4:].lower()=='xbrl']\n",
    "for file in xbrl_files:\n",
    "    print(\"processing: \"+str(file))\n",
    "    base = join(base_dir, file)\n",
    "    with open(base, \"rb\") as fp:\n",
    "        root = etree.fromstring(fp.read(), parser=etree.XMLParser(remove_comments=True))\n",
    "    namespaces = {**root.nsmap, **rdf_namespaces}\n",
    "    instance = process_instance.processInstance(root, file, namespaces)\n",
    "    try:\n",
    "        g.parse(data=instance['output'].getvalue(), format=\"turtle\")\n",
    "        with open(join(output_dir, file[:-5]+'.ttl'), 'w', encoding = 'utf-8') as fp:\n",
    "            fp.write(str(instance['output'].getvalue()))\n",
    "        print(\"      written to: \" +str(join(file[:-5] + '.ttl')))\n",
    "    except Exception as e: \n",
    "        print(' ')\n",
    "        print(e)\n",
    "        print(' ')"
   ]
  },
  {
   "cell_type": "code",
   "execution_count": null,
   "metadata": {},
   "outputs": [],
   "source": []
  }
 ],
 "metadata": {
  "creator": "M.Nijhuis",
  "customFields": {},
  "kernelspec": {
   "display_name": "Python (env XBRL)",
   "language": "python",
   "name": "py-dku-venv-xbrl"
  },
  "language_info": {
   "codemirror_mode": {
    "name": "ipython",
    "version": 3
   },
   "file_extension": ".py",
   "mimetype": "text/x-python",
   "name": "python",
   "nbconvert_exporter": "python",
   "pygments_lexer": "ipython3",
   "version": "3.6.8"
  },
  "tags": []
 },
 "nbformat": 4,
 "nbformat_minor": 1
}
