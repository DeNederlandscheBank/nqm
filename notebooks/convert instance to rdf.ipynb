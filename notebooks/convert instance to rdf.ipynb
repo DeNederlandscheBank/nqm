{
 "cells": [
  {
   "cell_type": "code",
   "execution_count": 1,
   "metadata": {},
   "outputs": [],
   "source": [
    "from lxml import etree\n",
    "from os.path import join, isfile\n",
    "from os import listdir\n",
    "from src.data import process_instance"
   ]
  },
  {
   "cell_type": "code",
   "execution_count": 2,
   "metadata": {},
   "outputs": [],
   "source": [
    "base_dir = join(\"..\", \"data\", \"external\",\"instances\")\n",
    "output_dir = join(\"..\", \"data\", \"raw\")\n",
    "\n",
    "rdf_namespaces = {\"rdf\": \"http://www.w3.org/1999/02/22-rdf-syntax-ns#\",\n",
    "                  \"rdfs\": \"http://www.w3.org/2000/01/rdf-schema#\",\n",
    "                  \"xl\": \"http://www.xbrl.org/2003/XLink\",\n",
    "                  \"xsd\": \"http://www.w3.org/2001/XMLSchema\",\n",
    "                  'xbrll': \"https://w3id.org/vocab/xbrll\",\n",
    "                  \"dnb\": \"http://dnb.nl/\",\n",
    "                  \"gleif-l1\": \"https://www.gleif.org/ontology/L1/\"\n",
    "}"
   ]
  },
  {
   "cell_type": "code",
   "execution_count": 3,
   "metadata": {},
   "outputs": [
    {
     "name": "stdout",
     "output_type": "stream",
     "text": [
      "processing: aeb_240_instance.xbrl\n",
      "      write to: aeb_240_instance.ttl\n",
      "processing: aes_240_instance.xbrl\n",
      "      write to: aes_240_instance.ttl\n",
      "processing: afb_240_instance.xbrl\n",
      "      write to: afb_240_instance.ttl\n",
      "processing: afg_240_instance.xbrl\n",
      "      write to: afg_240_instance.ttl\n",
      "processing: afs_240_instance.xbrl\n",
      "      write to: afs_240_instance.ttl\n",
      "processing: apg_240_instance.xbrl\n",
      "      write to: apg_240_instance.ttl\n",
      "processing: aps_240_instance.xbrl\n",
      "      write to: aps_240_instance.ttl\n",
      "processing: arb_240_instance.xbrl\n",
      "      write to: arb_240_instance.ttl\n",
      "processing: arg_240_instance.xbrl\n",
      "      write to: arg_240_instance.ttl\n",
      "processing: ars_240_instance.xbrl\n",
      "      write to: ars_240_instance.ttl\n",
      "processing: DNB-NR_FTK-2019-06_2019-12-31_MOD_APF-J.XBRL\n",
      "      write to: DNB-NR_FTK-2019-06_2019-12-31_MOD_APF-J.ttl\n",
      "processing: DNB-NR_FTK-2019-06_2019-12-31_MOD_APF-KW.XBRL\n",
      "      write to: DNB-NR_FTK-2019-06_2019-12-31_MOD_APF-KW.ttl\n",
      "processing: DNB-NR_FTK-2019-06_2019-12-31_MOD_FTK-ALL.XBRL\n",
      "      write to: DNB-NR_FTK-2019-06_2019-12-31_MOD_FTK-ALL.ttl\n",
      "processing: DNB-NR_FTK-2019-06_2019-12-31_MOD_FTK-BEL.XBRL\n",
      "      write to: DNB-NR_FTK-2019-06_2019-12-31_MOD_FTK-BEL.ttl\n",
      "processing: DNB-NR_FTK-2019-06_2019-12-31_MOD_FTK-BELGEO.XBRL\n",
      "      write to: DNB-NR_FTK-2019-06_2019-12-31_MOD_FTK-BELGEO.ttl\n",
      "processing: DNB-NR_FTK-2019-06_2019-12-31_MOD_FTK-DG.XBRL\n",
      "      write to: DNB-NR_FTK-2019-06_2019-12-31_MOD_FTK-DG.ttl\n",
      "processing: DNB-NR_FTK-2019-06_2019-12-31_MOD_FTK-HBT.XBRL\n",
      "      write to: DNB-NR_FTK-2019-06_2019-12-31_MOD_FTK-HBT.ttl\n",
      "processing: DNB-NR_FTK-2019-06_2019-12-31_MOD_FTK-HP.XBRL\n",
      "      write to: DNB-NR_FTK-2019-06_2019-12-31_MOD_FTK-HP.ttl\n",
      "processing: DNB-NR_FTK-2019-06_2019-12-31_MOD_FTK-JS.XBRL\n",
      "      write to: DNB-NR_FTK-2019-06_2019-12-31_MOD_FTK-JS.ttl\n",
      "processing: DNB-NR_FTK-2019-06_2019-12-31_MOD_FTK-JSCON.XBRL\n",
      "      write to: DNB-NR_FTK-2019-06_2019-12-31_MOD_FTK-JSCON.ttl\n",
      "processing: DNB-NR_FTK-2019-06_2019-12-31_MOD_FTK-JSZS.XBRL\n",
      "      write to: DNB-NR_FTK-2019-06_2019-12-31_MOD_FTK-JSZS.ttl\n",
      "processing: DNB-NR_FTK-2019-06_2019-12-31_MOD_FTK-PR.XBRL\n",
      "      write to: DNB-NR_FTK-2019-06_2019-12-31_MOD_FTK-PR.ttl\n",
      "processing: DNB-NR_FTK-2019-06_2019-12-31_MOD_FTK-RG.XBRL\n",
      "      write to: DNB-NR_FTK-2019-06_2019-12-31_MOD_FTK-RG.ttl\n",
      "processing: qeb_240_instance.xbrl\n",
      "      write to: qeb_240_instance.ttl\n",
      "processing: qes_240_instance.xbrl\n",
      "      write to: qes_240_instance.ttl\n",
      "processing: qfb_240_instance.xbrl\n",
      "      write to: qfb_240_instance.ttl\n",
      "processing: qfg_240_instance.xbrl\n",
      "      write to: qfg_240_instance.ttl\n",
      "processing: qfs_240_instance.xbrl\n",
      "      write to: qfs_240_instance.ttl\n",
      "processing: qrb_240_instance.xbrl\n",
      "      write to: qrb_240_instance.ttl\n",
      "processing: qrg_240_instance.xbrl\n",
      "      write to: qrg_240_instance.ttl\n",
      "processing: qrs_240_instance.xbrl\n",
      "      write to: qrs_240_instance.ttl\n",
      "processing: spv_240_instance.xbrl\n",
      "      write to: spv_240_instance.ttl\n",
      "processing: tep_240_instance.xbrl\n",
      "      write to: tep_240_instance.ttl\n"
     ]
    }
   ],
   "source": [
    "xbrl_files = [f for f in listdir(base_dir) if (isfile(join(base_dir, f))) and f[-4:].lower()=='xbrl']\n",
    "for file in xbrl_files:\n",
    "    print(\"processing: \"+str(file))\n",
    "    base = join(base_dir, file)\n",
    "    with open(base, \"rb\") as fp:\n",
    "        root = etree.fromstring(fp.read(), parser=etree.XMLParser(remove_comments=True))\n",
    "    namespaces = {**root.nsmap, **rdf_namespaces}\n",
    "    instance = process_instance.processInstance(root, file, namespaces)\n",
    "    print(\"      write to: \" +str(join(file[:-5] + '.ttl')))\n",
    "    with open(join(output_dir, file[:-5]+'.ttl'), 'w') as fp:\n",
    "        fp.write(str(instance['output'].getvalue()))"
   ]
  },
  {
   "cell_type": "code",
   "execution_count": 4,
   "metadata": {},
   "outputs": [
    {
     "data": {
      "text/plain": [
       "{'s2c_AO': 'http://eiopa.europa.eu/xbrl/s2c/dict/dom/AO',\n",
       " 's2c_CN': 'http://eiopa.europa.eu/xbrl/s2c/dict/dom/CN',\n",
       " 's2c_LA': 'http://eiopa.europa.eu/xbrl/s2c/dict/dom/LA',\n",
       " 's2c_LT': 'http://eiopa.europa.eu/xbrl/s2c/dict/dom/LT',\n",
       " 's2c_NC': 'http://eiopa.europa.eu/xbrl/s2c/dict/dom/NC',\n",
       " 's2c_PC': 'http://eiopa.europa.eu/xbrl/s2c/dict/dom/PC',\n",
       " 'find': 'http://www.eurofiling.info/xbrl/ext/filing-indicators',\n",
       " 'iso4217': 'http://www.xbrl.org/2003/iso4217',\n",
       " 'link': 'http://www.xbrl.org/2003/linkbase',\n",
       " 's2c_AM': 'http://eiopa.europa.eu/xbrl/s2c/dict/dom/AM',\n",
       " 's2c_AP': 'http://eiopa.europa.eu/xbrl/s2c/dict/dom/AP',\n",
       " 's2c_BR': 'http://eiopa.europa.eu/xbrl/s2c/dict/dom/BR',\n",
       " 's2c_CG': 'http://eiopa.europa.eu/xbrl/s2c/dict/dom/CG',\n",
       " 's2c_CS': 'http://eiopa.europa.eu/xbrl/s2c/dict/dom/CS',\n",
       " 's2c_CU': 'http://eiopa.europa.eu/xbrl/s2c/dict/dom/CU',\n",
       " 's2c_DI': 'http://eiopa.europa.eu/xbrl/s2c/dict/dom/DI',\n",
       " 's2c_EL': 'http://eiopa.europa.eu/xbrl/s2c/dict/dom/EL',\n",
       " 's2c_EX': 'http://eiopa.europa.eu/xbrl/s2c/dict/dom/EX',\n",
       " 's2c_GA': 'http://eiopa.europa.eu/xbrl/s2c/dict/dom/GA',\n",
       " 's2c_LB': 'http://eiopa.europa.eu/xbrl/s2c/dict/dom/LB',\n",
       " 's2c_MC': 'http://eiopa.europa.eu/xbrl/s2c/dict/dom/MC',\n",
       " 's2c_PI': 'http://eiopa.europa.eu/xbrl/s2c/dict/dom/PI',\n",
       " 's2c_PU': 'http://eiopa.europa.eu/xbrl/s2c/dict/dom/PU',\n",
       " 's2c_RT': 'http://eiopa.europa.eu/xbrl/s2c/dict/dom/RT',\n",
       " 's2c_SE': 'http://eiopa.europa.eu/xbrl/s2c/dict/dom/SE',\n",
       " 's2c_TB': 'http://eiopa.europa.eu/xbrl/s2c/dict/dom/TB',\n",
       " 's2c_TF': 'http://eiopa.europa.eu/xbrl/s2c/dict/dom/TF',\n",
       " 's2c_TI': 'http://eiopa.europa.eu/xbrl/s2c/dict/dom/TI',\n",
       " 's2c_VM': 'http://eiopa.europa.eu/xbrl/s2c/dict/dom/VM',\n",
       " 's2c_dim': 'http://eiopa.europa.eu/xbrl/s2c/dict/dim',\n",
       " 's2c_typ': 'http://eiopa.europa.eu/xbrl/s2c/dict/typ',\n",
       " 's2md_met': 'http://eiopa.europa.eu/xbrl/s2md/dict/met',\n",
       " 'xbrldi': 'http://xbrl.org/2006/xbrldi',\n",
       " 'xbrli': 'http://www.xbrl.org/2003/instance',\n",
       " 'xlink': 'http://www.w3.org/1999/xlink',\n",
       " 'rdf': 'http://www.w3.org/1999/02/22-rdf-syntax-ns#',\n",
       " 'rdfs': 'http://www.w3.org/2000/01/rdf-schema#',\n",
       " 'xl': 'http://www.xbrl.org/2003/XLink',\n",
       " 'xsd': 'http://www.w3.org/2001/XMLSchema',\n",
       " 'xbrll': 'https://w3id.org/vocab/xbrll',\n",
       " 'dnb': 'http://dnb.nl/',\n",
       " 'gleif-l1': 'https://www.gleif.org/ontology/L1/'}"
      ]
     },
     "execution_count": 4,
     "metadata": {},
     "output_type": "execute_result"
    }
   ],
   "source": [
    "namespaces"
   ]
  },
  {
   "cell_type": "code",
   "execution_count": null,
   "metadata": {},
   "outputs": [],
   "source": []
  },
  {
   "cell_type": "code",
   "execution_count": null,
   "metadata": {},
   "outputs": [],
   "source": []
  }
 ],
 "metadata": {
  "kernelspec": {
   "display_name": "Python 3",
   "language": "python",
   "name": "python3"
  },
  "language_info": {
   "codemirror_mode": {
    "name": "ipython",
    "version": 3
   },
   "file_extension": ".py",
   "mimetype": "text/x-python",
   "name": "python",
   "nbconvert_exporter": "python",
   "pygments_lexer": "ipython3",
   "version": "3.7.9"
  }
 },
 "nbformat": 4,
 "nbformat_minor": 4
}
