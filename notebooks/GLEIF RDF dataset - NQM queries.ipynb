{
 "cells": [
  {
   "cell_type": "code",
   "execution_count": null,
   "metadata": {
    "scrolled": true
   },
   "outputs": [],
   "source": [
    "from os import listdir\n",
    "from os.path import join, isfile\n",
    "from rdflib import URIRef, term, Graph, Literal, Namespace\n",
    "from rdflib.namespace import OWL,RDF, RDFS, SKOS, XSD\n",
    "# from src_eiopa.features.generator_utils import encode,add_quotation_marks,strip_brackets\n",
    "# from sacremoses import MosesTokenizer,MosesDetokenizer"
   ]
  },
  {
   "cell_type": "code",
   "execution_count": null,
   "metadata": {
    "scrolled": true
   },
   "outputs": [],
   "source": [
    "EIOPA_DATA_PATH = join(\"..\", \"data\", \"eiopa\", \"1_external\", \"eiopa\")\n",
    "GLEIF_DATA_PATH = join(\"..\", \"data\", \"eiopa\", \"1_external\", \"gleif\")"
   ]
  },
  {
   "cell_type": "markdown",
   "metadata": {},
   "source": [
    "# Read EIOPA Register in RDF"
   ]
  },
  {
   "cell_type": "code",
   "execution_count": null,
   "metadata": {
    "scrolled": true
   },
   "outputs": [],
   "source": [
    "g = Graph()\n",
    "\n",
    "with open(join(EIOPA_DATA_PATH,'eiopa_register.ttl'), \"rb\") as fp:\n",
    "    g.parse(data = fp.read(), format = 'turtle')\n",
    "\n",
    "with open(join(GLEIF_DATA_PATH,'gleif-L1-extract.ttl'), \"rb\") as fp:\n",
    "    g.parse(data = fp.read(), format = 'turtle')\n",
    "    \n",
    "with open(join(GLEIF_DATA_PATH,'EntityLegalFormData.ttl'), \"rb\") as fp:\n",
    "    g.parse(data = fp.read(), format = 'turtle')\n",
    "\n",
    "print(\"graph has {} statements.\".format(len(g)))"
   ]
  },
  {
   "cell_type": "markdown",
   "metadata": {},
   "source": [
    "# Example SPARQL queries"
   ]
  },
  {
   "cell_type": "code",
   "execution_count": null,
   "metadata": {
    "scrolled": true
   },
   "outputs": [],
   "source": [
    "# function to visualize the name of the uri without namespace\n",
    "def get_name(uri):\n",
    "    if isinstance(uri, term.URIRef):\n",
    "        return uri.n3().split(\"/\")[-1][0:-1]\n",
    "    else:\n",
    "        return uri"
   ]
  },
  {
   "cell_type": "code",
   "execution_count": null,
   "metadata": {},
   "outputs": [],
   "source": [
    "# if A is a legal name\n",
    "\n",
    "# What is the legal form name of <A> ?\n",
    "# What kind of company is <A> ?\n",
    "# What type of company is <A> ?\n",
    "# Legal form of <A> ?\n",
    "# Kind of company of <A> ?\n",
    "# Type of company of <A> ?\n",
    "\n",
    "query = \"\"\"SELECT DISTINCT ?o\n",
    "           WHERE {?s gleif-L1:hasLegalName \"Achmea Schadeverzekeringen N.V.\" . \n",
    "                  ?s gleif-L1:hasLegalForm ?lf .\n",
    "                  ?lf gleif-base:hasNameLocal ?o .\n",
    "}\"\"\"\n",
    "results = g.query(query)\n",
    "\n",
    "for row in results:\n",
    "    print(get_name(row[0]))"
   ]
  },
  {
   "cell_type": "code",
   "execution_count": null,
   "metadata": {},
   "outputs": [],
   "source": [
    "# if A is a legal name\n",
    "\n",
    "# What is the short legal form name of <A> ?\n",
    "# Short legal form of <A> ?\n",
    "\n",
    "query = \"\"\"SELECT DISTINCT ?o\n",
    "           WHERE {?s gleif-L1:hasLegalName \"Achmea Schadeverzekeringen N.V.\" . \n",
    "                  ?s gleif-L1:hasLegalForm ?lf .\n",
    "                  ?lf gleif-base:hasAbbreviationLocal ?o .\n",
    "}\"\"\"\n",
    "results = g.query(query)\n",
    "\n",
    "for row in results:\n",
    "    print(get_name(row[0]))"
   ]
  },
  {
   "cell_type": "code",
   "execution_count": null,
   "metadata": {},
   "outputs": [],
   "source": [
    "# if A is a legal name\n",
    "\n",
    "# In what city is <A> located ?\n",
    "\n",
    "query = \"\"\"SELECT DISTINCT ?o\n",
    "           WHERE {?s gleif-L1:hasLegalName \"Achmea Schadeverzekeringen N.V.\" . \n",
    "                  ?s gleif-L1:hasHeadquartersAddress ?a .\n",
    "                  ?a gleif-base:hasCity ?o .\n",
    "}\"\"\"\n",
    "results = g.query(query)\n",
    "\n",
    "for row in results:\n",
    "    print(get_name(row[0]))"
   ]
  },
  {
   "cell_type": "code",
   "execution_count": null,
   "metadata": {},
   "outputs": [],
   "source": [
    "# if A is a legal name\n",
    "\n",
    "# In what country is <A> located ?\n",
    "# In what country does <A> have its headquarters ?\n",
    "# From what country does <A> operate ?\n",
    "# Country of <A> ?\n",
    "# Home country of <A> ?\n",
    "\n",
    "query = \"\"\"SELECT DISTINCT ?o\n",
    "           WHERE {?s gleif-L1:hasLegalName \"Achmea Schadeverzekeringen N.V.\" . \n",
    "                  ?s gleif-L1:hasHeadquartersAddress ?a .\n",
    "                  ?a gleif-base:hasCountry ?o .\n",
    "}\"\"\"\n",
    "results = g.query(query)\n",
    "\n",
    "for row in results:\n",
    "    print(get_name(row[0]))"
   ]
  },
  {
   "cell_type": "code",
   "execution_count": null,
   "metadata": {},
   "outputs": [],
   "source": [
    "# if A is a legal name\n",
    "\n",
    "# What is the address of <A> ?\n",
    "# From where does <A? operate ?\n",
    "# What is the head quarter address of <A> ?\n",
    "\n",
    "query = \"\"\"SELECT DISTINCT ?o\n",
    "           WHERE {?s gleif-L1:hasLegalName \"Achmea Schadeverzekeringen N.V.\" . \n",
    "                  ?s gleif-L1:hasHeadquartersAddress ?a .\n",
    "                  ?a ?p ?o .\n",
    "}\"\"\"\n",
    "results = g.query(query)\n",
    "\n",
    "for row in results:\n",
    "    print(get_name(row[0]))"
   ]
  },
  {
   "cell_type": "code",
   "execution_count": null,
   "metadata": {
    "scrolled": true
   },
   "outputs": [],
   "source": [
    "# if A is a legal name\n",
    "\n",
    "# What is the entity status of <A> ?\n",
    "\n",
    "query = \"\"\"SELECT DISTINCT ?o\n",
    "           WHERE {?s gleif-L1:hasLegalName \"Achmea Schadeverzekeringen N.V.\" . \n",
    "                  ?s gleif-base:hasEntityStatus ?o .\n",
    "}\"\"\"\n",
    "results = g.query(query)\n",
    "\n",
    "for row in results:\n",
    "    print(row[0])"
   ]
  },
  {
   "cell_type": "code",
   "execution_count": null,
   "metadata": {},
   "outputs": [],
   "source": [
    "# if A is a legal name\n",
    "\n",
    "# What is the successor of <A> ?\n",
    "# What company took over <A> ?\n",
    "# Successor of <A> ?\n",
    "# Who purchased <A> ?\n",
    "\n",
    "query = \"\"\"SELECT DISTINCT ?o\n",
    "           WHERE {?s gleif-L1:hasLegalName \"VvAA Levensverzekeringen N.V.\" . \n",
    "                  ?s gleif-base:hasSuccessor ?su . \n",
    "                  ?su gleif-L1:hasLegalName ?o .\n",
    "}\"\"\"\n",
    "results = g.query(query)\n",
    "\n",
    "for row in results:\n",
    "    print(row[0])"
   ]
  },
  {
   "cell_type": "code",
   "execution_count": null,
   "metadata": {
    "pycharm": {
     "name": "#%%\n"
    }
   },
   "outputs": [],
   "source": [
    "# if A is a legal name\n",
    "\n",
    "# What is the successor of <A> ?\n",
    "# What companies did <A> take over ?\n",
    "\n",
    "query = \"\"\"SELECT DISTINCT ?o\n",
    "           WHERE {?s gleif-L1:hasLegalName ?o . \n",
    "                  ?s gleif-base:hasSuccessor ?su . \n",
    "                  ?su gleif-L1:hasLegalName \"ASR Levensverzekering N.V.\" .\n",
    "}\"\"\"\n",
    "results = g.query(query)\n",
    "\n",
    "for row in results:\n",
    "    print(row[0])"
   ]
  },
  {
   "cell_type": "code",
   "execution_count": null,
   "metadata": {},
   "outputs": [],
   "source": []
  }
 ],
 "metadata": {
  "kernelspec": {
   "display_name": "Python 3",
   "language": "python",
   "name": "python3"
  },
  "language_info": {
   "codemirror_mode": {
    "name": "ipython",
    "version": 3
   },
   "file_extension": ".py",
   "mimetype": "text/x-python",
   "name": "python",
   "nbconvert_exporter": "python",
   "pygments_lexer": "ipython3",
   "version": "3.8.8"
  }
 },
 "nbformat": 4,
 "nbformat_minor": 4
}
