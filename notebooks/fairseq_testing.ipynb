{
 "cells": [
  {
   "cell_type": "code",
   "execution_count": 2,
   "metadata": {},
   "outputs": [],
   "source": [
    "import fairseq\n",
    "import os\n",
    "import torch\n",
    "\n",
    "from fairseq.models.transformer import TransformerModel\n",
    "from os.path import join, exists\n",
    "from src_eiopa.evaluation.decoder import decode"
   ]
  },
  {
   "cell_type": "code",
   "execution_count": 3,
   "metadata": {},
   "outputs": [],
   "source": [
    "fairseq_folder = join('..','data','eiopa','4_dictionaries','fairseq-data-bin-31181')\n",
    "data_path = join('..','data','eiopa','4_dictionaries','data_24-03_14-14_31181_')\n",
    "model_path = join('..','models','transformer_iwslt_de_en_20226912')"
   ]
  },
  {
   "cell_type": "code",
   "execution_count": 4,
   "metadata": {},
   "outputs": [],
   "source": [
    "model = TransformerModel.from_pretrained(\n",
    "  '../models/',\n",
    "  checkpoint_file='./transformer_iwslt_de_en_20226912/checkpoint_best.pt',\n",
    "  data_name_or_path='/Users/jan_marcglowienke/Documents/University/Master_Courses/Thesis/3_Code/data/eiopa/4_dictionaries/fairseq-data-bin-31181',\n",
    "#   bpe='subword_nmt',\n",
    "#   bpe_codes='bpecodes'\n",
    ")"
   ]
  },
  {
   "cell_type": "code",
   "execution_count": 14,
   "metadata": {},
   "outputs": [
    {
     "data": {
      "text/plain": "'SELECT DISTINCT ?a WHERE{?s gleif-L1:hasLegalName univé het groene hart brandverzekeraar n.v .  .  ?e gleif-Base:identifies ?s . ?e eiopa-Base:hasEUCountryWhereEntityOperates ?a . }'"
     },
     "execution_count": 14,
     "metadata": {},
     "output_type": "execute_result"
    }
   ],
   "source": [
    "decode(model.translate(\"Where is univé het groene hart brandverzekeraar n.v. located and what is the registration number?\"))"
   ]
  },
  {
   "cell_type": "code",
   "execution_count": 17,
   "metadata": {},
   "outputs": [
    {
     "data": {
      "text/plain": "'SELECT DISTINCT ?a WHERE{?s gleif-L1:hasLegalName univé dichtbij brandverzekeraar n.v .  .  ?e gleif-Base:identifies ?s . ?e eiopa-Base:hasEUCountryWhereEntityOperates ?a . }'"
     },
     "execution_count": 17,
     "metadata": {},
     "output_type": "execute_result"
    }
   ],
   "source": [
    "decode(model.translate(\"location of univé ?\"))"
   ]
  },
  {
   "cell_type": "code",
   "execution_count": 7,
   "metadata": {},
   "outputs": [
    {
     "data": {
      "text/plain": "'SELECT DISTINCT var_a WHERE brack_open var_x eiopa-Base:hasEUCountryWhereEntityOperates var_a sep_dot var_x eiopa-Base:hasInsuranceUndertakingID w1963 sep_dot brack_close'"
     },
     "execution_count": 7,
     "metadata": {},
     "output_type": "execute_result"
    }
   ],
   "source": [
    "model.translate(\"In what country does w1963 operate?\")"
   ]
  },
  {
   "cell_type": "code",
   "execution_count": 8,
   "metadata": {},
   "outputs": [
    {
     "data": {
      "text/plain": "'SELECT DISTINCT var_a WHERE brack_open var_s gleif-L1:hasLegalName w1889 sep_dot var_e gleif-Base:identifies var_s sep_dot var_e eiopa-Base:hasInsuranceUndertakingID var_a sep_dot brack_close'"
     },
     "execution_count": 8,
     "metadata": {},
     "output_type": "execute_result"
    }
   ],
   "source": [
    "model.translate(\"Legal name of w1889?\")"
   ]
  },
  {
   "cell_type": "code",
   "execution_count": 9,
   "metadata": {},
   "outputs": [
    {
     "data": {
      "text/plain": "'SELECT DISTINCT var_a WHERE brack_open var_s gleif-L1:hasLegalName stad holland zorgverzekeraar onderlinge waarborgmaatschappij u.a sep_dot sep_dot var_e gleif-Base:identifies var_s sep_dot var_e eiopa-Base:hasEUCountryWhereEntityOperates var_a sep_dot brack_close'"
     },
     "execution_count": 9,
     "metadata": {},
     "output_type": "execute_result"
    }
   ],
   "source": [
    "model.translate(\"In what country does stad holland zorgverzekeraar onderlinge waarborgmaatschappij u.a. operate?\")"
   ]
  },
  {
   "cell_type": "code",
   "execution_count": 10,
   "metadata": {},
   "outputs": [
    {
     "data": {
      "text/plain": "'SELECT DISTINCT var_o WHERE brack_open var_s gleif-L1:hasLegalName onderlinge verzekeringsmaatschappij de veenhoop u.a sep_dot sep_dot var_e gleif-Base:identifies var_s sep_dot var_e eiopa-Base:hasNCA var_o sep_dot brack_close'"
     },
     "execution_count": 10,
     "metadata": {},
     "output_type": "execute_result"
    }
   ],
   "source": [
    "model.translate(\"Who is the supervisor of onderlinge verzekeringsmaatschappij de veenhoop u.a.?\")"
   ]
  },
  {
   "cell_type": "code",
   "execution_count": 11,
   "metadata": {},
   "outputs": [
    {
     "data": {
      "text/plain": "'SELECT DISTINCT var_a WHERE brack_open var_s gleif-L1:hasLegalName uk p&i club n.v sep_dot sep_dot var_e gleif-Base:identifies var_s sep_dot var_e eiopa-Base:hasInsuranceUndertakingID var_a sep_dot brack_close'"
     },
     "execution_count": 11,
     "metadata": {},
     "output_type": "execute_result"
    }
   ],
   "source": [
    "model.translate(\"What is uk p&i club n.v.'s register name?\")"
   ]
  },
  {
   "cell_type": "code",
   "execution_count": 12,
   "metadata": {},
   "outputs": [
    {
     "data": {
      "text/plain": "'select var_a where brack_open var_x gleif-L1:hasLegalName n.v sep_dot univé schade sep_dot var_x gleif-L1:hasLegalAddress/gleif-base:hasCity var_a sep_dot brack_close'"
     },
     "execution_count": 12,
     "metadata": {},
     "output_type": "execute_result"
    }
   ],
   "source": [
    "model.translate(\"where is n.v. univé schade?\")"
   ]
  },
  {
   "cell_type": "code",
   "execution_count": 13,
   "metadata": {},
   "outputs": [
    {
     "data": {
      "text/plain": "'SELECT DISTINCT var_a WHERE brack_open var_s gleif-L1:hasLegalName achmea zorgverzekeringen n.v sep_dot sep_dot var_e gleif-Base:identifies var_s sep_dot var_e eiopa-Base:hasEUCountryWhereEntityOperates var_a sep_dot brack_close'"
     },
     "execution_count": 13,
     "metadata": {},
     "output_type": "execute_result"
    }
   ],
   "source": [
    "model.translate(\"Where does achmea zorgverzekeringen n.v. operate?\")"
   ]
  },
  {
   "cell_type": "code",
   "execution_count": 13,
   "metadata": {},
   "outputs": [],
   "source": []
  }
 ],
 "metadata": {
  "kernelspec": {
   "display_name": "Python [conda env:nqm_fairseq] *",
   "language": "python",
   "name": "conda-env-nqm_fairseq-py"
  },
  "language_info": {
   "codemirror_mode": {
    "name": "ipython",
    "version": 3
   },
   "file_extension": ".py",
   "mimetype": "text/x-python",
   "name": "python",
   "nbconvert_exporter": "python",
   "pygments_lexer": "ipython3",
   "version": "3.8.8"
  }
 },
 "nbformat": 4,
 "nbformat_minor": 5
}