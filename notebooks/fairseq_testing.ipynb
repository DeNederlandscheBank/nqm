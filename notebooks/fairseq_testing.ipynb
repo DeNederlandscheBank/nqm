{
 "cells": [
  {
   "cell_type": "code",
   "execution_count": 1,
   "metadata": {},
   "outputs": [],
   "source": [
    "import fairseq\n",
    "import os\n",
    "import torch\n",
    "\n",
    "from fairseq.models.transformer import TransformerModel\n",
    "from os.path import join, exists\n",
    "from src_eiopa.features.generator_utils import sparql_decode"
   ]
  },
  {
   "cell_type": "code",
   "execution_count": 2,
   "metadata": {},
   "outputs": [],
   "source": [
    "fairseq_folder = join('..','data','eiopa','4_dictionaries','fairseq-data-bin-31181')\n",
    "data_path = join('..','data','eiopa','4_dictionaries','data_24-03_14-14_31181_')\n",
    "model_path = join('..','models','transformer_iwslt_de_en_20226912')"
   ]
  },
  {
   "cell_type": "code",
   "execution_count": 4,
   "metadata": {},
   "outputs": [],
   "source": [
    "model = TransformerModel.from_pretrained(\n",
    "  '../models/',\n",
    "  checkpoint_file='./transformer_iwslt_de_en_20226912/checkpoint_best.pt',\n",
    "  data_name_or_path='/Users/jan_marcglowienke/Documents/University/Master_Courses/Thesis/3_Code/data/eiopa/4_dictionaries/fairseq-data-bin-31181',\n",
    "  # bpe='subword_nmt',\n",
    "  # bpe_codes='bpecodes',\n",
    "  tokenizer = 'moses'\n",
    ")"
   ]
  },
  {
   "cell_type": "code",
   "execution_count": 5,
   "metadata": {},
   "outputs": [
    {
     "data": {
      "text/plain": "'SELECT DISTINCT var_a WHERE brack_open var_s gleif-L1:hasLegalName univé het groene hart brandverzekeraar n.v sep_dot sep_dot var_e gleif-Base:identifies var_s sep_dot var_e eiopa-Base:hasEUCountryWhereEntityOperates var_a sep_dot brack_close'"
     },
     "execution_count": 5,
     "metadata": {},
     "output_type": "execute_result"
    }
   ],
   "source": [
    "model.translate(\"Where is univé het groene hart brandverzekeraar n.v. located and what is the registration number?\")"
   ]
  },
  {
   "cell_type": "code",
   "execution_count": null,
   "metadata": {},
   "outputs": [],
   "source": [
    "sparql_decode(model.translate(\"location of 'allianz' ?\"))"
   ]
  },
  {
   "cell_type": "code",
   "execution_count": null,
   "metadata": {},
   "outputs": [],
   "source": [
    "model.translate(\"In what country does w1963 operate?\")"
   ]
  },
  {
   "cell_type": "code",
   "execution_count": null,
   "metadata": {},
   "outputs": [],
   "source": [
    "model.translate(\"Legal name of w1889?\")"
   ]
  },
  {
   "cell_type": "code",
   "execution_count": null,
   "metadata": {},
   "outputs": [],
   "source": [
    "model.translate(\"In what country does stad holland zorgverzekeraar onderlinge waarborgmaatschappij u.a. operate?\")"
   ]
  },
  {
   "cell_type": "code",
   "execution_count": null,
   "metadata": {},
   "outputs": [],
   "source": [
    "model.translate(\"Who is the supervisor of onderlinge verzekeringsmaatschappij de veenhoop u.a.?\")"
   ]
  },
  {
   "cell_type": "code",
   "execution_count": null,
   "metadata": {},
   "outputs": [],
   "source": [
    "model.translate(\"What is uk p&i club n.v.'s register name?\")"
   ]
  },
  {
   "cell_type": "code",
   "execution_count": null,
   "metadata": {},
   "outputs": [],
   "source": [
    "model.translate(\"where is n.v. univé schade?\")"
   ]
  },
  {
   "cell_type": "code",
   "execution_count": null,
   "metadata": {},
   "outputs": [],
   "source": [
    "model.translate(\"Where does achmea zorgverzekeringen n.v. operate?\")"
   ]
  },
  {
   "cell_type": "code",
   "execution_count": null,
   "metadata": {},
   "outputs": [],
   "source": []
  }
 ],
 "metadata": {
  "kernelspec": {
   "display_name": "Python [conda env:nqm_fairseq] *",
   "language": "python",
   "name": "conda-env-nqm_fairseq-py"
  },
  "language_info": {
   "codemirror_mode": {
    "name": "ipython",
    "version": 3
   },
   "file_extension": ".py",
   "mimetype": "text/x-python",
   "name": "python",
   "nbconvert_exporter": "python",
   "pygments_lexer": "ipython3",
   "version": "3.8.8"
  }
 },
 "nbformat": 4,
 "nbformat_minor": 5
}