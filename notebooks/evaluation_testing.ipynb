{
 "cells": [
  {
   "cell_type": "code",
   "execution_count": 6,
   "metadata": {},
   "outputs": [],
   "source": [
    "import fairseq\n",
    "from os.path import join\n",
    "import torch\n",
    "from fairseq.models.transformer import TransformerModel\n",
    "\n",
    "from generator import initialize_graph,get_name\n",
    "from generator_utils import sparql_decode"
   ]
  },
  {
   "cell_type": "code",
   "execution_count": 2,
   "metadata": {
    "pycharm": {
     "name": "#%%\n"
    }
   },
   "outputs": [],
   "source": [
    "fairseq_folder = join('..','..','data','eiopa','5_model_input','fairseq-data-bin-31181')\n",
    "model_path = join('..','..','models','transformer_iwslt_de_en_20226912')\n",
    "out_path=model_path + '/out_31181'\n",
    "graph_path = join('..','..','data','eiopa','1_external')"
   ]
  },
  {
   "cell_type": "code",
   "execution_count": 3,
   "metadata": {
    "pycharm": {
     "name": "#%%\n"
    }
   },
   "outputs": [
    {
     "name": "stdout",
     "output_type": "stream",
     "text": [
      "Graph has 376260 statements.\n"
     ]
    }
   ],
   "source": [
    "graph = initialize_graph(graph_path)"
   ]
  },
  {
   "cell_type": "code",
   "execution_count": 4,
   "metadata": {
    "pycharm": {
     "name": "#%%\n"
    }
   },
   "outputs": [],
   "source": [
    "model = TransformerModel.from_pretrained(\n",
    "  '../../models/',\n",
    "  checkpoint_file='./transformer_iwslt_de_en_20226912/checkpoint_best.pt',\n",
    "  data_name_or_path='/Users/jan_marcglowienke/Documents/University/Master_Courses/Thesis/3_Code/data/eiopa/5_model_input/fairseq-data-bin-31181',\n",
    "    tokenizer = 'moses',\n",
    "   # bpe='subword_nmt',\n",
    "   # bpe_codes='bpecodes'\n",
    ")"
   ]
  },
  {
   "cell_type": "code",
   "execution_count": 7,
   "metadata": {
    "pycharm": {
     "name": "#%%\n"
    }
   },
   "outputs": [
    {
     "data": {
      "text/plain": [
       "'SELECT DISTINCT ?a WHERE{?x eiopa-Base:hasEUCountryWhereEntityOperates ?a . ?x eiopa-Base:hasInsuranceUndertakingID w1963 . }'"
      ]
     },
     "execution_count": 7,
     "metadata": {},
     "output_type": "execute_result"
    }
   ],
   "source": [
    "output = model.translate(\"In what country does w1963 operate?\")\n",
    "sparql_decode(output)"
   ]
  },
  {
   "cell_type": "code",
   "execution_count": 8,
   "metadata": {
    "pycharm": {
     "name": "#%%\n"
    }
   },
   "outputs": [
    {
     "name": "stdout",
     "output_type": "stream",
     "text": [
      "NL\n"
     ]
    }
   ],
   "source": [
    "q = \"SELECT DISTINCT ?a WHERE{\" \\\n",
    "    \"?x eiopa-Base:hasEUCountryWhereEntityOperates ?a .\" \\\n",
    "    \" ?x eiopa-Base:hasInsuranceUndertakingID 'W1963' . }\"\n",
    "\n",
    "results = graph.query(q)\n",
    "\n",
    "for line in results:\n",
    "    for item in line:\n",
    "        print(get_name(item))"
   ]
  },
  {
   "cell_type": "code",
   "execution_count": 62,
   "metadata": {
    "pycharm": {
     "name": "#%%\n"
    },
    "scrolled": true
   },
   "outputs": [],
   "source": [
    "results = []\n",
    "file = out_path + '/generate-test_1.txt'\n",
    "out = out_path + '/true_generated_queries_1.txt'\n",
    "with open(file,'r') as f:\n",
    "    for line in f.readlines():\n",
    "        if line.startswith('T') is True:\n",
    "            head, sentence = line.split('\\t')\n",
    "            # only take index number and sentence, delete \\n from end of sentence\n",
    "            tmp = [int(head.split('-')[1]),sparql_decode(sentence[:-1])]\n",
    "        elif line.startswith('H') is True:\n",
    "            head, score, sentence = line.split('\\t')\n",
    "            if int(head.split('-')[1]) == tmp[0]:\n",
    "                tmp.append(sparql_decode(line.split('\\t')[2][:-1]))\n",
    "                results.append(tmp)\n",
    "                del tmp\n",
    "            else: \n",
    "                raise ValueError(\"Mismatch in available true and translated sentences! \\n Please check that for every true sentence (T) there is an translation available (H) in the generated file! Error ocurred for translation {}\".format(head))\n",
    "        elif line.startswith('Generate') is True:\n",
    "            result = line[:-1]\n",
    "f.close()\n",
    "with open(out,'w',encoding='utf-8') as target:\n",
    "    for line in results:\n",
    "        for item in line:\n",
    "            target.writelines(str(item) + ', ')\n",
    "        target.writelines('\\n')"
   ]
  },
  {
   "cell_type": "code",
   "execution_count": null,
   "metadata": {
    "pycharm": {
     "name": "#%%\n"
    }
   },
   "outputs": [],
   "source": [
    "# with open(inp) as f:\n",
    "#     results = list()\n",
    "#     for line in filter(lambda x: x.startswith('H'), f.readlines()):\n",
    "#         line = line.strip()\n",
    "#         head, score, sentence = line.split('\\t')\n",
    "#         results.append((int(head.split('-')[1]), sentence))\n",
    "#     results.sort(key=lambda x: x[0])\n",
    "#     print(*[r[1] for r in results], sep='\\n')"
   ]
  },
  {
   "cell_type": "code",
   "execution_count": 48,
   "metadata": {
    "pycharm": {
     "name": "#%%\n"
    }
   },
   "outputs": [
    {
     "data": {
      "text/plain": [
       "'Generate test with beam=5: BLEU4 = 85.61, 91.7/88.1/83.3/79.9 (BP=1.000, ratio=1.043, syslen=13932, reflen=13360)'"
      ]
     },
     "execution_count": 48,
     "metadata": {},
     "output_type": "execute_result"
    }
   ],
   "source": [
    "result"
   ]
  },
  {
   "cell_type": "code",
   "execution_count": null,
   "metadata": {},
   "outputs": [],
   "source": []
  }
 ],
 "metadata": {
  "kernelspec": {
   "display_name": "Python [conda env:nqm_fairseq] *",
   "language": "python",
   "name": "conda-env-nqm_fairseq-py"
  },
  "language_info": {
   "codemirror_mode": {
    "name": "ipython",
    "version": 3
   },
   "file_extension": ".py",
   "mimetype": "text/x-python",
   "name": "python",
   "nbconvert_exporter": "python",
   "pygments_lexer": "ipython3",
   "version": "3.8.8"
  }
 },
 "nbformat": 4,
 "nbformat_minor": 1
}
