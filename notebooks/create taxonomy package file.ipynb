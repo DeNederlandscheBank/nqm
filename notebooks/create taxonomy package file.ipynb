{
 "cells": [
  {
   "cell_type": "code",
   "execution_count": null,
   "metadata": {
    "scrolled": true
   },
   "outputs": [],
   "source": [
    "from os import listdir\n",
    "from os.path import join, isfile\n",
    "from lxml import etree\n",
    "from src.data import PackageManager\n",
    "from src.data import XbrlConst\n",
    "from collections import defaultdict\n",
    "from src.data import xbrl2rdf"
   ]
  },
  {
   "cell_type": "code",
   "execution_count": null,
   "metadata": {},
   "outputs": [],
   "source": [
    "XBRL_TAXONOMY_PATH = join('..', 'data', 'external', 'taxonomies')\n",
    "\n",
    "taxonomies = [f for f in listdir(XBRL_TAXONOMY_PATH) if isfile(join(XBRL_TAXONOMY_PATH, f)) and f[-3:]=='zip']\n",
    "\n",
    "manager = PackageManager.Taxonomies(XBRL_TAXONOMY_PATH)\n",
    "\n",
    "for taxonomy in taxonomies:\n",
    "    manager.addPackage(join(XBRL_TAXONOMY_PATH, taxonomy))\n",
    "manager.rebuildRemappings()\n",
    "manager.save()\n",
    "for item in manager.config['packages']:\n",
    "    print(item['URL'])"
   ]
  },
  {
   "cell_type": "code",
   "execution_count": null,
   "metadata": {},
   "outputs": [],
   "source": []
  },
  {
   "cell_type": "code",
   "execution_count": null,
   "metadata": {},
   "outputs": [],
   "source": [
    "import src.data"
   ]
  },
  {
   "cell_type": "code",
   "execution_count": null,
   "metadata": {},
   "outputs": [],
   "source": [
    "f = src.data.openFileSource(manager.config['packages'][2]['URL'])\n",
    "f.mappedPaths = manager.config['packages'][1][\"remappings\"]"
   ]
  },
  {
   "cell_type": "code",
   "execution_count": null,
   "metadata": {
    "scrolled": true
   },
   "outputs": [],
   "source": [
    "xmlfiles = [file for file in f.dir if (file[-3:]=='xml') and ('eiopa.europa.eu/eu/xbrl' in file)]"
   ]
  },
  {
   "cell_type": "code",
   "execution_count": null,
   "metadata": {},
   "outputs": [],
   "source": [
    "xmlfiles[101]"
   ]
  },
  {
   "cell_type": "code",
   "execution_count": null,
   "metadata": {},
   "outputs": [],
   "source": [
    "roots = list()\n",
    "\n",
    "for file in xmlfiles[0:50]:\n",
    "    fp = f.fs.open(file, \"r\")\n",
    "    content = fp.read()\n",
    "    roots.append(etree.fromstring(content, parser=etree.XMLParser(remove_comments=True)))"
   ]
  },
  {
   "cell_type": "code",
   "execution_count": null,
   "metadata": {
    "scrolled": true
   },
   "outputs": [],
   "source": [
    "for idx, root in enumerate(roots):\n",
    "    xbrl2rdf.processLinkBase(root, xmlfiles[idx], root.nsmap)"
   ]
  },
  {
   "cell_type": "code",
   "execution_count": null,
   "metadata": {
    "scrolled": true
   },
   "outputs": [],
   "source": [
    "# referencedNamespaces = set()\n",
    "# hrefObjects = []\n",
    "# baseSets = defaultdict(list)\n",
    "# resources = dict()\n",
    "\n",
    "# def discoverHref(element):\n",
    "#     href = element.get(\"{http://www.w3.org/1999/xlink}href\")\n",
    "#     if href:\n",
    "#         url, identifier = src.data.UrlUtil.splitDecodeFragment(href)\n",
    "#         href = (element, url, identifier if len(identifier) > 0 else None)\n",
    "#         hrefObjects.append(href)\n",
    "#         return href\n",
    "#     else:\n",
    "#         return None\n",
    "\n",
    "# element_dict = dict()\n",
    "    \n",
    "# for idx, root in enumerate(roots):\n",
    "#     for linkbaseElement in root.iter(tag=\"{http://www.xbrl.org/2003/linkbase}linkbase\"):\n",
    "#         for element in linkbaseElement:\n",
    "#             d = dict()\n",
    "#             linkQn = etree.QName(element)\n",
    "#             linkrole = element.get(\"{http://www.w3.org/1999/xlink}role\", \"\")\n",
    "#             if linkQn.namespace == XbrlConst.link:\n",
    "#                 if linkQn.localname in [\"roleRef\", \"arcroleRef\"]:\n",
    "#                     href = discoverHref(element)\n",
    "#                     if href is None:\n",
    "#                         print(\"error\")\n",
    "#             if element.get(\"{http://www.w3.org/1999/xlink}type\") == \"extended\":\n",
    "#                 d_links = dict()\n",
    "#                 arcrolesFound = set()\n",
    "#                 for linkElement in element.iterchildren():\n",
    "#                     arcrolesFound = set()\n",
    "#                     xlinkType = linkElement.get(\"{http://www.w3.org/1999/xlink}type\")\n",
    "#                     modelResource = None\n",
    "#                     if xlinkType == \"locator\":\n",
    "#                         href = discoverHref(linkElement)\n",
    "#                         modelResource = linkElement\n",
    "#                         d['locator'] = linkElement\n",
    "#                         d['href'] = href\n",
    "#                     elif xlinkType == \"arc\":\n",
    "#                         arcQn = etree.QName(linkElement)\n",
    "#                         arcrole = linkElement.get(\"{http://www.w3.org/1999/xlink}arcrole\")\n",
    "#                         if arcrole not in arcrolesFound:\n",
    "#                             baseSetKeys = [(arcrole, linkrole, linkQn, arcQn)]\n",
    "#                             baseSetKeys.append((arcrole, linkrole, None, None))\n",
    "#                             baseSetKeys.append((arcrole, None, None, None))\n",
    "#                             if XbrlConst.isDimensionArcrole(arcrole):\n",
    "#                                 d['arc'] = 'XBRL-dimensions'\n",
    "#                                 baseSetKeys.append((\"XBRL-dimensions\", linkrole, None, None))\n",
    "#                                 baseSetKeys.append((\"XBRL-dimensions\", None, None, None))\n",
    "#                             if XbrlConst.isFormulaArcrole(arcrole):\n",
    "#                                 d['arc'] = 'XBRL-formulae'\n",
    "#                                 baseSetKeys.append((\"XBRL-formulae\", linkrole, None, None))\n",
    "#                                 baseSetKeys.append((\"XBRL-formulae\", None, None, None))\n",
    "#                             if XbrlConst.isTableRenderingArcrole(arcrole):\n",
    "#                                 d['arc'] = 'Table-rendering'\n",
    "#                                 baseSetKeys.append((\"Table-rendering\", linkrole, None, None)) \n",
    "#                                 baseSetKeys.append((\"Table-rendering\", None, None, None)) \n",
    "#                             for baseSetKey in baseSetKeys:\n",
    "#                                 baseSets[baseSetKey].append(element)\n",
    "#                             arcrolesFound.add(arcrole)\n",
    "#                     elif xlinkType == \"resource\": \n",
    "#                         d['resource'] = linkElement\n",
    "#                         modelResource = linkElement\n",
    "#                     if modelResource is not None:\n",
    "#                         if element not in resources.keys():\n",
    "#                             resources[element] = defaultdict(list)\n",
    "#                         resources[element][linkElement.get(\"{http://www.w3.org/1999/xlink}label\")].append(modelResource)\n",
    "#                         d_links[linkElement.get(\"{http://www.w3.org/1999/xlink}label\")] = modelResource\n",
    "#                 d['links'] = d_links\n",
    "#                 element_dict[element] = d\n",
    "# #             else:\n",
    "# #                 print(\"Not extended: \" + str(element.get(\"{http://www.w3.org/1999/xlink}type\")))"
   ]
  },
  {
   "cell_type": "code",
   "execution_count": null,
   "metadata": {},
   "outputs": [],
   "source": [
    "list(element_dict.values())[411:412]"
   ]
  },
  {
   "cell_type": "code",
   "execution_count": null,
   "metadata": {},
   "outputs": [],
   "source": [
    "a = list(resources.values())[420]\n",
    "a['label_s2c_x0'][0].text"
   ]
  },
  {
   "cell_type": "code",
   "execution_count": null,
   "metadata": {},
   "outputs": [],
   "source": []
  }
 ],
 "metadata": {
  "kernelspec": {
   "display_name": "Python 3",
   "language": "python",
   "name": "python3"
  },
  "language_info": {
   "codemirror_mode": {
    "name": "ipython",
    "version": 3
   },
   "file_extension": ".py",
   "mimetype": "text/x-python",
   "name": "python",
   "nbconvert_exporter": "python",
   "pygments_lexer": "ipython3",
   "version": "3.7.9"
  }
 },
 "nbformat": 4,
 "nbformat_minor": 4
}
