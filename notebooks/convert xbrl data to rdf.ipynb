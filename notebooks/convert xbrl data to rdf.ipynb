{
 "cells": [
  {
   "cell_type": "code",
   "execution_count": null,
   "metadata": {},
   "outputs": [],
   "source": [
    "from lxml import etree\n",
    "from os.path import join, isfile\n",
    "from os import listdir\n",
    "from src.data import xbrl2rdf"
   ]
  },
  {
   "cell_type": "code",
   "execution_count": null,
   "metadata": {},
   "outputs": [],
   "source": [
    "base_dir = join(\"..\", \"data\", \"external\",\"instances\")\n",
    "output_dir = join(\"..\", \"data\", \"raw\")"
   ]
  },
  {
   "cell_type": "code",
   "execution_count": null,
   "metadata": {},
   "outputs": [],
   "source": [
    "xbrl_files = [f for f in listdir(base_dir) if (isfile(join(base_dir, f))) and f[-4:].lower()=='xbrl']\n",
    "for file in xbrl_files:\n",
    "    print(\"processing: \"+str(file))\n",
    "    base = join(base_dir, file)\n",
    "    with open(base, \"rb\") as fp:\n",
    "        root = etree.fromstring(fp.read(), parser=etree.XMLParser(remove_comments=True))\n",
    "    instance = xbrl2rdf.processInstance(root, file, root.nsmap)\n",
    "    print(\"      write to: \" +str(join(file[:-5] + '.ttl')))\n",
    "    with open(join(output_dir, file[:-5]+'.ttl'), 'w') as fp:\n",
    "        fp.write(str(instance['output'].getvalue()))"
   ]
  },
  {
   "cell_type": "code",
   "execution_count": null,
   "metadata": {},
   "outputs": [],
   "source": []
  }
 ],
 "metadata": {
  "kernelspec": {
   "display_name": "Python 3",
   "language": "python",
   "name": "python3"
  },
  "language_info": {
   "codemirror_mode": {
    "name": "ipython",
    "version": 3
   },
   "file_extension": ".py",
   "mimetype": "text/x-python",
   "name": "python",
   "nbconvert_exporter": "python",
   "pygments_lexer": "ipython3",
   "version": "3.7.9"
  }
 },
 "nbformat": 4,
 "nbformat_minor": 4
}
