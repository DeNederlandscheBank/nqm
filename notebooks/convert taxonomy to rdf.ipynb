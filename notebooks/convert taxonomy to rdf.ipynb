{
 "cells": [
  {
   "cell_type": "code",
   "execution_count": null,
   "metadata": {
    "scrolled": false
   },
   "outputs": [],
   "source": [
    "from os import listdir\n",
    "from os.path import join, isfile\n",
    "from lxml import etree\n",
    "from src.data import PackageManager\n",
    "from src.data import XbrlConst\n",
    "from collections import defaultdict\n",
    "from src.data import xbrl2rdf, process_linkbase, process_instance, process_schema\n",
    "import src.data\n",
    "from io import StringIO, BytesIO\n",
    "import rdflib"
   ]
  },
  {
   "cell_type": "code",
   "execution_count": null,
   "metadata": {
    "scrolled": true
   },
   "outputs": [],
   "source": [
    "XBRL_TAXONOMY_PATH = join('..', 'data', 'external', 'taxonomies')\n",
    "output_dir = join(\"..\", \"data\", \"raw\")\n",
    "\n",
    "taxonomies = [f for f in listdir(XBRL_TAXONOMY_PATH) if isfile(join(XBRL_TAXONOMY_PATH, f)) and f[-3:]=='zip']\n",
    "\n",
    "manager = PackageManager.Taxonomies(XBRL_TAXONOMY_PATH)\n",
    "\n",
    "for taxonomy in taxonomies:\n",
    "    manager.addPackage(join(XBRL_TAXONOMY_PATH, taxonomy))\n",
    "manager.rebuildRemappings()\n",
    "manager.save()\n",
    "for item in manager.config['packages']:\n",
    "    print(item['URL'])"
   ]
  },
  {
   "cell_type": "code",
   "execution_count": null,
   "metadata": {},
   "outputs": [],
   "source": [
    "f = src.data.openFileSource(manager.config['packages'][2]['URL'])\n",
    "f.mappedPaths = manager.config['packages'][1][\"remappings\"]\n",
    "\n",
    "package_name = manager.config['packages'][2]['name']\n",
    "package_uri = manager.config['packages'][2]['URL']"
   ]
  },
  {
   "cell_type": "code",
   "execution_count": null,
   "metadata": {
    "scrolled": true
   },
   "outputs": [],
   "source": [
    "xmlfiles = [file for file in f.dir if (file[-3:] in ['xsd', 'xml'])]\n",
    "print(len(xmlfiles))"
   ]
  },
  {
   "cell_type": "code",
   "execution_count": null,
   "metadata": {},
   "outputs": [],
   "source": [
    "roots = list()\n",
    "\n",
    "for file in xmlfiles:\n",
    "    fp = f.fs.open(file, \"r\")\n",
    "    content = fp.read()\n",
    "    roots.append(etree.fromstring(content, parser=etree.XMLParser(remove_comments=True)))"
   ]
  },
  {
   "cell_type": "code",
   "execution_count": null,
   "metadata": {},
   "outputs": [],
   "source": [
    "namespaces = {'rdf': 'http://www.w3.org/1999/02/22-rdf-syntax-ns#',\n",
    "              'rdfs': 'http://www.w3.org/2000/01/rdf-schema#',\n",
    "              'xl': 'http://www.xbrl.org/2003/XLink',\n",
    "              'xsd': 'http://www.w3.org/2001/XMLSchema',\n",
    "              'ext': 'http://eiopa.europa.eu/xbrl/ext',\n",
    "              'xbrll': 'https://w3id.org/vocab/xbrll'}\n",
    "                          \n",
    "#               'eurofiling_arcrole': 'http://www.eurofiling.info/xbrl/arcrole',\n",
    "#               'element_label': 'http://xbrl.org/arcrole/2008/element-label',\n",
    "#               'link_role': 'http://www.xbrl.org/2003/role/link',\n",
    "#               'standard_label': 'http://www.xbrl.org/2003/role/label',\n",
    "#               'concept_label': 'http://www.xbrl.org/2003/arcrole/concept-label',\n",
    "#               'parent_child': 'http://www.xbrl.org/2003/arcrole/parent-child',\n",
    "#               'role_2003': 'http://www.xbrl.org/2003/role',\n",
    "#               'role_2010': 'http://www.xbrl.org/2010/role',\n",
    "#               'arcrole_dim': 'http://xbrl.org/int/dim/arcrole',\n",
    "#               's2c_LB_role': 'http://eiopa.europa.eu/xbrl/s2c/role/dict/dom/LB'}\n",
    "for idx, root in enumerate(roots):\n",
    "    namespaces = {**namespaces, **root.nsmap}\n",
    "if None in namespaces.keys():\n",
    "    del namespaces[None]"
   ]
  },
  {
   "cell_type": "code",
   "execution_count": null,
   "metadata": {
    "scrolled": true
   },
   "outputs": [],
   "source": [
    "g = rdflib.Graph()\n",
    "\n",
    "def process_files(process_function, package_name, extension, output_file):\n",
    "\n",
    "    params = {'linkNumber' : 0, 'namespaces': namespaces}\n",
    "\n",
    "    prefix = '# RDF triples (in turtle syntax) imported from XBRL resource\\n'\n",
    "    prefix += '# URI:  '+package_uri+'\\n'\n",
    "    prefix += '# name: '+package_name+'\\n\\n'\n",
    "    prefix += '# the namespaces\\n'\n",
    "    for namespace in namespaces.keys():\n",
    "        prefix += \"@prefix \"+namespace+\": <\"+namespaces[namespace]+\">.\\n\"\n",
    "    prefix += '\\n'\n",
    "\n",
    "    s = prefix\n",
    "    for idx, root in enumerate(roots):\n",
    "        params['output'] = StringIO()\n",
    "        params['base'] = \"http://\"+\"/\".join(xmlfiles[idx].split(\"/\")[1:-1])\n",
    "        if xmlfiles[idx][-3:]==extension:\n",
    "            params = process_function(root, params)\n",
    "        string = params['output'].getvalue().replace('\\u2264', '')\n",
    "        s += string\n",
    "        try:\n",
    "            g.parse(data=prefix+string, format='turtle')\n",
    "        except:\n",
    "            print(s)\n",
    "\n",
    "    fp = open(join(output_dir, output_file), \"w\", encoding = \"utf-8\")\n",
    "    fp.write(s)\n",
    "    fp.close()\n",
    "\n",
    "process_files(process_schema.processSchema, package_name, 'xsd', \"schema.ttl\")\n",
    "process_files(process_linkbase.processLinkBase, package_name, 'xml', \"linkbase.ttl\")"
   ]
  },
  {
   "cell_type": "code",
   "execution_count": null,
   "metadata": {},
   "outputs": [],
   "source": [
    "# print the number of \"triples\" in the Graph\n",
    "print(\"graph has {} statements.\".format(len(g)))"
   ]
  },
  {
   "cell_type": "code",
   "execution_count": null,
   "metadata": {},
   "outputs": [],
   "source": [
    "print(s)"
   ]
  },
  {
   "cell_type": "code",
   "execution_count": null,
   "metadata": {},
   "outputs": [],
   "source": []
  }
 ],
 "metadata": {
  "kernelspec": {
   "display_name": "Python 3",
   "language": "python",
   "name": "python3"
  },
  "language_info": {
   "codemirror_mode": {
    "name": "ipython",
    "version": 3
   },
   "file_extension": ".py",
   "mimetype": "text/x-python",
   "name": "python",
   "nbconvert_exporter": "python",
   "pygments_lexer": "ipython3",
   "version": "3.7.9"
  }
 },
 "nbformat": 4,
 "nbformat_minor": 4
}
