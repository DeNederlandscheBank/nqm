{
 "cells": [
  {
   "cell_type": "code",
   "execution_count": 1,
   "metadata": {
    "scrolled": false
   },
   "outputs": [],
   "source": [
    "from os import listdir\n",
    "from os.path import join, isfile\n",
    "from lxml import etree\n",
    "from src.data import PackageManager\n",
    "from src.data import XbrlConst\n",
    "from collections import defaultdict\n",
    "from src.data import xbrl2rdf, process_linkbase, process_instance\n",
    "import src.data"
   ]
  },
  {
   "cell_type": "code",
   "execution_count": 2,
   "metadata": {
    "scrolled": true
   },
   "outputs": [
    {
     "name": "stdout",
     "output_type": "stream",
     "text": [
      "Packages overlap the same rewrite start string http://www.dnb.nl/\n",
      "Packages overlap the same rewrite start string http://www.dnb.nl/\n",
      "Packages overlap the same rewrite start string http://www.dnb.nl/\n",
      "Packages overlap the same rewrite start string http://www.dnb.nl/\n",
      "Packages overlap the same rewrite start string http://www.dnb.nl/\n",
      "Packages overlap the same rewrite start string http://www.dnb.nl/\n",
      "Packages overlap the same rewrite start string http://www.eurofiling.info/\n",
      "Packages overlap the same rewrite start string http://www.eurofiling.info/\n",
      "Packages overlap the same rewrite start string http://www.eurofiling.info/\n",
      "Packages overlap the same rewrite start string http://www.eurofiling.info/\n",
      "Packages overlap the same rewrite start string http://www.eurofiling.info/\n",
      "Packages overlap the same rewrite start string http://www.eurofiling.info/\n",
      "Packages overlap the same rewrite start string http://www.eurofiling.info/\n",
      "Packages overlap the same rewrite start string http://www.eurofiling.info/\n",
      "Packages overlap the same rewrite start string http://www.eurofiling.info/\n",
      "Packages overlap the same rewrite start string http://www.eurofiling.info/\n",
      "Packages overlap the same rewrite start string http://www.xbrl.org/\n",
      "Packages overlap the same rewrite start string http://www.xbrl.org/\n",
      "Packages overlap the same rewrite start string http://www.xbrl.org/\n",
      "Packages overlap the same rewrite start string http://www.xbrl.org/\n",
      "Packages overlap the same rewrite start string http://www.xbrl.org/\n",
      "Packages overlap the same rewrite start string http://www.xbrl.org/\n",
      "Packages overlap the same rewrite start string http://www.xbrl.org/\n",
      "Packages overlap the same rewrite start string http://www.xbrl.org/\n",
      "Packages overlap the same rewrite start string http://www.xbrl.org/\n",
      "Packages overlap the same rewrite start string http://www.xbrl.org/\n",
      "..\\data\\external\\taxonomies\\DNB_FBO_20180930_TaxonomyPackage.zip\n",
      "..\\data\\external\\taxonomies\\EBA_CRD_IV_XBRL_2.9_Dictionary_2.9.1.0.zip\n",
      "..\\data\\external\\taxonomies\\EIOPA_SolvencyII_XBRL_Taxonomy_2.4.0_with_external_hotfix.zip\n",
      "..\\data\\external\\taxonomies\\FTK Taxonomy 2.1.0_tcm46-386386.zip\n",
      "..\\data\\external\\taxonomies\\PPI Taxonomy 2.1.0_tcm46-386395.zip\n",
      "..\\data\\external\\taxonomies\\PPSP - 1.0 - Taxonomy_tcm46-375285.zip\n"
     ]
    }
   ],
   "source": [
    "XBRL_TAXONOMY_PATH = join('..', 'data', 'external', 'taxonomies')\n",
    "output_dir = join(\"..\", \"data\", \"raw\")\n",
    "\n",
    "taxonomies = [f for f in listdir(XBRL_TAXONOMY_PATH) if isfile(join(XBRL_TAXONOMY_PATH, f)) and f[-3:]=='zip']\n",
    "\n",
    "manager = PackageManager.Taxonomies(XBRL_TAXONOMY_PATH)\n",
    "\n",
    "for taxonomy in taxonomies:\n",
    "    manager.addPackage(join(XBRL_TAXONOMY_PATH, taxonomy))\n",
    "manager.rebuildRemappings()\n",
    "manager.save()\n",
    "for item in manager.config['packages']:\n",
    "    print(item['URL'])"
   ]
  },
  {
   "cell_type": "code",
   "execution_count": 3,
   "metadata": {},
   "outputs": [],
   "source": [
    "f = src.data.openFileSource(manager.config['packages'][2]['URL'])\n",
    "f.mappedPaths = manager.config['packages'][1][\"remappings\"]"
   ]
  },
  {
   "cell_type": "code",
   "execution_count": 4,
   "metadata": {
    "scrolled": true
   },
   "outputs": [
    {
     "name": "stdout",
     "output_type": "stream",
     "text": [
      "30603\n"
     ]
    }
   ],
   "source": [
    "xmlfiles = [file for file in f.dir if (file[-3:]=='xml')]\n",
    "print(len(xmlfiles))"
   ]
  },
  {
   "cell_type": "code",
   "execution_count": 5,
   "metadata": {},
   "outputs": [],
   "source": [
    "roots = list()\n",
    "\n",
    "for file in xmlfiles:\n",
    "    fp = f.fs.open(file, \"r\")\n",
    "    content = fp.read()\n",
    "    roots.append(etree.fromstring(content, parser=etree.XMLParser(remove_comments=True)))"
   ]
  },
  {
   "cell_type": "code",
   "execution_count": 6,
   "metadata": {},
   "outputs": [],
   "source": [
    "namespaces = dict()\n",
    "for idx, root in enumerate(roots):\n",
    "    namespaces = {**namespaces, **root.nsmap}"
   ]
  },
  {
   "cell_type": "code",
   "execution_count": 7,
   "metadata": {
    "scrolled": true
   },
   "outputs": [],
   "source": [
    "params = {'linkNumber' : 0, \n",
    "          'namespaces': namespaces}\n",
    "s = '' \n",
    "for idx, root in enumerate(roots):\n",
    "    params['base'] = xmlfiles[idx]\n",
    "    params = process_linkbase.processLinkBase(root, params)\n",
    "    s += params['output'].getvalue()"
   ]
  },
  {
   "cell_type": "code",
   "execution_count": 8,
   "metadata": {
    "scrolled": true
   },
   "outputs": [],
   "source": [
    "with open(join(output_dir, 'taxo.ttl'), 'w') as fp:\n",
    "    fp.write(s.replace('\\u2264',''))"
   ]
  },
  {
   "cell_type": "code",
   "execution_count": null,
   "metadata": {},
   "outputs": [],
   "source": []
  },
  {
   "cell_type": "code",
   "execution_count": null,
   "metadata": {},
   "outputs": [],
   "source": []
  }
 ],
 "metadata": {
  "kernelspec": {
   "display_name": "Python 3",
   "language": "python",
   "name": "python3"
  },
  "language_info": {
   "codemirror_mode": {
    "name": "ipython",
    "version": 3
   },
   "file_extension": ".py",
   "mimetype": "text/x-python",
   "name": "python",
   "nbconvert_exporter": "python",
   "pygments_lexer": "ipython3",
   "version": "3.7.0"
  }
 },
 "nbformat": 4,
 "nbformat_minor": 4
}
