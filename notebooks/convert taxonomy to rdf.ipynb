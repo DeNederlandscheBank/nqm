{
 "cells": [
  {
   "cell_type": "code",
   "execution_count": 1,
   "metadata": {
    "scrolled": false
   },
   "outputs": [],
   "source": [
    "from os import listdir\n",
    "from os.path import join, isfile\n",
    "from lxml import etree\n",
    "from src.data import PackageManager\n",
    "from src.data import XbrlConst\n",
    "from collections import defaultdict\n",
    "from src.data import xbrl2rdf, process_linkbase, process_instance\n",
    "import src.data\n",
    "from io import StringIO, BytesIO\n",
    "import rdflib"
   ]
  },
  {
   "cell_type": "code",
   "execution_count": 2,
   "metadata": {
    "scrolled": true
   },
   "outputs": [
    {
     "name": "stdout",
     "output_type": "stream",
     "text": [
      "Packages overlap the same rewrite start string http://www.dnb.nl/\n",
      "Packages overlap the same rewrite start string http://www.dnb.nl/\n",
      "Packages overlap the same rewrite start string http://www.dnb.nl/\n",
      "Packages overlap the same rewrite start string http://www.dnb.nl/\n",
      "Packages overlap the same rewrite start string http://www.dnb.nl/\n",
      "Packages overlap the same rewrite start string http://www.dnb.nl/\n",
      "Packages overlap the same rewrite start string http://www.eurofiling.info/\n",
      "Packages overlap the same rewrite start string http://www.eurofiling.info/\n",
      "Packages overlap the same rewrite start string http://www.eurofiling.info/\n",
      "Packages overlap the same rewrite start string http://www.eurofiling.info/\n",
      "Packages overlap the same rewrite start string http://www.eurofiling.info/\n",
      "Packages overlap the same rewrite start string http://www.eurofiling.info/\n",
      "Packages overlap the same rewrite start string http://www.eurofiling.info/\n",
      "Packages overlap the same rewrite start string http://www.eurofiling.info/\n",
      "Packages overlap the same rewrite start string http://www.eurofiling.info/\n",
      "Packages overlap the same rewrite start string http://www.eurofiling.info/\n",
      "Packages overlap the same rewrite start string http://www.xbrl.org/\n",
      "Packages overlap the same rewrite start string http://www.xbrl.org/\n",
      "Packages overlap the same rewrite start string http://www.xbrl.org/\n",
      "Packages overlap the same rewrite start string http://www.xbrl.org/\n",
      "Packages overlap the same rewrite start string http://www.xbrl.org/\n",
      "Packages overlap the same rewrite start string http://www.xbrl.org/\n",
      "Packages overlap the same rewrite start string http://www.xbrl.org/\n",
      "Packages overlap the same rewrite start string http://www.xbrl.org/\n",
      "Packages overlap the same rewrite start string http://www.xbrl.org/\n",
      "Packages overlap the same rewrite start string http://www.xbrl.org/\n",
      "..\\data\\external\\taxonomies\\DNB_FBO_20180930_TaxonomyPackage.zip\n",
      "..\\data\\external\\taxonomies\\EBA_CRD_IV_XBRL_2.9_Dictionary_2.9.1.0.zip\n",
      "..\\data\\external\\taxonomies\\EIOPA_SolvencyII_XBRL_Taxonomy_2.4.0_with_external_hotfix.zip\n",
      "..\\data\\external\\taxonomies\\FTK Taxonomy 2.1.0_tcm46-386386.zip\n",
      "..\\data\\external\\taxonomies\\PPI Taxonomy 2.1.0_tcm46-386395.zip\n",
      "..\\data\\external\\taxonomies\\PPSP - 1.0 - Taxonomy_tcm46-375285.zip\n"
     ]
    }
   ],
   "source": [
    "XBRL_TAXONOMY_PATH = join('..', 'data', 'external', 'taxonomies')\n",
    "output_dir = join(\"..\", \"data\", \"raw\")\n",
    "\n",
    "taxonomies = [f for f in listdir(XBRL_TAXONOMY_PATH) if isfile(join(XBRL_TAXONOMY_PATH, f)) and f[-3:]=='zip']\n",
    "\n",
    "manager = PackageManager.Taxonomies(XBRL_TAXONOMY_PATH)\n",
    "\n",
    "for taxonomy in taxonomies:\n",
    "    manager.addPackage(join(XBRL_TAXONOMY_PATH, taxonomy))\n",
    "manager.rebuildRemappings()\n",
    "manager.save()\n",
    "for item in manager.config['packages']:\n",
    "    print(item['URL'])"
   ]
  },
  {
   "cell_type": "code",
   "execution_count": 3,
   "metadata": {},
   "outputs": [],
   "source": [
    "f = src.data.openFileSource(manager.config['packages'][2]['URL'])\n",
    "f.mappedPaths = manager.config['packages'][1][\"remappings\"]"
   ]
  },
  {
   "cell_type": "code",
   "execution_count": 4,
   "metadata": {
    "scrolled": true
   },
   "outputs": [
    {
     "name": "stdout",
     "output_type": "stream",
     "text": [
      "30603\n"
     ]
    }
   ],
   "source": [
    "xmlfiles = [file for file in f.dir if (file[-3:]=='xml')]\n",
    "print(len(xmlfiles))"
   ]
  },
  {
   "cell_type": "code",
   "execution_count": 5,
   "metadata": {},
   "outputs": [],
   "source": [
    "roots = list()\n",
    "\n",
    "for file in xmlfiles:\n",
    "    fp = f.fs.open(file, \"r\")\n",
    "    content = fp.read()\n",
    "    roots.append(etree.fromstring(content, parser=etree.XMLParser(remove_comments=True)))"
   ]
  },
  {
   "cell_type": "code",
   "execution_count": 6,
   "metadata": {},
   "outputs": [],
   "source": [
    "namespaces = {'rdf': 'http://www.w3.org/1999/02/22-rdf-syntax-ns#',\n",
    "              'rdfs': 'http://www.w3.org/2000/01/rdf-schema#',\n",
    "              'xl': 'http://www.xbrl.org/2003/XLink',\n",
    "              'xsd': 'http://www.w3.org/2001/XMLSchema',\n",
    "              'ext': 'http://eiopa.europa.eu/eu/xbrl/ext',\n",
    "              'eurofiling_arcrole': 'http://www.eurofiling.info/xbrl/arcrole',\n",
    "              'arcrole_2008': 'http://xbrl.org/arcrole/2008',\n",
    "              'arcrole_2010': 'http://xbrl.org/arcrole/2010',\n",
    "              'arcrole_2003': 'http://www.xbrl.org/2003/arcrole',\n",
    "              'role_2003': 'http://www.xbrl.org/2003/role',\n",
    "              'role_2008': 'http://www.xbrl.org/2008/role',\n",
    "              'role_2010': 'http://www.xbrl.org/2010/role',\n",
    "              'arcrole_dim': 'http://xbrl.org/int/dim/arcrole'}\n",
    "for idx, root in enumerate(roots):\n",
    "    namespaces = {**namespaces, **root.nsmap}\n",
    "if None in namespaces.keys():\n",
    "    del namespaces[None]"
   ]
  },
  {
   "cell_type": "code",
   "execution_count": 7,
   "metadata": {
    "scrolled": true
   },
   "outputs": [],
   "source": [
    "params = {'linkNumber' : 0, \n",
    "          'namespaces': namespaces}\n",
    "\n",
    "prefix = '# RDF triples (in turtle syntax) imported from XBRL resource at URI\\n'\n",
    "prefix += '# '+manager.config['packages'][2]['URL']+'\\n\\n'\n",
    "prefix += '# the namespaces\\n'\n",
    "for namespace in namespaces.keys():\n",
    "    prefix += \"@prefix \"+namespace+\": <\"+namespaces[namespace]+\">.\\n\"\n",
    "prefix += '\\n'\n",
    "\n",
    "s = prefix\n",
    "g = rdflib.Graph()\n",
    "for idx, root in enumerate(roots[0:100]):\n",
    "    params['output'] = StringIO()\n",
    "    params['base'] = xmlfiles[idx]\n",
    "    params = process_linkbase.processLinkBase(root, params)\n",
    "    string = params['output'].getvalue().replace('\\u2264', '')\n",
    "    s += string\n",
    "    g.parse(data=prefix+string, format='turtle')"
   ]
  },
  {
   "cell_type": "code",
   "execution_count": null,
   "metadata": {},
   "outputs": [],
   "source": [
    "fp = open(join(output_dir, \"taxo.ttl\"), \"w\", encoding = \"utf-8\")\n",
    "fp.write(s)\n",
    "fp.close()"
   ]
  },
  {
   "cell_type": "code",
   "execution_count": null,
   "metadata": {},
   "outputs": [],
   "source": [
    "g.serialize(destination=join(output_dir,'output.txt'), format='turtle')"
   ]
  },
  {
   "cell_type": "code",
   "execution_count": null,
   "metadata": {},
   "outputs": [],
   "source": [
    "# print the number of \"triples\" in the Graph\n",
    "print(\"graph has {} statements.\".format(len(g)))"
   ]
  },
  {
   "cell_type": "code",
   "execution_count": null,
   "metadata": {},
   "outputs": [],
   "source": []
  }
 ],
 "metadata": {
  "kernelspec": {
   "display_name": "Python 3",
   "language": "python",
   "name": "python3"
  },
  "language_info": {
   "codemirror_mode": {
    "name": "ipython",
    "version": 3
   },
   "file_extension": ".py",
   "mimetype": "text/x-python",
   "name": "python",
   "nbconvert_exporter": "python",
   "pygments_lexer": "ipython3",
   "version": "3.7.0"
  }
 },
 "nbformat": 4,
 "nbformat_minor": 4
}
