{
 "cells": [
  {
   "cell_type": "code",
   "execution_count": null,
   "metadata": {},
   "outputs": [],
   "source": [
    "dataiku_env = True\n",
    "try:\n",
    "    import dataiku\n",
    "except:\n",
    "    dataiku_env = False"
   ]
  },
  {
   "cell_type": "code",
   "execution_count": null,
   "metadata": {},
   "outputs": [],
   "source": [
    "from os import listdir\n",
    "from os.path import join, isfile\n",
    "from lxml import etree\n",
    "#import src.data\n",
    "from src.data import PackageManager\n",
    "#from src.data import XbrlConst\n",
    "from src.data import xbrl2rdf, process_linkbase, process_instance, process_schema\n",
    "from src.data.FileSource import openFileSource\n",
    "from collections import defaultdict\n",
    "from io import StringIO, BytesIO\n",
    "import rdflib\n",
    "import numpy as np"
   ]
  },
  {
   "cell_type": "code",
   "execution_count": null,
   "metadata": {},
   "outputs": [],
   "source": [
    "if dataiku_env:\n",
    "    handle = dataiku.Folder(\"taxonomies\")\n",
    "    XBRL_TAXONOMY_PATH = handle.get_path()\n",
    "    output_dir = XBRL_TAXONOMY_PATH + \"/processed\"\n",
    "else:\n",
    "    XBRL_TAXONOMY_PATH = join('..', 'data', 'external', 'xbrl', 'taxonomies')\n",
    "    output_dir = join('..', 'data', 'rdf', 'xbrl', 'taxonomies')"
   ]
  },
  {
   "cell_type": "code",
   "execution_count": null,
   "metadata": {},
   "outputs": [],
   "source": [
    "taxonomies = [f for f in listdir(XBRL_TAXONOMY_PATH) if isfile(join(XBRL_TAXONOMY_PATH, f)) and f[-3:]=='zip']\n",
    "\n",
    "manager = PackageManager.Taxonomies(XBRL_TAXONOMY_PATH)\n",
    "\n",
    "for taxonomy in taxonomies:\n",
    "    manager.addPackage(join(XBRL_TAXONOMY_PATH, taxonomy))\n",
    "manager.rebuildRemappings()\n",
    "manager.save()"
   ]
  },
  {
   "cell_type": "code",
   "execution_count": null,
   "metadata": {},
   "outputs": [],
   "source": [
    "for item in manager.config['packages']:\n",
    "    print(item['URL'])"
   ]
  },
  {
   "cell_type": "code",
   "execution_count": null,
   "metadata": {},
   "outputs": [],
   "source": [
    "f = openFileSource(manager.config['packages'][2]['URL'])\n",
    "f.mappedPaths = manager.config['packages'][1][\"remappings\"]\n",
    "\n",
    "package_name = manager.config['packages'][2]['name']\n",
    "package_uri = manager.config['packages'][2]['URL']"
   ]
  },
  {
   "cell_type": "code",
   "execution_count": null,
   "metadata": {},
   "outputs": [],
   "source": [
    "xmlfiles = [file for file in f.dir if (file[-3:] in ['xsd', 'xml'])]\n",
    "print(len(xmlfiles))"
   ]
  },
  {
   "cell_type": "code",
   "execution_count": null,
   "metadata": {},
   "outputs": [],
   "source": [
    "roots = list()\n",
    "\n",
    "for file in xmlfiles:\n",
    "    fp = f.fs.open(file, \"r\")\n",
    "    content = fp.read()\n",
    "    roots.append((file, etree.fromstring(content, parser=etree.XMLParser(remove_comments=True))))"
   ]
  },
  {
   "cell_type": "code",
   "execution_count": null,
   "metadata": {},
   "outputs": [],
   "source": [
    "namespaces = {'rdf': 'http://www.w3.org/1999/02/22-rdf-syntax-ns#',\n",
    "              'rdfs': 'http://www.w3.org/2000/01/rdf-schema#',\n",
    "              'xl': 'http://www.xbrl.org/2003/XLink',\n",
    "              'xsd': 'http://www.w3.org/2001/XMLSchema',\n",
    "              'ext': 'http://eiopa.europa.eu/xbrl/ext',\n",
    "              'xbrll': 'https://w3id.org/vocab/xbrll',\n",
    "              's2c_dom': 'http://eiopa.europa.eu/xbrl/s2c/dict/dom'}\n",
    "                          \n",
    "for idx, root in enumerate(roots):\n",
    "    ns = root[1].nsmap.copy()\n",
    "    ns = dict((k.lower(), v.lower()) for k,v in ns.items() if (k is not None) and (v is not None))\n",
    "    namespaces = {**namespaces, **root[1].nsmap}\n",
    "if None in namespaces.keys():\n",
    "    del namespaces[None]"
   ]
  },
  {
   "cell_type": "code",
   "execution_count": null,
   "metadata": {},
   "outputs": [],
   "source": [
    "def process_files(process_function, package_name, extension, output_file):\n",
    "    print('Processing of {} started'.format(output_file))\n",
    "    g = rdflib.Graph()\n",
    "\n",
    "    params = {'linkNumber' : 0, 'namespaces': namespaces}\n",
    "\n",
    "    prefix = '# RDF triples (in turtle syntax) imported from XBRL resource\\n'\n",
    "    prefix += '# URI:  '+package_uri+'\\n'\n",
    "    prefix += '# name: '+package_name+'\\n\\n'\n",
    "    prefix += '# the namespaces\\n'\n",
    "    for namespace in namespaces.keys():\n",
    "        if '#' in namespaces[namespace]:\n",
    "            prefix += \"@prefix \"+namespace.lower()+\": <\"+namespaces[namespace].lower()+\">.\\n\"\n",
    "        else:\n",
    "            prefix += \"@prefix \"+namespace.lower()+\": <\"+namespaces[namespace].lower()+\"/>.\\n\"\n",
    "    prefix += '\\n'\n",
    "\n",
    "    s = prefix\n",
    "    for idx, root in enumerate(roots):\n",
    "        print('Progress: {}% done'.format(np.round(100 * idx/len(roots),decimals=1)), end='\\r')\n",
    "        params['output'] = StringIO()\n",
    "        params['base'] = \"http://\"+\"/\".join(root[0].split(\"/\")[1:-1])\n",
    "        if root[0][-3:]==extension:\n",
    "            params = process_function(root[1], params)\n",
    "        string = params['output'].getvalue().replace('\\u2264', '')\n",
    "        try:\n",
    "            g.parse(data=prefix+string, format='turtle')\n",
    "            s += string\n",
    "        except:\n",
    "            print(\"error in: \" +str(idx) + \": \"+ root[0])\n",
    "            print(string)\n",
    "            \n",
    "    fp = open(join(output_dir, output_file), \"w\", encoding = \"utf-8\")\n",
    "    fp.write(s)\n",
    "    fp.close()"
   ]
  },
  {
   "cell_type": "code",
   "execution_count": null,
   "metadata": {},
   "outputs": [],
   "source": [
    "process_files(process_schema.processSchema, package_name, 'xsd', \"schema.ttl\")"
   ]
  },
  {
   "cell_type": "code",
   "execution_count": null,
   "metadata": {},
   "outputs": [],
   "source": [
    "process_files(process_linkbase.processLinkBase, package_name, 'xml', \"linkbase.ttl\")"
   ]
  },
  {
   "cell_type": "code",
   "execution_count": null,
   "metadata": {},
   "outputs": [],
   "source": []
  }
 ],
 "metadata": {
  "creator": "M.Nijhuis",
  "customFields": {},
  "kernelspec": {
   "display_name": "Python 3",
   "language": "python",
   "name": "python3"
  },
  "language_info": {
   "codemirror_mode": {
    "name": "ipython",
    "version": 3
   },
   "file_extension": ".py",
   "mimetype": "text/x-python",
   "name": "python",
   "nbconvert_exporter": "python",
   "pygments_lexer": "ipython3",
   "version": "3.7.9"
  },
  "tags": []
 },
 "nbformat": 4,
 "nbformat_minor": 1
}
