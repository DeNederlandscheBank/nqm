{
 "cells": [
  {
   "cell_type": "code",
   "execution_count": 1,
   "metadata": {},
   "outputs": [],
   "source": [
    "import fairseq\n",
    "import os\n",
    "import torch\n",
    "import re\n",
    "\n",
    "from fairseq.models.transformer import TransformerModel\n",
    "from os.path import join, exists\n",
    "from rdflib import term, Graph"
   ]
  },
  {
   "cell_type": "code",
   "execution_count": 2,
   "metadata": {},
   "outputs": [],
   "source": [
    "ID = 14126"
   ]
  },
  {
   "cell_type": "code",
   "execution_count": 5,
   "metadata": {
    "pycharm": {
     "name": "#%%\n"
    }
   },
   "outputs": [
    {
     "name": "stdout",
     "output_type": "stream",
     "text": [
      "     Initializing Graph: This takes some time\n",
      "Graph has 375390 statements.\n"
     ]
    }
   ],
   "source": [
    "fairseq_folder = \"../../data/eiopa/5_model_input/fairseq-data-bin-{}\".format(ID)\n",
    "model_path = '../models/transformer_iwslt_de_en_{}'.format(ID)\n",
    "model_input = '../data/eiopa/5_model_input/{}-bpe.codes'.format(ID)\n",
    "GRAPH_DATA_PATH = join(\"..\", \"data\", \"eiopa\", \"1_external\")\n",
    "\n",
    "def initialize_graph(graph_data_path):\n",
    "    \"\"\" Initializes the database graph and returns the graph \"\"\"\n",
    "    print(\"     Initializing Graph: This takes some time\")\n",
    "    eiopa_data_path = os.path.join(graph_data_path, \"eiopa\")\n",
    "    gleif_data_path = os.path.join(graph_data_path, \"gleif\")\n",
    "\n",
    "    g = Graph()\n",
    "    with open(os.path.join(eiopa_data_path, 'eiopa_register.ttl'), \"rb\") as fp:\n",
    "        g.parse(data=fp.read(), format='turtle')\n",
    "    with open(os.path.join(gleif_data_path, 'gleif-L1-extract.ttl'), \"rb\") \\\n",
    "            as fp:\n",
    "        g.parse(data=fp.read(), format='turtle')\n",
    "    with open(os.path.join(gleif_data_path, 'EntityLegalFormData.ttl'), \"rb\") \\\n",
    "            as fp:\n",
    "        g.parse(data=fp.read(), format='turtle')\n",
    "    print(\"Graph has {} statements.\".format(len(g)))\n",
    "    return g\n",
    "\n",
    "REPLACEMENTS = [\n",
    "    ['dbo:', 'http://dbpedia.org/ontology/', 'dbo_'],\n",
    "    ['dbp:', 'http://dbpedia.org/property/', 'dbp_'],\n",
    "    ['dbc:', 'http://dbpedia.org/resource/Category:', 'dbc_'],\n",
    "    ['dbr:', 'res:', 'http://dbpedia.org/resource/', 'dbr_'],\n",
    "    ['dct:', 'dct_'],\n",
    "    ['geo:', 'geo_'],\n",
    "    ['georss:', 'georss_'],\n",
    "    ['rdf:', 'rdf_'],\n",
    "    ['rdfs:', 'rdfs_'],\n",
    "    ['foaf:', 'foaf_'],\n",
    "    ['owl:', 'owl_'],\n",
    "    ['yago:', 'yago_'],\n",
    "    ['skos:', 'skos_'],\n",
    "    [' ( ', '  par_open  '],\n",
    "    [' ) ', '  par_close  '],\n",
    "    ['(', ' attr_open '],\n",
    "    [') ', ')', ' attr_close '],\n",
    "    ['{', ' brack_open '],\n",
    "    ['}', ' brack_close '],\n",
    "    [' . ', ' sep_dot '],\n",
    "    ['. ', ' sep_dot '],\n",
    "    ['?', 'var_'],\n",
    "    ['*', 'wildcard'],\n",
    "    [' <= ', ' math_leq '],\n",
    "    [' >= ', ' math_geq '],\n",
    "    [' < ', ' math_lt '],\n",
    "    [' > ', ' math_gt '],\n",
    "    [' \"', ' quot_mark_l '],\n",
    "    ['\" ', ' quot_mark_r '],\n",
    "    ['\"', ' quot_mark_n ']\n",
    "]\n",
    "\n",
    "\n",
    "def sparql_decode(encoded_sparql):\n",
    "    short_sparql = reverse_replacements(encoded_sparql)\n",
    "    sparql = reverse_shorten_query(short_sparql)\n",
    "    return sparql\n",
    "\n",
    "def reverse_replacements(sparql):\n",
    "    for r in REPLACEMENTS:\n",
    "        original = r[0]\n",
    "        encoding = r[-1]\n",
    "        sparql = sparql.replace(encoding, original)\n",
    "        stripped_encoding = str.strip(encoding)\n",
    "        sparql = sparql.replace(stripped_encoding, original)\n",
    "    return sparql\n",
    "\n",
    "def reverse_shorten_query(sparql):\n",
    "    sparql = re.sub(r'_oba_ ([\\S]+)', 'order by asc (\\\\1)', sparql,\n",
    "                    flags=re.IGNORECASE)\n",
    "    sparql = re.sub(r'_obd_ ([\\S]+)', 'order by desc (\\\\1)', sparql,\n",
    "                    flags=re.IGNORECASE)\n",
    "    return sparql\n",
    "\n",
    "g = initialize_graph(GRAPH_DATA_PATH)\n",
    "\n",
    "model = TransformerModel.from_pretrained(\n",
    "  model_path,\n",
    "  checkpoint_file='checkpoint_best.pt',\n",
    "  data_name_or_path=fairseq_folder,\n",
    "  bpe='subword_nmt',\n",
    "  bpe_codes= model_input,\n",
    "  tokenizer = 'moses'\n",
    ")\n",
    "\n",
    "# function to visualize the name of the uri without namespace\n",
    "def get_name(uri):\n",
    "    if isinstance(uri, term.URIRef):\n",
    "        return uri.n3().split(\"/\")[-1][0:-1]\n",
    "    else:\n",
    "        return uri\n",
    "    \n",
    "\n",
    "def query_database(query, graph = g):\n",
    "    \"\"\" Returns list of query results \"\"\"\n",
    "    results = []\n",
    "    for row in graph.query(query):\n",
    "        items = []\n",
    "        for item in row:\n",
    "            items.append(str(get_name(item)))\n",
    "        results.append(items)\n",
    "\n",
    "    return results\n",
    "\n",
    "def translate_and_query(query,model = model):\n",
    "    query_decoded = sparql_decode(model.translate(query))\n",
    "    print(\"Query decoded:\",query_decoded)\n",
    "    print(query_database(query_decoded))\n",
    "    return True"
   ]
  },
  {
   "cell_type": "code",
   "execution_count": 6,
   "metadata": {},
   "outputs": [
    {
     "name": "stdout",
     "output_type": "stream",
     "text": [
      "Query decoded: SELECT DISTINCT ?a WHERE{?e eiopa-Base:hasIdentifyingName \"univé het groene hart brandverzekeraar n.v.\" . ?e eiopa-Base:hasInsuranceUndertakingID ?a . }\n",
      "[['W1976']]\n"
     ]
    },
    {
     "data": {
      "text/plain": [
       "True"
      ]
     },
     "execution_count": 6,
     "metadata": {},
     "output_type": "execute_result"
    }
   ],
   "source": [
    "translate_and_query(\"Where is univé het groene hart brandverzekeraar n.v. located and what is the registration number?\")"
   ]
  },
  {
   "cell_type": "code",
   "execution_count": 7,
   "metadata": {},
   "outputs": [
    {
     "name": "stdout",
     "output_type": "stream",
     "text": [
      "Query decoded: SELECT DISTINCT ?o WHERE{?e eiopa-Base:hasIdentifyingName \"onvz aanvullende verzekering n.v.\" . ?e eiopa-Base:hasEUCountryWhereEntityOperates ?o . }\n",
      "[['NL']]\n"
     ]
    },
    {
     "data": {
      "text/plain": [
       "True"
      ]
     },
     "execution_count": 7,
     "metadata": {},
     "output_type": "execute_result"
    }
   ],
   "source": [
    "translate_and_query(\"location of 'allianz' ?\")"
   ]
  },
  {
   "cell_type": "code",
   "execution_count": 8,
   "metadata": {},
   "outputs": [
    {
     "name": "stdout",
     "output_type": "stream",
     "text": [
      "Query decoded: SELECT DISTINCT ?a WHERE{?x eiopa-Base:hasEUCountryWhereEntityOperates ?a . ?x eiopa-Base:hasInsuranceUndertakingID \"w1963\" . }\n",
      "[]\n"
     ]
    },
    {
     "data": {
      "text/plain": [
       "True"
      ]
     },
     "execution_count": 8,
     "metadata": {},
     "output_type": "execute_result"
    }
   ],
   "source": [
    "translate_and_query(\"In what country does w1963 operate?\")"
   ]
  },
  {
   "cell_type": "code",
   "execution_count": 9,
   "metadata": {},
   "outputs": [
    {
     "name": "stdout",
     "output_type": "stream",
     "text": [
      "Query decoded: SELECT DISTINCT ?o WHERE{?s gleif-L1:hasLegalName ?o . ?e gleif-Base:identifies ?s . ?e eiopa-Base:hasInsuranceUndertakingID \"w1889\" . }\n",
      "[]\n"
     ]
    },
    {
     "data": {
      "text/plain": [
       "True"
      ]
     },
     "execution_count": 9,
     "metadata": {},
     "output_type": "execute_result"
    }
   ],
   "source": [
    "translate_and_query(\"Legal name of w1889?\")"
   ]
  },
  {
   "cell_type": "code",
   "execution_count": 10,
   "metadata": {},
   "outputs": [
    {
     "name": "stdout",
     "output_type": "stream",
     "text": [
      "Query decoded: SELECT DISTINCT ?o WHERE{?e eiopa-Base:hasIdentifyingName \"univé stad en land brandverzekeraar n.v.\" . ?e eiopa-Base:hasEUCountryWhereEntityOperates ?o . }\n",
      "[['NL']]\n"
     ]
    },
    {
     "data": {
      "text/plain": [
       "True"
      ]
     },
     "execution_count": 10,
     "metadata": {},
     "output_type": "execute_result"
    }
   ],
   "source": [
    "translate_and_query(\"In what country does stad holland zorgverzekeraar operate?\")"
   ]
  },
  {
   "cell_type": "code",
   "execution_count": 11,
   "metadata": {},
   "outputs": [
    {
     "name": "stdout",
     "output_type": "stream",
     "text": [
      "Query decoded: SELECT DISTINCT ?o WHERE{?e eiopa-Base:hasIdentifyingName \"onderlinge levensverzekering-maatschappij 's-gravenhage u.a.\" . ?e eiopa-Base:hasNCA ?o . }\n",
      "[]\n"
     ]
    },
    {
     "data": {
      "text/plain": [
       "True"
      ]
     },
     "execution_count": 11,
     "metadata": {},
     "output_type": "execute_result"
    }
   ],
   "source": [
    "translate_and_query(\"Who is the supervisor of onderlinge verzekeringsmaatschappij de veenhoop u.a.?\")"
   ]
  },
  {
   "cell_type": "code",
   "execution_count": 12,
   "metadata": {},
   "outputs": [
    {
     "name": "stdout",
     "output_type": "stream",
     "text": [
      "Query decoded: SELECT DISTINCT ?a WHERE{?e eiopa-Base:hasIdentifyingName \"uk p&i club n.v.\" . ?e eiopa-Base:hasInsuranceUndertakingID ?a . }\n",
      "[['R161589']]\n"
     ]
    },
    {
     "data": {
      "text/plain": [
       "True"
      ]
     },
     "execution_count": 12,
     "metadata": {},
     "output_type": "execute_result"
    }
   ],
   "source": [
    "translate_and_query(\"What is uk p&i club n.v.'s register name?\")"
   ]
  },
  {
   "cell_type": "code",
   "execution_count": 13,
   "metadata": {},
   "outputs": [
    {
     "name": "stdout",
     "output_type": "stream",
     "text": [
      "Query decoded: SELECT DISTINCT ?o WHERE{?e eiopa-Base:hasIdentifyingName \"univé oost brandverzekeraar n.v.\" . ?e eiopa-Base:hasEUCountryWhereEntityOperates ?o . }\n",
      "[['NL']]\n"
     ]
    },
    {
     "data": {
      "text/plain": [
       "True"
      ]
     },
     "execution_count": 13,
     "metadata": {},
     "output_type": "execute_result"
    }
   ],
   "source": [
    "translate_and_query(\"legal name of 'univé schade'?\")"
   ]
  },
  {
   "cell_type": "code",
   "execution_count": 14,
   "metadata": {},
   "outputs": [
    {
     "name": "stdout",
     "output_type": "stream",
     "text": [
      "Query decoded: SELECT DISTINCT ?o WHERE{?e eiopa-Base:hasIdentifyingName \"achmea zorgverzekeringen n.v.\" . ?e eiopa-Base:hasEUCountryWhereEntityOperates ?o . }\n",
      "[['NL']]\n"
     ]
    },
    {
     "data": {
      "text/plain": [
       "True"
      ]
     },
     "execution_count": 14,
     "metadata": {},
     "output_type": "execute_result"
    }
   ],
   "source": [
    "translate_and_query(\"Where does achmea zorgverzekeringen n.v. operate?\")"
   ]
  },
  {
   "cell_type": "code",
   "execution_count": null,
   "metadata": {},
   "outputs": [],
   "source": []
  },
  {
   "cell_type": "code",
   "execution_count": null,
   "metadata": {},
   "outputs": [],
   "source": []
  }
 ],
 "metadata": {
  "kernelspec": {
   "display_name": "Python [conda env:nqm_fairseq] *",
   "language": "python",
   "name": "conda-env-nqm_fairseq-py"
  },
  "language_info": {
   "codemirror_mode": {
    "name": "ipython",
    "version": 3
   },
   "file_extension": ".py",
   "mimetype": "text/x-python",
   "name": "python",
   "nbconvert_exporter": "python",
   "pygments_lexer": "ipython3",
   "version": "3.8.8"
  }
 },
 "nbformat": 4,
 "nbformat_minor": 5
}
