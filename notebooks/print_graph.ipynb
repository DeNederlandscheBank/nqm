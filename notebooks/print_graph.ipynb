{
 "cells": [
  {
   "cell_type": "code",
   "execution_count": null,
   "metadata": {},
   "outputs": [],
   "source": [
    "%pylab inline"
   ]
  },
  {
   "cell_type": "code",
   "execution_count": null,
   "metadata": {},
   "outputs": [],
   "source": [
    "import dataiku\n",
    "from dataiku import pandasutils as pdu\n",
    "import pandas as pd\n",
    "import rdflib\n",
    "from rdflib.extras.external_graph_libs import rdflib_to_networkx_multidigraph\n",
    "import networkx as nx\n",
    "from networkx import Graph as NXGraph\n",
    "import matplotlib.pyplot as plt\n",
    "from os.path import isfile\n",
    "from os import listdir"
   ]
  },
  {
   "cell_type": "markdown",
   "metadata": {},
   "source": [
    "load both the taxonomy and the instances"
   ]
  },
  {
   "cell_type": "code",
   "execution_count": null,
   "metadata": {},
   "outputs": [],
   "source": [
    "g = rdflib.Graph()\n",
    "\n",
    "taxonomy_files = ['schema2.ttl']#,'linkbase2.ttl']\n",
    "handle = dataiku.Folder(\"taxonomies\")\n",
    "file_path = handle.get_path() + \"/processed/\"\n",
    "for taxonomy_file in taxonomy_files:\n",
    "    input_file = open(file_path + taxonomy_file, encoding = 'utf-8')\n",
    "    g.parse(file=input_file, format=\"turtle\")\n",
    "    input_file.close()\n",
    "    print('added {} to graph g'.format(taxonomy_file))\n",
    "\n",
    "handle = dataiku.Folder(\"instances\")\n",
    "file_path = handle.get_path() + \"/real/processed/\"\n",
    "ttl_files = [f for f in listdir(file_path) if (isfile(file_path + f)) and f[-3:].lower()=='ttl']\n",
    "for ttl_file in ttl_files:\n",
    "    instance_file = open(file_path + ttl_file, encoding = 'utf-8')\n",
    "    g.parse(file=instance_file, format=\"turtle\")\n",
    "    instance_file.close()\n",
    "    print('added {} to graph g'.format(ttl_file))"
   ]
  },
  {
   "cell_type": "code",
   "execution_count": null,
   "metadata": {},
   "outputs": [],
   "source": [
    "print(\"graph has {} statements.\".format(len(g)))"
   ]
  },
  {
   "cell_type": "markdown",
   "metadata": {},
   "source": [
    "Select a random context and make a new graph by slecting outwards from the context"
   ]
  },
  {
   "cell_type": "code",
   "execution_count": null,
   "metadata": {},
   "outputs": [],
   "source": [
    "g_lite = rdflib.Graph()\n",
    "list_a = list(g.triples((None, None, rdflib.term.URIRef('https://w3id.org/vocab/xbrll/Context'))))\n",
    "for idx_a in range(1):\n",
    "    g_lite.add(list_a[idx_a])\n",
    "    list_b = list(g.triples((list_a[idx_a][0], None, None)))\n",
    "    for idx_b in range(min(6,len(list_b))):\n",
    "        g_lite.add(list_b[idx_b])\n",
    "        list_c = list(g.triples((list_b[idx_b][2], None, None)))\n",
    "        for idx_c in range(min(8,len(list_c))):\n",
    "            g_lite.add(list_c[idx_c])\n",
    "            list_d = list(g.triples((list_c[idx_c][2], None, None)))\n",
    "            for idx_d in range(min(8,len(list_d))):\n",
    "                g_lite.add(list_d[idx_d])\n",
    "                list_e = list(g.triples((list_d[idx_d][2], None, None)))\n",
    "                for idx_e in range(min(8,len(list_e))):\n",
    "                    g_lite.add(list_e[idx_e])\n",
    "    list_b = list(g.triples((None, None, list_a[idx_a][0])))\n",
    "    for idx_b in range(min(6,len(list_b))):\n",
    "        g_lite.add(list_b[idx_b])\n",
    "        list_c = list(g.triples((list_b[idx_b][0], None, None)))\n",
    "        for idx_c in range(min(8,len(list_c))):\n",
    "            g_lite.add(list_c[idx_c])\n",
    "print(\"graph has {} statements.\".format(len(g_lite)))"
   ]
  },
  {
   "cell_type": "markdown",
   "metadata": {},
   "source": [
    "Convert the graph to an networkx graph and define the edge and node labels"
   ]
  },
  {
   "cell_type": "code",
   "execution_count": null,
   "metadata": {},
   "outputs": [],
   "source": [
    "nxgraph = rdflib_to_networkx_multidigraph(g_lite)"
   ]
  },
  {
   "cell_type": "code",
   "execution_count": null,
   "metadata": {},
   "outputs": [],
   "source": [
    "edge_labels = {}\n",
    "for edge in nxgraph.edges(keys=True, data=True):\n",
    "    edge_labels[edge[0],edge[1]] = str(edge[2]).split('/')[-1]"
   ]
  },
  {
   "cell_type": "code",
   "execution_count": null,
   "metadata": {},
   "outputs": [],
   "source": [
    "node_labels = {}\n",
    "for node in nxgraph.nodes:    \n",
    "    if isinstance(node, rdflib.term.URIRef):\n",
    "        node_labels[node] = str(node).split(\"/\")[-1].replace(\"instance\", \"\")\n",
    "    elif not isinstance(node, rdflib.term.BNode):\n",
    "        node_labels[node] = str(node).replace(\" \", \"\\n\")[0:30]"
   ]
  },
  {
   "cell_type": "markdown",
   "metadata": {},
   "source": [
    "Plot the network"
   ]
  },
  {
   "cell_type": "code",
   "execution_count": null,
   "metadata": {
    "scrolled": false
   },
   "outputs": [],
   "source": [
    "df = pd.DataFrame(index=nxgraph.nodes(), columns=nxgraph.nodes())\n",
    "for row, data in nx.shortest_path_length(nxgraph):\n",
    "    for col, dist in data.items():\n",
    "        df.loc[row,col] = dist\n",
    "\n",
    "df = df.fillna(df.max().max())\n",
    "\n",
    "pos = nx.kamada_kawai_layout(nxgraph, dist=df.to_dict())\n",
    "\n",
    "# Plot\n",
    "print(\"Visualizing the graph:\")\n",
    "\n",
    "plt.figure(1, figsize = (30, 20)) \n",
    "\n",
    "nx.draw_networkx_edge_labels(nxgraph, pos = pos, edge_labels = edge_labels, font_color='black', font_size = 10)\n",
    "nx.draw_networkx_labels(nxgraph, pos, labels = node_labels, font_size = 10)\n",
    "nx.draw(nxgraph, \n",
    "        pos,\n",
    "        edge_color = 'black', \n",
    "        with_labels = False, \n",
    "        node_color='black',\n",
    "        node_size = 3250, \n",
    "        alpha= 0.1,\n",
    "        width= 1,\n",
    "        font_weight= 'regular')\n",
    "ax = plt.gca()\n",
    "ax.collections[0].set_edgecolor(\"#555555\") \n",
    "plt.show()"
   ]
  }
 ],
 "metadata": {
  "creator": "M.Nijhuis",
  "customFields": {},
  "kernelspec": {
   "display_name": "Python (env XBRL)",
   "language": "python",
   "name": "py-dku-venv-xbrl"
  },
  "language_info": {
   "codemirror_mode": {
    "name": "ipython",
    "version": 3
   },
   "file_extension": ".py",
   "mimetype": "text/x-python",
   "name": "python",
   "nbconvert_exporter": "python",
   "pygments_lexer": "ipython3",
   "version": "3.6.8"
  },
  "tags": []
 },
 "nbformat": 4,
 "nbformat_minor": 1
}
