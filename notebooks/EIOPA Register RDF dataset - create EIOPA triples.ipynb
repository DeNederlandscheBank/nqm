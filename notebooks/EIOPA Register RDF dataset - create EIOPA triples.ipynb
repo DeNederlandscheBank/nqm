{
 "cells": [
  {
   "cell_type": "code",
   "execution_count": null,
   "metadata": {},
   "outputs": [],
   "source": [
    "from os import listdir\n",
    "from os.path import join, isfile\n",
    "import pandas as pd\n",
    "from rdflib import URIRef, term, Graph, Literal, Namespace\n",
    "from rdflib.namespace import OWL,RDF, RDFS, SKOS, XSD"
   ]
  },
  {
   "cell_type": "code",
   "execution_count": null,
   "metadata": {},
   "outputs": [],
   "source": [
    "EIOPA_DATA_PATH = join(\"..\", \"data\", \"external\", \"eiopa\")\n",
    "GLEIF_DATA_PATH = join(\"..\", \"data\", \"external\", \"gleif\")"
   ]
  },
  {
   "cell_type": "markdown",
   "metadata": {},
   "source": [
    "# Initialize graph with namespace bindings"
   ]
  },
  {
   "cell_type": "code",
   "execution_count": null,
   "metadata": {},
   "outputs": [],
   "source": [
    "g = Graph()\n",
    "# g.bind('owl', OWL)\n",
    "\n",
    "# # Namespaces used in GLEIF data\n",
    "# g.bind('gleif-ELF',       URIRef('https://www.gleif.org/ontology/EntityLegalForm/'))\n",
    "# g.bind('gleif-ELF-data',  URIRef('https://rdf.gleif.org/EntityLegalForm/'))\n",
    "# g.bind('gleif-RA',        URIRef('https://www.gleif.org/ontology/RegistrationAuthority/'))\n",
    "# g.bind('gleif-RA-data',   URIRef('https://rdf.gleif.org/RegistrationAuthority/'))\n",
    "# g.bind('CountryCodes',    URIRef('https://www.omg.org/spec/LCC/Countries/ISO3166-1-CountryCodes-Adjunct/'))\n",
    "# g.bind('SubdivisionCodes',URIRef('https://www.omg.org/spec/LCC/Countries/ISO3166-2-SubdivisionCodes-Adjunct/'))\n",
    "\n",
    "# # Provisional EIOPA namespaces (they do not exist yet)\n",
    "# g.bind('eiopa-Base',      URIRef(\"https://eiopa.europe.eu/ontology/Base/\"))\n",
    "# g.bind('eiopa-NCA',       URIRef(\"https://eiopa.europe.eu/ontology/NCA/\"))\n",
    "# g.bind('eiopa-NCA-data',  URIRef(\"https://rdf.eiopa.europe.eu/NCA/\"))\n",
    "# g.bind('eiopa-data',      URIRef(\"https://rdf.eiopa.europe.eu/data/\"))"
   ]
  },
  {
   "cell_type": "markdown",
   "metadata": {},
   "source": [
    "# Read GLEIF and EIOPA data"
   ]
  },
  {
   "cell_type": "code",
   "execution_count": null,
   "metadata": {},
   "outputs": [],
   "source": [
    "with open(join(GLEIF_DATA_PATH,'gleif-L1-extract.ttl'), \"rb\") as fp:\n",
    "    g.parse(data = fp.read(), format = 'turtle')\n",
    "\n",
    "with open(join(GLEIF_DATA_PATH, 'EntityLegalFormData.ttl'), \"rb\") as fp:\n",
    "    g.parse(data = fp.read(), format = 'turtle')\n",
    "\n",
    "# fp = open('H:\\\\10_central_data\\\\gleif\\\\gleif-lei-data\\\\gleif-lei-data\\\\original\\\\L2Data.rdf', \"rb\")\n",
    "# data = fp.read()\n",
    "# fp.close()\n",
    "# g.parse(data = data)\n",
    "\n",
    "print(\"graph has {} statements.\".format(len(g)))"
   ]
  },
  {
   "cell_type": "code",
   "execution_count": null,
   "metadata": {},
   "outputs": [],
   "source": [
    "register = pd.read_csv(join(EIOPA_DATA_PATH, 'DATINS_Export_637439776565055685.csv'), sep = ';')"
   ]
  },
  {
   "cell_type": "markdown",
   "metadata": {},
   "source": [
    "# Add triples to graph"
   ]
  },
  {
   "cell_type": "code",
   "execution_count": null,
   "metadata": {},
   "outputs": [],
   "source": [
    "eiopa = Graph()\n",
    "\n",
    "eiopa.bind('CountryCodes',    URIRef('https://www.omg.org/spec/LCC/Countries/ISO3166-1-CountryCodes-Adjunct/'))\n",
    "eiopa.bind('gleif-Base',      URIRef('https://www.gleif.org/ontology/Base/'))\n",
    "eiopa.bind('eiopa-Base',      URIRef(\"https://eiopa.europe.eu/ontology/Base/\"))\n",
    "eiopa.bind('owl', OWL)\n",
    "\n",
    "gleif_base = Namespace('https://www.gleif.org/ontology/Base/')\n",
    "eiopa_base = Namespace(\"https://eiopa.europe.eu/ontology/Base/\")\n",
    "eiopa_NCA = Namespace(\"https://rdf.eiopa.europe.eu/NCA/\")\n",
    "\n",
    "for idx in register.index:\n",
    "    row = register.loc[idx]\n",
    "    if str(row[\"LEI\"])!='nan':\n",
    "        \n",
    "        # find subject with specific LEI\n",
    "        query = '''SELECT ?s \n",
    "                   WHERE {?lei <https://www.gleif.org/ontology/L1/LEI> \"'''+row[\"LEI\"]+'''\" . \n",
    "                          ?lei <https://www.gleif.org/ontology/L1/identifiesAndRecords> ?s.}'''  \n",
    "        results = g.query(query)\n",
    "        if len(results)==1:\n",
    "            subj = list(results)[0][0]\n",
    "        else:\n",
    "            print(\"lei not found: \"+row['LEI'])\n",
    "            \n",
    "        # specify that subject is an insurance undertaking\n",
    "        pred = OWL.a\n",
    "        obj = eiopa_base.InsuranceUndertaking\n",
    "        eiopa.add((subj, pred, obj))\n",
    "        \n",
    "        # add register reference to subject\n",
    "        pred = eiopa_base.hasRegisterIdentifier\n",
    "        nca = row[\"Name of NCA\"].replace(\" \", \"-\").replace(\"(\", \"\").replace(\")\", \"\")\n",
    "        idcode = row[\"Identification code\"].replace(\" \", \"\")\n",
    "        obj = URIRef(\"https://rdf.eiopa.europe.eu/L1-data/IURI-\"+nca+\"-\"+idcode)\n",
    "        eiopa.add((subj, pred, obj))\n",
    "\n",
    "        # add register entry\n",
    "        eiopa.add((obj, OWL.a, eiopa_base.InsuranceUndertakingRegisterIdentifier))\n",
    "        # add original subject reference to register entry\n",
    "        eiopa.add((obj, gleif_base.identifies, subj))\n",
    "\n",
    "        # add specificities of register\n",
    "        if row[\"Cross border status\"]=='Domestic undertaking':\n",
    "            eiopa.add((obj, eiopa_base.hasCrossBorderStatus,          Literal(row[\"Cross border status\"])))\n",
    "            eiopa.add((obj, eiopa_base.hasEUCountryWhereEntityOperates, URIRef('https://www.omg.org/spec/LCC/Countries/ISO3166-1-CountryCodes-Adjunct/' + row[\"EU Country where the entity operates\"])))\n",
    "\n",
    "            eiopa.add((obj, eiopa_base.hasInsuranceUndertakingID,     Literal(row[\"Identification code\"])))\n",
    "            eiopa.add((obj, eiopa_base.hasNCA,                        Literal(row[\"Name of NCA\"])))\n",
    "\n",
    "            eiopa.add((obj, eiopa_base.hasRegistrationStartDate,      Literal(row['Registration start date'])))\n",
    "            if str(row['Registration end date'])!='nan':\n",
    "                eiopa.add((obj, eiopa_base.hasRegistrationEndDate,        Literal(row['Registration end date'])))\n",
    "\n",
    "            eiopa.add((obj, eiopa_base.hasOperationStartDate,         Literal(row['Operation Start Date'])))\n",
    "            if str(row['Operation End Date'])!='nan':\n",
    "                eiopa.add((obj, eiopa_base.hasOperationEndDate,           Literal(row['Operation End Date'])))            "
   ]
  },
  {
   "cell_type": "code",
   "execution_count": null,
   "metadata": {},
   "outputs": [],
   "source": []
  },
  {
   "cell_type": "code",
   "execution_count": null,
   "metadata": {},
   "outputs": [],
   "source": [
    "with open(join(EIOPA_DATA_PATH, \"eiopa_register.ttl\"), \"wb\") as f:\n",
    "    f.write(eiopa.serialize(format=\"turtle\"))"
   ]
  },
  {
   "cell_type": "code",
   "execution_count": null,
   "metadata": {},
   "outputs": [],
   "source": []
  }
 ],
 "metadata": {
  "kernelspec": {
   "display_name": "Python 3",
   "language": "python",
   "name": "python3"
  },
  "language_info": {
   "codemirror_mode": {
    "name": "ipython",
    "version": 3
   },
   "file_extension": ".py",
   "mimetype": "text/x-python",
   "name": "python",
   "nbconvert_exporter": "python",
   "pygments_lexer": "ipython3",
   "version": "3.7.9"
  }
 },
 "nbformat": 4,
 "nbformat_minor": 4
}
