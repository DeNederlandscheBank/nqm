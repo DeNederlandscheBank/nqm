{
 "cells": [
  {
   "cell_type": "code",
   "execution_count": 1,
   "metadata": {
    "scrolled": true
   },
   "outputs": [],
   "source": [
    "from os import listdir\n",
    "from os.path import join, isfile\n",
    "import pandas as pd\n",
    "from rdflib import URIRef, term, Graph, Literal, Namespace\n",
    "from rdflib.namespace import OWL,RDF, RDFS, SKOS, XSD"
   ]
  },
  {
   "cell_type": "code",
   "execution_count": 2,
   "metadata": {
    "scrolled": true
   },
   "outputs": [],
   "source": [
    "EIOPA_DATA_PATH = join(\"..\", \"data\", \"external\", \"eiopa\")\n",
    "GLEIF_DATA_PATH = join(\"..\", \"data\", \"external\", \"gleif\")"
   ]
  },
  {
   "cell_type": "markdown",
   "metadata": {},
   "source": [
    "# Read EIOPA Register in RDF"
   ]
  },
  {
   "cell_type": "code",
   "execution_count": 3,
   "metadata": {
    "scrolled": true
   },
   "outputs": [
    {
     "name": "stdout",
     "output_type": "stream",
     "text": [
      "graph has 368854 statements.\n"
     ]
    }
   ],
   "source": [
    "g = Graph()\n",
    "\n",
    "with open(join(EIOPA_DATA_PATH,'eiopa_register.ttl'), \"rb\") as fp:\n",
    "    g.parse(data = fp.read(), format = 'turtle')\n",
    "\n",
    "with open(join(GLEIF_DATA_PATH,'gleif-L1-extract.ttl'), \"rb\") as fp:\n",
    "    g.parse(data = fp.read(), format = 'turtle')\n",
    "    \n",
    "with open(join(GLEIF_DATA_PATH,'EntityLegalFormData.ttl'), \"rb\") as fp:\n",
    "    g.parse(data = fp.read(), format = 'turtle')\n",
    "\n",
    "print(\"graph has {} statements.\".format(len(g)))"
   ]
  },
  {
   "cell_type": "markdown",
   "metadata": {},
   "source": [
    "# Example SPARQL queries"
   ]
  },
  {
   "cell_type": "code",
   "execution_count": 4,
   "metadata": {
    "scrolled": true
   },
   "outputs": [],
   "source": [
    "# function to visualize the name of the uri without namespace\n",
    "def get_name(uri):\n",
    "    if isinstance(uri, term.URIRef):\n",
    "        return uri.n3().split(\"/\")[-1][0:-1]\n",
    "    else:\n",
    "        return uri"
   ]
  },
  {
   "cell_type": "code",
   "execution_count": 28,
   "metadata": {},
   "outputs": [
    {
     "name": "stdout",
     "output_type": "stream",
     "text": [
      "NL\n"
     ]
    }
   ],
   "source": [
    "# if A is a legal name\n",
    "\n",
    "# In what jurisdiction does A operate?\n",
    "# In what country does A operate?\n",
    "# What is A's jurisdiction?\n",
    "# What is the jurisdiction of A?\n",
    "# Where does A operate?\n",
    "# Jurisdiction of A?\n",
    "\n",
    "query = \"\"\"SELECT DISTINCT ?o\n",
    "           WHERE {?s gleif-L1:hasLegalName \"Achmea Schadeverzekeringen N.V.\" . \n",
    "                  ?e gleif-Base:identifies ?s .\n",
    "                  ?e eiopa-Base:hasEUCountryWhereEntityOperates ?o .\n",
    "}\"\"\"\n",
    "results = g.query(query)\n",
    "\n",
    "for row in results:\n",
    "    print(get_name(row[0]))"
   ]
  },
  {
   "cell_type": "code",
   "execution_count": 29,
   "metadata": {},
   "outputs": [
    {
     "name": "stdout",
     "output_type": "stream",
     "text": [
      "NL\n"
     ]
    }
   ],
   "source": [
    "# if A is an insurance ID\n",
    "\n",
    "# In what jurisdiction does A operate?\n",
    "# In what country does A operate?\n",
    "# What is A's jurisdiction?\n",
    "# What is the jurisdiction of A?\n",
    "# Where does A operate?\n",
    "# Jurisdiction of A?\n",
    "\n",
    "query = \"\"\"SELECT DISTINCT ?o\n",
    "           WHERE {?e eiopa-Base:hasEUCountryWhereEntityOperates ?o .\n",
    "                  ?e eiopa-Base:hasInsuranceUndertakingID \"W1686\".\n",
    "}\"\"\"\n",
    "results = g.query(query)\n",
    "\n",
    "for row in results:\n",
    "    print(get_name(row[0]))"
   ]
  },
  {
   "cell_type": "code",
   "execution_count": 30,
   "metadata": {},
   "outputs": [
    {
     "name": "stdout",
     "output_type": "stream",
     "text": [
      "De Nederlandsche Bank\n"
     ]
    }
   ],
   "source": [
    "# Who is the supervisor of A?\n",
    "# Who is A's supervisor?\n",
    "# Supervisor of A?\n",
    "\n",
    "query = \"\"\"SELECT DISTINCT ?o\n",
    "           WHERE {?s gleif-L1:hasLegalName \"Achmea Schadeverzekeringen N.V.\" . \n",
    "                  ?e gleif-Base:identifies ?s .\n",
    "                  ?e eiopa-Base:hasNCA ?o .\n",
    "}\"\"\"\n",
    "results = g.query(query)\n",
    "\n",
    "for row in results:\n",
    "    print(row[0])"
   ]
  },
  {
   "cell_type": "code",
   "execution_count": 31,
   "metadata": {},
   "outputs": [
    {
     "name": "stdout",
     "output_type": "stream",
     "text": [
      "W1686\n"
     ]
    }
   ],
   "source": [
    "# What is the register name of A?\n",
    "# What is A's register name?\n",
    "# What is the relatienummer of A?\n",
    "# What is A's relatienummer?\n",
    "# Register name of A?\n",
    "# Relatienummer of A?\n",
    "\n",
    "query = \"\"\"SELECT DISTINCT ?o\n",
    "           WHERE {?s gleif-L1:hasLegalName \"Achmea Schadeverzekeringen N.V.\" . \n",
    "                  ?e gleif-Base:identifies ?s .\n",
    "                  ?e eiopa-Base:hasInsuranceUndertakingID ?o .\n",
    "}\"\"\"\n",
    "results = g.query(query)\n",
    "\n",
    "for row in results:\n",
    "    print(row[0])"
   ]
  },
  {
   "cell_type": "code",
   "execution_count": 32,
   "metadata": {},
   "outputs": [
    {
     "name": "stdout",
     "output_type": "stream",
     "text": [
      "Achmea Schadeverzekeringen N.V.\n"
     ]
    }
   ],
   "source": [
    "# What is the legal name of A?\n",
    "# What is A's legal name?\n",
    "# Legal name of A?\n",
    "# A's legal name?\n",
    "\n",
    "query = \"\"\"SELECT DISTINCT ?o\n",
    "           WHERE {?s gleif-L1:hasLegalName ?o . \n",
    "                  ?e gleif-Base:identifies ?s .\n",
    "                  ?e eiopa-Base:hasInsuranceUndertakingID \"W1686\" .\n",
    "}\"\"\"\n",
    "results = g.query(query)\n",
    "\n",
    "for row in results:\n",
    "    print(row[0])"
   ]
  },
  {
   "cell_type": "code",
   "execution_count": 33,
   "metadata": {},
   "outputs": [
    {
     "name": "stdout",
     "output_type": "stream",
     "text": [
      "Domestic undertaking\n"
     ]
    }
   ],
   "source": [
    "# What is the cross border status of A?\n",
    "# What is A's cross border status?\n",
    "# Cross border status of A?\n",
    "# A's cross border status\n",
    "\n",
    "query = \"\"\"SELECT DISTINCT ?o\n",
    "           WHERE {?s gleif-L1:hasLegalName \"Achmea Schadeverzekeringen N.V.\" . \n",
    "                  ?e gleif-Base:identifies ?s .\n",
    "                  ?e eiopa-Base:hasCrossBorderStatus ?o .\n",
    "}\"\"\"\n",
    "results = g.query(query)\n",
    "\n",
    "for row in results:\n",
    "    print(row[0])"
   ]
  },
  {
   "cell_type": "code",
   "execution_count": 34,
   "metadata": {},
   "outputs": [
    {
     "name": "stdout",
     "output_type": "stream",
     "text": [
      "23/12/1991 01:00:00\n"
     ]
    }
   ],
   "source": [
    "# When did A start?\n",
    "# From when did A start?\n",
    "# What is the starting date of A?\n",
    "# What is A's starting date?\n",
    "# What is the operation starting date of A?\n",
    "# What is A's operation starting date?\n",
    "\n",
    "query = \"\"\"SELECT DISTINCT ?o\n",
    "           WHERE {?s gleif-L1:hasLegalName \"Achmea Schadeverzekeringen N.V.\" . \n",
    "                  ?e gleif-Base:identifies ?s .\n",
    "                  ?e eiopa-Base:hasOperationStartDate ?o .\n",
    "}\"\"\"\n",
    "results = g.query(query)\n",
    "\n",
    "for row in results:\n",
    "    print(row[0])"
   ]
  },
  {
   "cell_type": "code",
   "execution_count": null,
   "metadata": {},
   "outputs": [],
   "source": []
  },
  {
   "cell_type": "code",
   "execution_count": null,
   "metadata": {},
   "outputs": [],
   "source": []
  }
 ],
 "metadata": {
  "kernelspec": {
   "display_name": "Python 3",
   "language": "python",
   "name": "python3"
  },
  "language_info": {
   "codemirror_mode": {
    "name": "ipython",
    "version": 3
   },
   "file_extension": ".py",
   "mimetype": "text/x-python",
   "name": "python",
   "nbconvert_exporter": "python",
   "pygments_lexer": "ipython3",
   "version": "3.7.9"
  }
 },
 "nbformat": 4,
 "nbformat_minor": 4
}
