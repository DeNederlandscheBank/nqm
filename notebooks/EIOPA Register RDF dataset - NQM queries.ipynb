{
 "cells": [
  {
   "cell_type": "code",
   "execution_count": null,
   "metadata": {
    "scrolled": true
   },
   "outputs": [],
   "source": [
    "from os import listdir\n",
    "from os.path import join, isfile\n",
    "from rdflib import URIRef, term, Graph, Literal, Namespace\n",
    "from rdflib.namespace import OWL,RDF, RDFS, SKOS, XSD\n",
    "# from src_eiopa.features.generator_utils import encode,add_quotation_marks,strip_brackets\n",
    "# from sacremoses import MosesTokenizer,MosesDetokenizer"
   ]
  },
  {
   "cell_type": "code",
   "execution_count": null,
   "metadata": {
    "scrolled": true
   },
   "outputs": [],
   "source": [
    "EIOPA_DATA_PATH = join(\"..\", \"data\", \"eiopa\", \"1_external\", \"eiopa\")\n",
    "GLEIF_DATA_PATH = join(\"..\", \"data\", \"eiopa\", \"1_external\", \"gleif\")"
   ]
  },
  {
   "cell_type": "markdown",
   "metadata": {},
   "source": [
    "# Read EIOPA Register in RDF"
   ]
  },
  {
   "cell_type": "code",
   "execution_count": null,
   "metadata": {
    "scrolled": true
   },
   "outputs": [],
   "source": [
    "g = Graph()\n",
    "\n",
    "with open(join(EIOPA_DATA_PATH,'eiopa_register.ttl'), \"rb\") as fp:\n",
    "    g.parse(data = fp.read(), format = 'turtle')\n",
    "\n",
    "with open(join(GLEIF_DATA_PATH,'gleif-L1-extract.ttl'), \"rb\") as fp:\n",
    "    g.parse(data = fp.read(), format = 'turtle')\n",
    "    \n",
    "with open(join(GLEIF_DATA_PATH,'EntityLegalFormData.ttl'), \"rb\") as fp:\n",
    "    g.parse(data = fp.read(), format = 'turtle')\n",
    "\n",
    "print(\"graph has {} statements.\".format(len(g)))"
   ]
  },
  {
   "cell_type": "markdown",
   "metadata": {},
   "source": [
    "# Example SPARQL queries"
   ]
  },
  {
   "cell_type": "code",
   "execution_count": null,
   "metadata": {
    "scrolled": true
   },
   "outputs": [],
   "source": [
    "# function to visualize the name of the uri without namespace\n",
    "def get_name(uri):\n",
    "    if isinstance(uri, term.URIRef):\n",
    "        return uri.n3().split(\"/\")[-1][0:-1]\n",
    "    else:\n",
    "        return uri"
   ]
  },
  {
   "cell_type": "code",
   "execution_count": null,
   "metadata": {},
   "outputs": [],
   "source": [
    "query = 'SELECT DISTINCT ?a WHERE {?e eiopa-Base:hasIdentifyingName \"monuta verzekeringen n.v.\" . ?e eiopa-Base:hasInsuranceUndertakingID ?a  . }'\n",
    "\n",
    "# SELECT DISTINCT ?o WHERE {?e eiopa-Base:hasIdentifyingName <A>. ?e eiopa-Base:hasEUCountryWhereEntityOperates ?o.}\n",
    "results = g.query(query)\n",
    "\n",
    "for row in results:\n",
    "    print(row)\n",
    "# print(get_name(row[0]))"
   ]
  },
  {
   "cell_type": "code",
   "execution_count": null,
   "metadata": {},
   "outputs": [],
   "source": [
    "results"
   ]
  },
  {
   "cell_type": "code",
   "execution_count": null,
   "metadata": {},
   "outputs": [],
   "source": []
  },
  {
   "cell_type": "code",
   "execution_count": null,
   "metadata": {},
   "outputs": [],
   "source": [
    "# if A is a legal name\n",
    "\n",
    "# In what jurisdiction does <A> operate?\n",
    "# In what country does <A> operate?\n",
    "# What is <A>'s jurisdiction?\n",
    "# What is the jurisdiction of <A>?\n",
    "# Where does <A> operate?\n",
    "# Jurisdiction of <A>?\n",
    "\n",
    "query = \"\"\"SELECT DISTINCT ?o\n",
    "           WHERE {?e eiopa-Base:hasIdentifyingName \"achmea zorgverzekeringen n.v.\". \n",
    "                  ?e eiopa-Base:hasEUCountryWhereEntityOperates ?o .\n",
    "}\"\"\"\n",
    "\n",
    "# SELECT DISTINCT ?o WHERE {?e eiopa-Base:hasIdentifyingName <A>. ?e eiopa-Base:hasEUCountryWhereEntityOperates ?o.}\n",
    "results = g.query(query)\n",
    "\n",
    "for row in results:\n",
    "    print(get_name(row[0]))\n",
    "    \n",
    "generator_query = \"\"\" select distinct ?a where{\n",
    "                  ?s gleif-L1:hasLegalName ?a . \n",
    "                  ?e gleif-Base:identifies ?s .\n",
    "                  ?e eiopa-Base:hasEUCountryWhereEntityOperates CountryCodes:NL.\n",
    "}\"\"\"\n",
    "\n",
    "results = g.query(generator_query)\n",
    "for row in results:\n",
    "    print(get_name(row[0]))"
   ]
  },
  {
   "cell_type": "code",
   "execution_count": null,
   "metadata": {},
   "outputs": [],
   "source": [
    "# if A is an insurance ID\n",
    "\n",
    "# In what jurisdiction does A operate?\n",
    "# In what country does A operate?\n",
    "# What is <A>'s jurisdiction?\n",
    "# What is the jurisdiction of <A>?\n",
    "# Where does <A> operate?\n",
    "# Jurisdiction of <A>?\n",
    "\n",
    "query = \"\"\"SELECT DISTINCT ?o\n",
    "           WHERE {?e eiopa-Base:hasEUCountryWhereEntityOperates ?o .\n",
    "                  ?e eiopa-Base:hasInsuranceUndertakingID \"W1686\".\n",
    "}\"\"\"\n",
    "results = g.query(query)\n",
    "\n",
    "for row in results:\n",
    "    print(get_name(row[0]))\n",
    "\n",
    "generator_query = \"\"\" select distinct ?a where{\n",
    "                  ?e eiopa-Base:hasEUCountryWhereEntityOperates CountryCodes:NL .\n",
    "                  ?e eiopa-Base:hasInsuranceUndertakingID ?a.\n",
    "}\"\"\"\n",
    "\n",
    "results = g.query(generator_query)\n",
    "for row in results:\n",
    "    print(get_name(row[0]))"
   ]
  },
  {
   "cell_type": "code",
   "execution_count": null,
   "metadata": {
    "scrolled": true
   },
   "outputs": [],
   "source": [
    "# Who is the supervisor of <A>?\n",
    "# Who is <A>'s supervisor?\n",
    "# Supervisor of <A>?\n",
    "\n",
    "query = \"\"\"SELECT DISTINCT ?o\n",
    "           WHERE {?e eiopa-Base:hasIdentifyingName \"achmea schadeverzekeringen n.v.\" .\n",
    "                  ?e eiopa-Base:hasNCA ?o .\n",
    "}\"\"\"\n",
    "results = g.query(query)\n",
    "\n",
    "# SELECT DISTINCT ?o WHERE {?e eiopa-Base:hasIdentifyingName <A>. ?e eiopa-Base:hasNCA ?o.}\n",
    "\n",
    "for row in results:\n",
    "    print(row[0])\n",
    "\n",
    "generator_query = \"\"\" select distinct ?a where{\n",
    "                  ?s gleif-L1:hasLegalName ?a . \n",
    "                  ?e gleif-Base:identifies ?s .\n",
    "                  ?e eiopa-Base:hasEUCountryWhereEntityOperates CountryCodes:NL.\n",
    "                  ?e eiopa-Base:hasNCA [].\n",
    "}\"\"\"\n",
    "\n",
    "# results = g.query(generator_query)\n",
    "# for row in results:\n",
    "#     print(get_name(row[0]))\n",
    "    \n",
    "generator_query = \"\"\" select distinct ?a where{\n",
    "                  ?e eiopa-Base:hasInsuranceUndertakingID ?a .\n",
    "                  ?e eiopa-Base:hasEUCountryWhereEntityOperates CountryCodes:NL.\n",
    "                  ?e eiopa-Base:hasNCA [].\n",
    "}\"\"\"\n",
    "\n",
    "\n",
    "results = g.query(generator_query)\n",
    "for row in results:\n",
    "    print(get_name(row[0]))"
   ]
  },
  {
   "cell_type": "code",
   "execution_count": null,
   "metadata": {},
   "outputs": [],
   "source": [
    "# What is the register name of <A>?\n",
    "# What is <A>'s register name?\n",
    "# What is the relatienummer of <A>?\n",
    "# What is <A>'s relatienummer?\n",
    "# Register name of <A>?\n",
    "# Relatienummer of <A>?\n",
    "\n",
    "query = \"\"\"SELECT DISTINCT ?a\n",
    "           WHERE {?e eiopa-Base:hasIdentifyingName \"achmea schadeverzekeringen n.v.\" .\n",
    "                  ?e eiopa-Base:hasInsuranceUndertakingID ?a .\n",
    "}\"\"\"\n",
    "results = g.query(query)\n",
    "\n",
    "# SELECT DISTINCT ?a WHERE {?e eiopa-Base:hasIdentifyingName <A>. ?e eiopa-Base:hasInsuranceUndertakingID ?a .}\n",
    "\n",
    "for row in results:\n",
    "    print(row[0])\n",
    "\n",
    "generator_query = \"\"\" select distinct ?a where{\n",
    "                  ?s gleif-L1:hasLegalName ?a . \n",
    "                  ?e gleif-Base:identifies ?s .\n",
    "                  ?e eiopa-Base:hasInsuranceUndertakingID [].\n",
    "                  ?e eiopa-Base:hasEUCountryWhereEntityOperates CountryCodes:NL.\n",
    "}\"\"\"\n",
    "\n",
    "results = g.query(generator_query)\n",
    "for row in results:\n",
    "    print(get_name(row[0]))"
   ]
  },
  {
   "cell_type": "code",
   "execution_count": null,
   "metadata": {},
   "outputs": [],
   "source": [
    "# What is the legal name of <A>?\n",
    "# What is <A>'s legal name?\n",
    "# Legal name of <A>?\n",
    "# <A>'s legal name?\n",
    "\n",
    "query = \"\"\"SELECT DISTINCT ?o\n",
    "           WHERE {?s gleif-L1:hasLegalName ?o . \n",
    "                  ?e gleif-Base:identifies ?s .\n",
    "                  ?e eiopa-Base:hasIdentifyingName \"w1686\" .\n",
    "}\"\"\"\n",
    "results = g.query(query)\n",
    "\n",
    "# SELECT DISTINCT ?o WHERE {?s gleif-L1:hasLegalName ?o . ?e gleif-Base:identifies ?s . ?e eiopa-Base:hasInsuranceUndertakingID <A> .}\n",
    "\n",
    "for row in results:\n",
    "    print(row[0])\n",
    "    \n",
    "generator_query = \"\"\" select distinct ?a where{\n",
    "                  ?e eiopa-Base:hasEUCountryWhereEntityOperates CountryCodes:NL .\n",
    "                  ?e eiopa-Base:hasInsuranceUndertakingID ?a.\n",
    "                  ?e gleif-Base:identifies ?s.\n",
    "                  ?s gleif-L1:hasLegalName [].\n",
    "}\"\"\"\n",
    "\n",
    "results = g.query(generator_query)\n",
    "for row in results:\n",
    "    print(get_name(row[0]))"
   ]
  },
  {
   "cell_type": "code",
   "execution_count": null,
   "metadata": {},
   "outputs": [],
   "source": [
    "# What is the cross border status of <A>?\n",
    "# What is <A>'s cross border status?\n",
    "# Cross border status of <A>?\n",
    "# <A>'s cross border status\n",
    "\n",
    "query = \"\"\"SELECT DISTINCT ?o\n",
    "           WHERE {?e eiopa-Base:hasIdentifyingName \"achmea schadeverzekeringen n.v.\".\n",
    "                  ?e eiopa-Base:hasCrossBorderStatus ?o .\n",
    "}\"\"\"\n",
    "# query = \"\"\"SELECT DISTINCT ?o\n",
    "#            WHERE {?e eiopa-Base:hasIdentifyingName \"w0319\".\n",
    "#                   ?e eiopa-Base:hasCrossBorderStatus ?o .\n",
    "# }\"\"\"\n",
    "results = g.query(query)\n",
    "\n",
    "# SELECT DISTINCT ?o WHERE {?e eiopa-Base:hasIdentifyingName <A>. ?e eiopa-Base:hasCrossBorderStatus ?o .}\n",
    "\n",
    "for row in results:\n",
    "    print(row[0])\n",
    "    \n",
    "generator_query = \"\"\" select distinct ?a where{\n",
    "                  ?s gleif-L1:hasLegalName ?a . \n",
    "                  ?e gleif-Base:identifies ?s .\n",
    "                  ?e eiopa-Base:hasCrossBorderStatus [].\n",
    "                  ?e eiopa-Base:hasEUCountryWhereEntityOperates CountryCodes:NL.\n",
    "}\"\"\"\n",
    "\n",
    "# generator_query = \"\"\" select distinct ?a where{\n",
    "#                   ?e eiopa-Base:hasInsuranceUndertakingID ?a .\n",
    "#                   ?e eiopa-Base:hasEUCountryWhereEntityOperates CountryCodes:NL.\n",
    "#                   ?e eiopa-Base:hasCrossBorderStatus [].\n",
    "# }\"\"\"\n",
    "\n",
    "\n",
    "\n",
    "results = g.query(generator_query)\n",
    "for row in results:\n",
    "    print(get_name(row[0]))"
   ]
  },
  {
   "cell_type": "code",
   "execution_count": null,
   "metadata": {},
   "outputs": [],
   "source": [
    "# When did <A> start?\n",
    "# From when did <A> start?\n",
    "# What is the starting date of <A>?\n",
    "# What is <A>'s starting date?\n",
    "# What is the operation starting date of <A>?\n",
    "# What is <A>'s operation starting date?\n",
    "\n",
    "query = \"\"\"SELECT DISTINCT ?o\n",
    "           WHERE {?e eiopa-Base:hasIdentifyingName \"achmea schadeverzekeringen n.v.\".\n",
    "                  ?e eiopa-Base:hasOperationStartDate ?o .\n",
    "}\"\"\"\n",
    "results = g.query(query)\n",
    "\n",
    "# SELECT DISTINCT ?o WHERE {?e eiopa-Base:hasIdentifyingName <A>. ?e eiopa-Base:hasOperationStartDate ?o.}\n",
    "\n",
    "for row in results:\n",
    "    print(row[0])\n",
    "    \n",
    "generator_query = \"\"\" select distinct ?a where{\n",
    "                  ?s gleif-L1:hasLegalName ?a . \n",
    "                  ?e gleif-Base:identifies ?s .\n",
    "                  ?e eiopa-Base:hasOperationStartDate [] .\n",
    "                  ?e eiopa-Base:hasEUCountryWhereEntityOperates CountryCodes:NL.\n",
    "}\"\"\"\n",
    "\n",
    "# generator_query = \"\"\" select distinct ?a where{\n",
    "#                   ?e eiopa-Base:hasInsuranceUndertakingID ?a .\n",
    "#                   ?e eiopa-Base:hasEUCountryWhereEntityOperates CountryCodes:NL.\n",
    "#                   ?e eiopa-Base:hasOperationStartDate [].\n",
    "# }\"\"\"\n",
    "\n",
    "results = g.query(generator_query)\n",
    "for row in results:\n",
    "    print(get_name(row[0]))"
   ]
  },
  {
   "cell_type": "code",
   "execution_count": null,
   "metadata": {},
   "outputs": [],
   "source": [
    "# Where is <A> located and what is the registration number?\n",
    "\n",
    "query = \"\"\" select distinct ?a ?b where{ ?e eiopa-Base:hasIdentifyingName \"achmea zorgverzekeringen n.v.\" . ?e gleif-Base:identifies ?x .?e eiopa-Base:hasInsuranceUndertakingID ?b. ?x gleif-L1:hasLegalAddress/gleif-base:hasCity ?a.}\n",
    "        \"\"\"\n",
    "results = g.query(query)\n",
    "\n",
    "for row in results:\n",
    "    for item in row:\n",
    "        print(get_name(item), end = \" \")\n",
    "    print(\"\\n\")\n",
    "    \n",
    "generator_query = \"\"\"\n",
    "                    select distinct ?a where{ ?x gleif-L1:hasLegalName ?a.?e gleif-Base:identifies ?x .?e eiopa-Base:hasInsuranceUndertakingID []. ?x gleif-L1:hasLegalAddress/gleif-base:hasCity [].?e eiopa-Base:hasEUCountryWhereEntityOperates CountryCodes:NL.}\n",
    "                  \"\"\"\n",
    "\n",
    "results = g.query(generator_query)\n",
    "for row in results:\n",
    "    for item in row:\n",
    "        print(get_name(item), end = \" \")\n",
    "    print(\"\\n\")"
   ]
  },
  {
   "cell_type": "code",
   "execution_count": null,
   "metadata": {
    "pycharm": {
     "name": "#%%\n"
    }
   },
   "outputs": [],
   "source": []
  }
 ],
 "metadata": {
  "kernelspec": {
   "display_name": "Python [conda env:nqm_fairseq]",
   "language": "python",
   "name": "conda-env-nqm_fairseq-py"
  },
  "language_info": {
   "codemirror_mode": {
    "name": "ipython",
    "version": 3
   },
   "file_extension": ".py",
   "mimetype": "text/x-python",
   "name": "python",
   "nbconvert_exporter": "python",
   "pygments_lexer": "ipython3",
   "version": "3.8.8"
  }
 },
 "nbformat": 4,
 "nbformat_minor": 4
}
