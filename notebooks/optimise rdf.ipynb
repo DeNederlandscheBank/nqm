{
 "cells": [
  {
   "cell_type": "code",
   "execution_count": null,
   "metadata": {},
   "outputs": [],
   "source": [
    "import rdflib"
   ]
  },
  {
   "cell_type": "code",
   "execution_count": null,
   "metadata": {},
   "outputs": [],
   "source": [
    "prefixes = \"\"\"\n",
    "    PREFIX xl: <http://www.xbrl.org/2003/XLink/>\n",
    "    PREFIX xbrll: <https://w3id.org/vocab/xbrll/>\n",
    "    PREFIX xlink: <http://www.w3.org/1999/xlink/>\n",
    "\"\"\""
   ]
  },
  {
   "cell_type": "code",
   "execution_count": null,
   "metadata": {},
   "outputs": [],
   "source": [
    "def remove_prefix(s1:str, s2:str):\n",
    "    min_len = min(len(s1), len(s2))\n",
    "    for i in range(1, min_len):\n",
    "        if s1[:i] != s2[:i]:\n",
    "            s1 = s1[i-1:]\n",
    "            s2 = s2[i-1:]\n",
    "            break\n",
    "    return [s1, s2]"
   ]
  },
  {
   "cell_type": "code",
   "execution_count": null,
   "metadata": {},
   "outputs": [],
   "source": [
    "schema_file = open('..\\\\data\\\\raw\\\\schema.ttl', encoding = 'utf-8')\n",
    "rdf_schema = rdflib.Graph()\n",
    "rdf_schema.parse(file=schema_file, format=\"turtle\")\n",
    "\n",
    "linkbase_file = open('..\\\\data\\\\raw\\\\linkbase.ttl', encoding = 'utf-8')\n",
    "rdf_linkbase = rdflib.Graph()\n",
    "rdf_linkbase.parse(file=linkbase_file, format=\"turtle\")"
   ]
  },
  {
   "cell_type": "code",
   "execution_count": null,
   "metadata": {},
   "outputs": [],
   "source": [
    "combinations = rdf_linkbase.query(prefixes + \"\"\"\n",
    "    SELECT ?loc_ref ?loc_id \n",
    "    WHERE\n",
    "    { \n",
    "      ?loc_ref xl:type xbrll:locator .\n",
    "      ?loc_ref <http://www.w3.org/1999/02/22-rdf-syntax-ns/id> ?loc_id .\n",
    "    }\n",
    "\"\"\")"
   ]
  },
  {
   "cell_type": "code",
   "execution_count": null,
   "metadata": {},
   "outputs": [],
   "source": [
    "len(combinations)"
   ]
  },
  {
   "cell_type": "code",
   "execution_count": null,
   "metadata": {
    "tags": []
   },
   "outputs": [],
   "source": [
    "combinations = []\n",
    "for triple in rdf_linkbase.triples((None, None, rdflib.term.URIRef('https://w3id.org/vocab/xbrll/locator'))):\n",
    "#     found = False\n",
    "    # I changed the uri here below to rdf:id (instead of xbrll:concept)\n",
    "    for triple2 in rdf_linkbase.triples((triple[0],rdflib.term.URIRef('http://www.w3.org/1999/02/22-rdf-syntax-ns/id'),None)):\n",
    "        combination = [triple[0], triple2[2]]\n",
    "        combinations.append(combination)\n",
    "#         found = True\n",
    "#     if found:\n",
    "#         rdf_linkbase.remove((triple[0], None, None))        "
   ]
  },
  {
   "cell_type": "code",
   "execution_count": null,
   "metadata": {},
   "outputs": [],
   "source": [
    "len(combinations)"
   ]
  },
  {
   "cell_type": "code",
   "execution_count": null,
   "metadata": {},
   "outputs": [],
   "source": [
    "# replace all loc_refs by loc_ids\n",
    "to_add = []\n",
    "to_remove = []\n",
    "\n",
    "# first determine which triples to add / remove\n",
    "for loc_ref, loc_id in combinations:\n",
    "    to_add += [(loc_id, pred, obj) for (subj, pred, obj) in rdf_linkbase.triples((loc_ref, None, None))]\n",
    "    to_add += [(subj, pred, loc_id) for (subj, pred, obj) in rdf_linkbase.triples((None, None, loc_ref))]\n",
    "    to_remove += [(loc_ref, pred, obj) for (subj, pred, obj) in rdf_linkbase.triples((loc_ref, None, None))]\n",
    "    to_remove += [(subj, pred, loc_ref) for (subj, pred, obj) in rdf_linkbase.triples((None, None, loc_ref))]\n",
    "\n",
    "# add and remove triples\n",
    "    for triple in to_add:\n",
    "    rdf_linkbase.add(triple)\n",
    "for triple in to_remove:\n",
    "    rdf_linkbase.remove(triple)\n",
    "\n",
    "# delete triples with rdf:id predicate\n",
    "rdf_linkbase.remove((None, 'http://www.w3.org/1999/02/22-rdf-syntax-ns/id' , None))"
   ]
  },
  {
   "cell_type": "code",
   "execution_count": null,
   "metadata": {},
   "outputs": [],
   "source": [
    "combinations = rdf_linkbase.query(prefixes + \"\"\"\n",
    "    SELECT ?concept ?label\n",
    "    WHERE \n",
    "    {\n",
    "        ?link ?pred xbrll:concept-label .\n",
    "        ?link xl:from ?concept .\n",
    "        ?link xl:to ?resource .\n",
    "        ?resource <http://www.w3.org/1999/02/22-rdf-syntax-ns/value> ?label .\n",
    "    }\n",
    "\"\"\")"
   ]
  },
  {
   "cell_type": "code",
   "execution_count": null,
   "metadata": {},
   "outputs": [],
   "source": [
    "len(combinations)"
   ]
  },
  {
   "cell_type": "code",
   "execution_count": null,
   "metadata": {
    "tags": []
   },
   "outputs": [],
   "source": [
    "combinations = []\n",
    "j = 0\n",
    "for triple in rdf_linkbase.triples((None,None,rdflib.term.URIRef('https://w3id.org/vocab/xbrll/concept-label'))):\n",
    "    from_key = None\n",
    "    values = []\n",
    "    for triple2 in rdf_linkbase.triples((triple[0],rdflib.term.URIRef('http://www.xbrl.org/2003/XLink/from'),None)):\n",
    "        from_key = remove_prefix(str(triple2[0]), str(triple2[2]))[1]\n",
    "    for triple2 in rdf_linkbase.triples((triple[0],rdflib.term.URIRef('http://www.xbrl.org/2003/XLink/to'),None)):\n",
    "        for triple3 in rdf_linkbase.triples((triple2[2], rdflib.term.URIRef('http://www.w3.org/1999/02/22-rdf-syntax-ns/value'), None)):\n",
    "            values.append(triple3[2])\n",
    "    if (from_key is not None) and (len(values) > 0):\n",
    "        combinations.append([from_key, values, triple[0]])"
   ]
  },
  {
   "cell_type": "code",
   "execution_count": null,
   "metadata": {},
   "outputs": [],
   "source": [
    "len(combinations)"
   ]
  },
  {
   "cell_type": "code",
   "execution_count": null,
   "metadata": {
    "tags": []
   },
   "outputs": [],
   "source": [
    "for subj, pred, obj in rdf_schema.triples((None, rdflib.term.URIRef('http://www.w3.org/1999/02/22-rdf-syntax-ns/id'), None)):\n",
    "    for combination in combinations:\n",
    "        if str(obj) in combination:\n",
    "            for string in combination[1]:\n",
    "                rdf_schema.add((subj, rdflib.term.URIRef('https://w3id.org/vocab/xbrll/concept-label'), string))\n",
    "        rdf_linkbase.remove((subj, None, None))"
   ]
  },
  {
   "cell_type": "code",
   "execution_count": null,
   "metadata": {},
   "outputs": [],
   "source": [
    "fg = open('..\\\\data\\\\raw\\\\linkbase2.ttl', \"w\", encoding = \"utf-8\")\n",
    "fg.write(rdf_linkbase.serialize(format='turtle').decode('utf-8'))\n",
    "fg.close()"
   ]
  },
  {
   "cell_type": "code",
   "execution_count": null,
   "metadata": {},
   "outputs": [],
   "source": [
    "fg = open('..\\\\data\\\\raw\\\\schema2.ttl', \"w\", encoding = \"utf-8\")\n",
    "fg.write(rdf_schema.serialize(format='turtle').decode('utf-8'))\n",
    "fg.close()"
   ]
  },
  {
   "cell_type": "code",
   "execution_count": null,
   "metadata": {},
   "outputs": [],
   "source": []
  }
 ],
 "metadata": {
  "kernelspec": {
   "display_name": "Python 3",
   "language": "python",
   "name": "python3"
  },
  "language_info": {
   "codemirror_mode": {
    "name": "ipython",
    "version": 3
   },
   "file_extension": ".py",
   "mimetype": "text/x-python",
   "name": "python",
   "nbconvert_exporter": "python",
   "pygments_lexer": "ipython3",
   "version": "3.7.9"
  }
 },
 "nbformat": 4,
 "nbformat_minor": 2
}
