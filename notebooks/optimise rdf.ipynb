{
 "metadata": {
  "language_info": {
   "codemirror_mode": {
    "name": "ipython",
    "version": 3
   },
   "file_extension": ".py",
   "mimetype": "text/x-python",
   "name": "python",
   "nbconvert_exporter": "python",
   "pygments_lexer": "ipython3",
   "version": 3
  },
  "orig_nbformat": 2,
  "kernelspec": {
   "name": "python_defaultSpec_1607615354581",
   "display_name": "Python 3.7.4 64-bit ('base': conda)"
  }
 },
 "nbformat": 4,
 "nbformat_minor": 2,
 "cells": [
  {
   "cell_type": "code",
   "execution_count": null,
   "metadata": {},
   "outputs": [],
   "source": [
    "import rdflib"
   ]
  },
  {
   "cell_type": "code",
   "execution_count": null,
   "metadata": {},
   "outputs": [],
   "source": [
    "def remove_prefix(s1:str, s2:str):\n",
    "    min_len = min(len(s1), len(s2))\n",
    "    for i in range(1, min_len):\n",
    "        if s1[:i] != s2[:i]:\n",
    "            s1 = s1[i-1:]\n",
    "            s2 = s2[i-1:]\n",
    "            break\n",
    "    return [s1, s2]"
   ]
  },
  {
   "cell_type": "code",
   "execution_count": null,
   "metadata": {},
   "outputs": [],
   "source": [
    "schema_file = open('\\\\\\\\Client\\\\G$\\\\EBO\\\\DSH\\\\Nijhuis\\\\nqm\\\\data\\\\raw\\\\schema.ttl', encoding = 'utf-8')\n",
    "rdf_schema = rdflib.Graph()\n",
    "rdf_schema.parse(file=schema_file, format=\"turtle\")\n",
    "\n",
    "linkbase_file = open('\\\\\\\\Client\\\\G$\\\\EBO\\\\DSH\\\\Nijhuis\\\\nqm\\\\data\\\\raw\\\\linkbase.ttl', encoding = 'utf-8')\n",
    "rdf_linkbase = rdflib.Graph()\n",
    "rdf_linkbase.parse(file=linkbase_file, format=\"turtle\")"
   ]
  },
  {
   "cell_type": "code",
   "execution_count": null,
   "metadata": {
    "tags": []
   },
   "outputs": [],
   "source": [
    "combinations = []\n",
    "for triple in rdf_linkbase.triples((None,None,rdflib.term.URIRef('https://w3id.org/vocab/xbrlllocator'))):\n",
    "    found = False\n",
    "    for triple2 in rdf_linkbase.triples((triple[0],rdflib.term.URIRef('https://w3id.org/vocab/xbrllconcept'),None)):\n",
    "        combination = [triple[0], triple2[2]]\n",
    "        combinations.append(combination)\n",
    "        found = True\n",
    "    if found:\n",
    "        rdf_linkbase.remove((triple[0], None, None))        "
   ]
  },
  {
   "cell_type": "code",
   "execution_count": null,
   "metadata": {},
   "outputs": [],
   "source": [
    "for combination in combinations:\n",
    "    for triple in rdf_linkbase.triples((combination[0],None,None)):\n",
    "        rdf_linkbase.add((combination[1], triple[1], triple[2])) \n",
    "    rdf_linkbase.remove((combination[0], None, None))       \n",
    "    for triple in rdf_linkbase.triples((None, None, combination[0])):\n",
    "        rdf_linkbase.add((triple[0], triple[1], combination[1])) \n",
    "    rdf_linkbase.remove((None, None, combination[0]))       \n",
    "            "
   ]
  },
  {
   "cell_type": "code",
   "execution_count": null,
   "metadata": {
    "tags": []
   },
   "outputs": [],
   "source": [
    "combinations = []\n",
    "j = 0\n",
    "for triple in rdf_linkbase.triples((None,None,rdflib.term.URIRef('https://w3id.org/vocab/xbrllconcept-label'))):\n",
    "    from_key = None\n",
    "    values = []\n",
    "    for triple2 in rdf_linkbase.triples((triple[0],rdflib.term.URIRef('http://www.xbrl.org/2003/XLinkfrom'),None)):\n",
    "        from_key = remove_prefix(str(triple2[0]), str(triple2[2]))[1]\n",
    "    for triple2 in rdf_linkbase.triples((triple[0],rdflib.term.URIRef('http://www.xbrl.org/2003/XLinkto'),None)):\n",
    "        for triple3 in rdf_linkbase.triples((triple2[2], rdflib.term.URIRef('http://www.w3.org/1999/02/22-rdf-syntax-ns#value'), None)):\n",
    "            values.append(triple3[2])\n",
    "    if (from_key is not None) and (len(values) > 0):\n",
    "        combinations.append([from_key, values, triple[0]])"
   ]
  },
  {
   "cell_type": "code",
   "execution_count": null,
   "metadata": {
    "tags": []
   },
   "outputs": [],
   "source": [
    "for triple in rdf_schema.triples((None, rdflib.term.URIRef('http://www.w3.org/1999/02/22-rdf-syntax-ns#id'), None)):\n",
    "    for combination in combinations:\n",
    "        if str(triple[2]) in combination:\n",
    "            for string in combination[1]:\n",
    "                rdf_schema.add((triple[0], rdflib.term.URIRef('https://w3id.org/vocab/xbrllconcept-label'), string))\n",
    "        # rdf_linkbase.remove((trip[0], None, None))"
   ]
  },
  {
   "cell_type": "code",
   "execution_count": null,
   "metadata": {},
   "outputs": [],
   "source": [
    "fg = open('..\\\\data\\\\raw\\\\linkbase2.rdf', \"w\", encoding = \"utf-8\")\n",
    "fg.write(rdf_linkbase.serialize(format='turtle').decode('utf-8'))\n",
    "fg.close()\n",
    "\n",
    "fg = open('..\\\\data\\\\raw\\\\schema2.rdf', \"w\", encoding = \"utf-8\")\n",
    "fg.write(rdf_schema.serialize(format='turtle').decode('utf-8'))\n",
    "fg.close()"
   ]
  },
  {
   "cell_type": "code",
   "execution_count": null,
   "metadata": {},
   "outputs": [],
   "source": []
  }
 ]
}