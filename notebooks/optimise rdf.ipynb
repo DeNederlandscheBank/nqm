{
 "cells": [
  {
   "cell_type": "code",
   "execution_count": null,
   "metadata": {},
   "outputs": [],
   "source": [
    "dataiku_env = True\n",
    "try:\n",
    "    import dataiku\n",
    "except:\n",
    "    dataiku_env = False"
   ]
  },
  {
   "cell_type": "code",
   "execution_count": null,
   "metadata": {},
   "outputs": [],
   "source": [
    "import rdflib\n",
    "from os.path import join"
   ]
  },
  {
   "cell_type": "code",
   "execution_count": null,
   "metadata": {},
   "outputs": [],
   "source": [
    "if dataiku_env:\n",
    "    handle = dataiku.Folder(\"taxonomies\")\n",
    "    file_path = handle.get_path() + \"/processed/\"\n",
    "else:\n",
    "    file_path = join('..', 'data', 'rdf', 'xbrl', 'taxonomies')"
   ]
  },
  {
   "cell_type": "code",
   "execution_count": null,
   "metadata": {},
   "outputs": [],
   "source": [
    "prefixes = \"\"\"\n",
    "    PREFIX xl: <http://www.xbrl.org/2003/xlink/>\n",
    "    PREFIX xbrll: <https://w3id.org/vocab/xbrll/>\n",
    "    PREFIX xlink: <http://www.w3.org/1999/xlink/>\n",
    "\"\"\""
   ]
  },
  {
   "cell_type": "code",
   "execution_count": null,
   "metadata": {},
   "outputs": [],
   "source": [
    "schema_file = open(join(file_path, 'schema.ttl'), encoding = 'utf-8')\n",
    "rdf_schema = rdflib.Graph()\n",
    "rdf_schema.parse(file=schema_file, format=\"turtle\")\n",
    "schema_file.close()\n",
    "\n",
    "linkbase_file = open(join(file_path, 'linkbase.ttl'), encoding = 'utf-8')\n",
    "rdf_linkbase = rdflib.Graph()\n",
    "rdf_linkbase.parse(file=linkbase_file, format=\"turtle\")\n",
    "linkbase_file.close()"
   ]
  },
  {
   "cell_type": "markdown",
   "metadata": {},
   "source": [
    "# Process concept-labels"
   ]
  },
  {
   "cell_type": "code",
   "execution_count": null,
   "metadata": {},
   "outputs": [],
   "source": [
    "combinations = rdf_linkbase.query(prefixes + \"\"\"\n",
    "    SELECT ?id ?locator ?resource ?link\n",
    "    WHERE \n",
    "    {\n",
    "        ?link ?pred xbrll:concept-label .\n",
    "        ?link xl:from ?locator .\n",
    "        ?link xl:to ?resource .\n",
    "        ?locator rdf:id ?id .\n",
    "        ?resource rdf:value ?label .\n",
    "    }\n",
    "\"\"\")"
   ]
  },
  {
   "cell_type": "code",
   "execution_count": null,
   "metadata": {},
   "outputs": [],
   "source": [
    "list(combinations)"
   ]
  },
  {
   "cell_type": "code",
   "execution_count": null,
   "metadata": {},
   "outputs": [],
   "source": [
    "to_add = []\n",
    "to_remove = []\n",
    "for combination in combinations:\n",
    "    for subj, _, _ in rdf_schema.triples((None, rdflib.term.URIRef('http://www.w3.org/1999/02/22-rdf-syntax-ns#id'), combination[0])):\n",
    "\n",
    "        for locator, pred, obj in rdf_linkbase.triples((combination[1], None, None)):\n",
    "            if pred != rdflib.term.URIRef('http://www.xbrl.org/2003/XLink/type'):\n",
    "                to_add.append((subj, pred, obj))\n",
    "            to_remove.append((locator, pred, obj))\n",
    "\n",
    "        for resource, pred, obj in rdf_linkbase.triples((combination[2], None, None)):\n",
    "            if pred != rdflib.term.URIRef('http://www.w3.org/1999/xlink/role'):\n",
    "                to_add.append((subj, pred, obj))\n",
    "            to_remove.append((resource, pred, obj))\n",
    "\n",
    "        for link, pred, obj in rdf_linkbase.triples((combination[3], None, None)):\n",
    "            to_remove.append((link, pred, obj))\n",
    "\n",
    "for triple in to_add:\n",
    "    rdf_schema.add(triple)\n",
    "for triple in to_remove:\n",
    "    rdf_linkbase.remove(triple)"
   ]
  },
  {
   "cell_type": "code",
   "execution_count": null,
   "metadata": {},
   "outputs": [],
   "source": [
    "fg = open(join(file_path, 'linkbase_optimized.ttl'), \"w\", encoding = \"utf-8\")\n",
    "fg.write(rdf_linkbase.serialize(format='turtle').decode('utf-8'))\n",
    "fg.close()"
   ]
  },
  {
   "cell_type": "code",
   "execution_count": null,
   "metadata": {},
   "outputs": [],
   "source": [
    "fg = open(join(file_path, 'schema_optimized.ttl'), \"w\", encoding = \"utf-8\")\n",
    "fg.write(rdf_schema.serialize(format='turtle').decode('utf-8'))\n",
    "fg.close()"
   ]
  },
  {
   "cell_type": "code",
   "execution_count": null,
   "metadata": {},
   "outputs": [],
   "source": []
  }
 ],
 "metadata": {
  "creator": "M.Nijhuis",
  "kernelspec": {
   "display_name": "Python 3",
   "language": "python",
   "name": "python3"
  },
  "language_info": {
   "codemirror_mode": {
    "name": "ipython",
    "version": 3
   },
   "file_extension": ".py",
   "mimetype": "text/x-python",
   "name": "python",
   "nbconvert_exporter": "python",
   "pygments_lexer": "ipython3",
   "version": "3.7.9"
  }
 },
 "nbformat": 4,
 "nbformat_minor": 2
}
