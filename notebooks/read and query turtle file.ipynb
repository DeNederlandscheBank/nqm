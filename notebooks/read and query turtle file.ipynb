{
 "cells": [
  {
   "cell_type": "code",
   "execution_count": null,
   "metadata": {},
   "outputs": [],
   "source": [
    "import statistics\n",
    "import collections\n",
    "import pandas as pd\n",
    "import json\n",
    "from os.path import join\n",
    "\n",
    "import networkx as nx\n",
    "from networkx import Graph as NXGraph\n",
    "import matplotlib.pyplot as plt\n",
    "\n",
    "import rdflib\n",
    "from rdflib import OWL, RDFS, Literal, URIRef, BNode\n",
    "from rdflib.extras.external_graph_libs import rdflib_to_networkx_graph, rdflib_to_networkx_digraph\n",
    "import rdfextras\n",
    "rdfextras.registerplugins()\n",
    "\n",
    "import ontospy"
   ]
  },
  {
   "cell_type": "code",
   "execution_count": null,
   "metadata": {},
   "outputs": [],
   "source": [
    "output_dir = join(\"..\", \"data\", \"raw\")"
   ]
  },
  {
   "cell_type": "markdown",
   "metadata": {},
   "source": [
    "## instance"
   ]
  },
  {
   "cell_type": "code",
   "execution_count": null,
   "metadata": {},
   "outputs": [],
   "source": [
    "g = rdflib.Graph()\n",
    "\n",
    "# read entities\n",
    "with open(join(output_dir, \"entities.ttl\"), encoding = \"utf-8\") as fp:\n",
    "    g.parse(data=fp.read(), format='turtle')\n",
    "\n",
    "# read test_instance\n",
    "with open(join(output_dir, \"qrs_240_instance.ttl\"), encoding = \"utf-8\") as fp:\n",
    "    g.parse(data=fp.read(), format='turtle')\n",
    "    \n",
    "# read taxonomy\n",
    "# with open(join(output_dir, \"taxo3.ttl\"), encoding = \"utf-8\") as fp:\n",
    "#     g.parse(data=fp.read(), format='turtle')\n",
    "    "
   ]
  },
  {
   "cell_type": "code",
   "execution_count": null,
   "metadata": {},
   "outputs": [],
   "source": [
    "for subj, pred, obj in g:\n",
    "    # check if there is at least one triple in the Graph\n",
    "    if (subj, pred, obj) not in g:\n",
    "        raise Exception(\"It better be!\")\n",
    "\n",
    "# print the number of \"triples\" in the Graph\n",
    "print(\"graph has {} statements.\".format(len(g)))\n",
    "\n",
    "# print out the entire Graph in the RDF Turtle format\n",
    "# print(g.serialize(format=\"turtle\").decode(\"utf-8\"))"
   ]
  },
  {
   "cell_type": "code",
   "execution_count": null,
   "metadata": {
    "scrolled": true
   },
   "outputs": [],
   "source": [
    "results = g.query(\"\"\"SELECT ?s ?p ?o WHERE {?s ?p ?o .}\"\"\")\n",
    "for row in results:\n",
    "    print(row)"
   ]
  },
  {
   "cell_type": "code",
   "execution_count": null,
   "metadata": {},
   "outputs": [],
   "source": [
    "# only get obj and subj with rel member where obj contains 'LB' in the name\n",
    "results = g.query(\"\"\"SELECT ?s ?o WHERE {?s xbrldi:explicitMember ?o . \n",
    "                            FILTER regex(str(?o), \"LB\").}\"\"\")\n",
    "for row in results:\n",
    "    print(row)"
   ]
  },
  {
   "cell_type": "code",
   "execution_count": null,
   "metadata": {
    "scrolled": true
   },
   "outputs": [],
   "source": [
    "# Get the facts that have members with 'LB' in the name. Traverse\n",
    "\n",
    "results = g.query(\"\"\"SELECT ?o WHERE {\n",
    "                            ?s xbrll:hasContext ?context_o.\n",
    "                            ?context_o xbrll:hasScenario ?scenario_o.\n",
    "                            ?scenario_o xbrldi:explicitMember ?o . \n",
    "                            FILTER regex(str(?o), \"s2c_LB:x46\").}\"\"\")\n",
    "for row in results:\n",
    "    print(row)"
   ]
  },
  {
   "cell_type": "code",
   "execution_count": null,
   "metadata": {},
   "outputs": [],
   "source": [
    "# Get the facts that have members with 's2c_LB:x10'.\n",
    "\n",
    "results = g.query(\"\"\"SELECT ?s WHERE {\n",
    "                            ?s xbrll:hasContext ?context_o.\n",
    "                            ?context_o xbrll:hasScenario ?scenario_o.\n",
    "                            ?scenario_o xbrldi:explicitMember \"s2c_LB:x10\"^^rdf:XMLLiteral.}\"\"\")\n",
    "for row in results:\n",
    "    print(row)"
   ]
  },
  {
   "cell_type": "markdown",
   "metadata": {},
   "source": [
    "## Taxonomy"
   ]
  },
  {
   "cell_type": "code",
   "execution_count": null,
   "metadata": {},
   "outputs": [],
   "source": [
    "g = rdflib.Graph()\n",
    "with open(join(output_dir, \"taxo.ttl\"), encoding = \"utf-8\") as fp:\n",
    "    string = fp.read()\n",
    "g.parse(data=string, format='turtle')"
   ]
  },
  {
   "cell_type": "code",
   "execution_count": null,
   "metadata": {},
   "outputs": [],
   "source": [
    "for subj, pred, obj in g:\n",
    "    # check if there is at least one triple in the Graph\n",
    "    if (subj, pred, obj) not in g:\n",
    "        raise Exception(\"It better be!\")\n",
    "\n",
    "\n",
    "# print the number of \"triples\" in the Graph\n",
    "print(\"graph has {} statements.\".format(len(g)))\n",
    "\n",
    "# print out the entire Graph in the RDF Turtle format\n",
    "print(g.serialize(format=\"turtle\").decode(\"utf-8\"))"
   ]
  },
  {
   "cell_type": "code",
   "execution_count": null,
   "metadata": {},
   "outputs": [],
   "source": [
    "# only get obj and subj with rel member where obj contains 'Article' in the name\n",
    "results = g.query(\"\"\"SELECT ?s ?o WHERE {?s rdf:value ?o . \n",
    "                            FILTER regex(str(?o), \"Article 304\").}\"\"\")\n",
    "for row in results:\n",
    "    print(row)\n"
   ]
  },
  {
   "cell_type": "code",
   "execution_count": null,
   "metadata": {},
   "outputs": [],
   "source": [
    "# only get obj and subj with rel member where obj contains 'Article' in the name\n",
    "results = g.query(\"\"\"SELECT ?s WHERE {?s rdf:value \"Article 304\"@en . \n",
    "                            }\"\"\")\n",
    "for row in results:\n",
    "    print(row)\n"
   ]
  },
  {
   "cell_type": "code",
   "execution_count": null,
   "metadata": {},
   "outputs": [],
   "source": [
    "# Get the facts that have members with 'Article' in the name. Traverse\n",
    "\n",
    "results = g.query(\"\"\"SELECT ?s ?o WHERE {\n",
    "                            ?s ns2:arcroleconcept-label ?scen_o.\n",
    "                            ?scen_o rdf:value ?o . \n",
    "                            FILTER regex(str(?o), \"Article 304\").}\"\"\")\n",
    "for row in results:\n",
    "    print(row)\n"
   ]
  },
  {
   "cell_type": "markdown",
   "metadata": {},
   "source": [
    "Some examples with possibilities.\n",
    "\n",
    "https://www.w3.org/2009/Talks/0615-qbe/#q1r"
   ]
  },
  {
   "cell_type": "code",
   "execution_count": null,
   "metadata": {},
   "outputs": [],
   "source": []
  }
 ],
 "metadata": {
  "kernelspec": {
   "display_name": "Python 3",
   "language": "python",
   "name": "python3"
  },
  "language_info": {
   "codemirror_mode": {
    "name": "ipython",
    "version": 3
   },
   "file_extension": ".py",
   "mimetype": "text/x-python",
   "name": "python",
   "nbconvert_exporter": "python",
   "pygments_lexer": "ipython3",
   "version": "3.7.9"
  }
 },
 "nbformat": 4,
 "nbformat_minor": 4
}
