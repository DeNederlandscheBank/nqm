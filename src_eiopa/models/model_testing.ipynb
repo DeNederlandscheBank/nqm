{
 "cells": [
  {
   "cell_type": "code",
   "execution_count": 3,
   "id": "institutional-likelihood",
   "metadata": {},
   "outputs": [],
   "source": [
    "from utils import create_data_loader,build_vocab\n",
    "from torchtext.data.utils import get_tokenizer\n",
    "\n",
    "import os\n",
    "from os.path import join, exists\n"
   ]
  },
  {
   "cell_type": "code",
   "execution_count": 4,
   "id": "seven-shopper",
   "metadata": {},
   "outputs": [],
   "source": [
    "NL_TOKENIZER = get_tokenizer('spacy', language='en_core_web_sm')\n",
    "QL_TOKENIZER = get_tokenizer('spacy', language='en_core_web_sm')"
   ]
  },
  {
   "cell_type": "code",
   "execution_count": 5,
   "id": "selective-start",
   "metadata": {},
   "outputs": [
    {
     "name": "stdout",
     "output_type": "stream",
     "text": [
      "Required files exist!\n"
     ]
    }
   ],
   "source": [
    "path = join(\"..\",\"..\",\"data\",\"eiopa\",\"3_processed\")\n",
    "train_file_nl = join(path,\"data_nl-05-03_13-12_baseline.txt\")\n",
    "train_file_ql = join(path,\"data_ql-05-03_13-12_baseline.txt\")\n",
    "\n",
    "if exists(train_file_nl) and exists(train_file_ql):\n",
    "    print(\"Required files exist!\")\n",
    "    \n",
    "vocab_nl = build_vocab(train_file_nl,NL_TOKENIZER)\n",
    "vocab_ql = build_vocab(train_file_ql,QL_TOKENIZER)"
   ]
  },
  {
   "cell_type": "code",
   "execution_count": 14,
   "id": "dense-soviet",
   "metadata": {},
   "outputs": [],
   "source": [
    "data = create_data_loader(train_file_nl,train_file_ql,vocab_nl,vocab_ql)"
   ]
  },
  {
   "cell_type": "code",
   "execution_count": 22,
   "id": "painful-withdrawal",
   "metadata": {},
   "outputs": [
    {
     "name": "stdout",
     "output_type": "stream",
     "text": [
      "(tensor([[2, 2, 2,  ..., 2, 2, 2],\n",
      "        [6, 6, 6,  ..., 6, 6, 6],\n",
      "        [5, 5, 5,  ..., 5, 5, 5],\n",
      "        ...,\n",
      "        [1, 1, 1,  ..., 1, 1, 7],\n",
      "        [1, 1, 1,  ..., 1, 1, 4],\n",
      "        [1, 1, 1,  ..., 1, 1, 3]]), tensor([[ 2,  2,  2,  ...,  2,  2,  2],\n",
      "        [20, 20, 20,  ..., 20, 20, 20],\n",
      "        [10, 10, 10,  ..., 10, 10, 10],\n",
      "        ...,\n",
      "        [ 1,  1,  1,  ...,  1,  1, 15],\n",
      "        [ 1,  1,  1,  ...,  1,  1, 12],\n",
      "        [ 1,  1,  1,  ...,  1,  1,  3]]))\n",
      "(tensor([[  2,   2,   2,   2,   2,   2,   2,   2,   2,   2,   2,   2],\n",
      "        [  6,   6,   6,   6,   6,   6,   6,   6,   6,   6,   6,   6],\n",
      "        [  5,   5,   5,   5,   5,   5,   5,   5,   5,   5,   5,   5],\n",
      "        [209,  67, 128,  91,  36,  53,  57,   8,  46,  67,   9, 222],\n",
      "        [ 24, 122,  12,  15,  22,  34,  22,   7,  54, 214,  24,  41],\n",
      "        [  8,  11, 159,  51,   8,  19,   8,  14,  59,  10,  11,   8],\n",
      "        [  7, 194,   8,   8,   7,   8,   7,  73,  15,   7, 220,   7],\n",
      "        [  4,  11,   7,   7,   4,   7,   4,   4,   8,   4,  17,   4],\n",
      "        [  3,  31,   4,   4,   3,   4,   3,   3,   7,   3, 174,   3],\n",
      "        [  1,   7,   3,   3,   1,   3,   1,   1,   4,   1,  10,   1],\n",
      "        [  1,   4,   1,   1,   1,   1,   1,   1,   3,   1,   7,   1],\n",
      "        [  1,   3,   1,   1,   1,   1,   1,   1,   1,   1,  11,   1],\n",
      "        [  1,   1,   1,   1,   1,   1,   1,   1,   1,   1,   4,   1],\n",
      "        [  1,   1,   1,   1,   1,   1,   1,   1,   1,   1,   3,   1]]), tensor([[  2,   2,   2,   2,   2,   2,   2,   2,   2,   2,   2,   2],\n",
      "        [ 20,  20,  20,  20,  20,  20,  20,  20,  20,  20,  20,  20],\n",
      "        [ 10,  10,  10,  10,  10,  10,  10,  10,  10,  10,  10,  10],\n",
      "        [ 21,  21,  21,  21,  21,  21,  21,  21,  21,  21,  21,  21],\n",
      "        [  5,   5,   5,   5,   5,   5,   5,   5,   5,   5,   5,   5],\n",
      "        [ 16,  16,  16,  16,  16,  16,  16,  16,  16,  16,  16,  16],\n",
      "        [  5,   5,   5,   5,   5,   5,   5,   5,   5,   5,   5,   5],\n",
      "        [ 11,  11,  11,  11,  11,  11,  11,  11,  11,  11,  11,  11],\n",
      "        [  7,   7,   7,   7,   7,   7,   7,   7,   7,   7,   7,   7],\n",
      "        [  4,   4,   4,   4,   4,   4,   4,   4,   4,   4,   4,   4],\n",
      "        [  9,   9,   9,   9,   9,   9,   9,   9,   9,   9,   9,   9],\n",
      "        [  6,   6,   6,   6,   6,   6,   6,   6,   6,   6,   6,   6],\n",
      "        [ 19,  19,  19,  19,  19,  19,  19,  19,  19,  19,  19,  19],\n",
      "        [222,  80, 141, 104,  50,  66,  70,  23,  59,  80,  24, 235],\n",
      "        [ 38, 135,  27,  29,  36,  48,  36,   8,  67, 227,  38,  55],\n",
      "        [ 23,  26, 172,  64,  23,  33,  23,  28,  72,  25,  26,  23],\n",
      "        [ 22, 207,  23,  23,  22,  23,  22,  86,  29,  22, 233,  22],\n",
      "        [  8,  26,  22,  22,   8,  22,   8,   8,  23,   8,  31,   8],\n",
      "        [ 11,  45,   8,   8,  11,   8,  11,  11,  22,  11, 187,  11],\n",
      "        [  7,  22,  11,  11,   7,  11,   7,   7,   8,   7,  25,   7],\n",
      "        [  4,   8,   7,   7,   4,   7,   4,   4,  11,   4,  22,   4],\n",
      "        [  9,  11,   4,   4,   9,   4,   9,   9,   7,   9,  26,   9],\n",
      "        [  6,   7,   9,   9,   6,   9,   6,   6,   4,   6,   8,   6],\n",
      "        [ 18,   4,   6,   6,  18,   6,  18,  18,   9,  18,  11,  18],\n",
      "        [ 13,   9,  18,  18,  13,  18,  13,  13,   6,  13,   7,  13],\n",
      "        [  7,   6,  13,  13,   7,  13,   7,   7,  18,   7,   4,   7],\n",
      "        [  4,  18,   7,   7,   4,   7,   4,   4,  13,   4,   9,   4],\n",
      "        [ 14,  13,   4,   4,  14,   4,  14,  14,   7,  14,   6,  14],\n",
      "        [  6,   7,  14,  14,   6,  14,   6,   6,   4,   6,  18,   6],\n",
      "        [ 17,   4,   6,   6,  17,   6,  17,  17,  14,  17,  13,  17],\n",
      "        [ 10,  14,  17,  17,  10,  17,  10,  10,   6,  10,   7,  10],\n",
      "        [  8,   6,  10,  10,   8,  10,   8,   8,  17,   8,   4,   8],\n",
      "        [  5,  17,   8,   8,   5,   8,   5,   5,  10,   5,  14,   5],\n",
      "        [ 15,  10,   5,   5,  15,   5,  15,  15,   8,  15,   6,  15],\n",
      "        [ 12,   8,  15,  15,  12,  15,  12,  12,   5,  12,  17,  12],\n",
      "        [  3,   5,  12,  12,   3,  12,   3,   3,  15,   3,  10,   3],\n",
      "        [  1,  15,   3,   3,   1,   3,   1,   1,  12,   1,   8,   1],\n",
      "        [  1,  12,   1,   1,   1,   1,   1,   1,   3,   1,   5,   1],\n",
      "        [  1,   3,   1,   1,   1,   1,   1,   1,   1,   1,  15,   1],\n",
      "        [  1,   1,   1,   1,   1,   1,   1,   1,   1,   1,  12,   1],\n",
      "        [  1,   1,   1,   1,   1,   1,   1,   1,   1,   1,   3,   1]]))\n"
     ]
    }
   ],
   "source": [
    "for item in data:\n",
    "    print(item)"
   ]
  },
  {
   "cell_type": "code",
   "execution_count": 20,
   "id": "binding-dating",
   "metadata": {},
   "outputs": [
    {
     "data": {
      "text/plain": [
       "6"
      ]
     },
     "execution_count": 20,
     "metadata": {},
     "output_type": "execute_result"
    }
   ],
   "source": [
    "vocab_nl['where']"
   ]
  },
  {
   "cell_type": "code",
   "execution_count": null,
   "id": "upset-january",
   "metadata": {},
   "outputs": [],
   "source": []
  }
 ],
 "metadata": {
  "kernelspec": {
   "display_name": "Python [conda env:nqm_torch] *",
   "language": "python",
   "name": "conda-env-nqm_torch-py"
  },
  "language_info": {
   "codemirror_mode": {
    "name": "ipython",
    "version": 3
   },
   "file_extension": ".py",
   "mimetype": "text/x-python",
   "name": "python",
   "nbconvert_exporter": "python",
   "pygments_lexer": "ipython3",
   "version": "3.8.8"
  }
 },
 "nbformat": 4,
 "nbformat_minor": 5
}
