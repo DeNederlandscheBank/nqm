{
 "cells": [
  {
   "cell_type": "code",
   "execution_count": 1,
   "id": "academic-determination",
   "metadata": {},
   "outputs": [],
   "source": [
    "import fairseq\n",
    "import os\n",
    "import torch\n",
    "\n",
    "from fairseq.models.transformer import TransformerModel\n",
    "from os.path import join, exists"
   ]
  },
  {
   "cell_type": "code",
   "execution_count": 2,
   "id": "insured-neighborhood",
   "metadata": {},
   "outputs": [
    {
     "data": {
      "text/plain": [
       "'../../data/eiopa/4_dictionaries/data_24-03_14-14_31181_'"
      ]
     },
     "execution_count": 2,
     "metadata": {},
     "output_type": "execute_result"
    }
   ],
   "source": [
    "data_path = join('..','..','data','eiopa','4_dictionaries','data_24-03_14-14_31181_')\n",
    "data_path"
   ]
  },
  {
   "cell_type": "code",
   "execution_count": 4,
   "id": "rubber-future",
   "metadata": {},
   "outputs": [],
   "source": [
    "\n",
    "model = TransformerModel.from_pretrained(\n",
    "  '../../models/',\n",
    "  checkpoint_file='./transformer_tntspa/transformer_tntspa.pt',\n",
    "  data_name_or_path='./transformer_tntspa/',\n",
    "#   bpe='subword_nmt',\n",
    "#   bpe_codes='bpecodes'\n",
    ")"
   ]
  },
  {
   "cell_type": "code",
   "execution_count": 5,
   "id": "outside-communist",
   "metadata": {},
   "outputs": [
    {
     "data": {
      "text/plain": [
       "'select var_a where brack_open dbr_Brevet_Lt._General_Winfield_Scott dbo_location var_a brack_close'"
      ]
     },
     "execution_count": 5,
     "metadata": {},
     "output_type": "execute_result"
    }
   ],
   "source": [
    "model.translate(\"where is aegon n.v.\")"
   ]
  },
  {
   "cell_type": "code",
   "execution_count": null,
   "id": "transsexual-personality",
   "metadata": {},
   "outputs": [],
   "source": []
  },
  {
   "cell_type": "code",
   "execution_count": null,
   "id": "widespread-anchor",
   "metadata": {},
   "outputs": [],
   "source": []
  },
  {
   "cell_type": "code",
   "execution_count": null,
   "id": "standard-drain",
   "metadata": {},
   "outputs": [],
   "source": []
  }
 ],
 "metadata": {
  "kernelspec": {
   "display_name": "Python [conda env:nqm_torch] *",
   "language": "python",
   "name": "conda-env-nqm_torch-py"
  },
  "language_info": {
   "codemirror_mode": {
    "name": "ipython",
    "version": 3
   },
   "file_extension": ".py",
   "mimetype": "text/x-python",
   "name": "python",
   "nbconvert_exporter": "python",
   "pygments_lexer": "ipython3",
   "version": "3.8.8"
  }
 },
 "nbformat": 4,
 "nbformat_minor": 5
}
