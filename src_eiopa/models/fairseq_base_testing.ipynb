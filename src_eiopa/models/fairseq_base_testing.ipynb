{
 "cells": [
  {
   "cell_type": "code",
   "execution_count": 13,
   "id": "distant-composite",
   "metadata": {},
   "outputs": [],
   "source": [
    "import fairseq\n",
    "import os\n",
    "\n",
    "from os.path import join, exists"
   ]
  },
  {
   "cell_type": "code",
   "execution_count": 14,
   "id": "worldwide-penguin",
   "metadata": {},
   "outputs": [],
   "source": [
    "data_path = join('..','..','data','eiopa','4_dictionaries','data_24-03_14-14_31181_')"
   ]
  },
  {
   "cell_type": "code",
   "execution_count": null,
   "id": "metric-incidence",
   "metadata": {},
   "outputs": [],
   "source": []
  },
  {
   "cell_type": "code",
   "execution_count": null,
   "id": "outstanding-southeast",
   "metadata": {},
   "outputs": [],
   "source": []
  }
 ],
 "metadata": {
  "kernelspec": {
   "display_name": "Python [conda env:nqm_torch] *",
   "language": "python",
   "name": "conda-env-nqm_torch-py"
  },
  "language_info": {
   "codemirror_mode": {
    "name": "ipython",
    "version": 3
   },
   "file_extension": ".py",
   "mimetype": "text/x-python",
   "name": "python",
   "nbconvert_exporter": "python",
   "pygments_lexer": "ipython3",
   "version": "3.8.8"
  }
 },
 "nbformat": 4,
 "nbformat_minor": 5
}
