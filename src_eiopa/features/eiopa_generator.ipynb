{
 "cells": [
  {
   "cell_type": "code",
   "execution_count": 1,
   "id": "seeing-buyer",
   "metadata": {},
   "outputs": [],
   "source": [
    "import argparse\n",
    "import collections\n",
    "import datetime\n",
    "import json\n",
    "import logging\n",
    "import operator\n",
    "import os\n",
    "import random\n",
    "import re\n",
    "import sys\n",
    "import traceback\n",
    "from tqdm import tqdm\n",
    "import io\n",
    "\n",
    "# from generator_utils import log_statistics, save_cache, query_dbpedia,\\\n",
    "#  strip_brackets, encode, read_template_file\n",
    "from generator import *\n",
    "from generator_utils import *\n",
    "\n",
    "import importlib\n",
    "\n",
    "from rdflib import URIRef, term, Graph, Literal, Namespace\n",
    "from rdflib.namespace import OWL,RDF, RDFS, SKOS, XSD"
   ]
  },
  {
   "cell_type": "markdown",
   "id": "sound-circle",
   "metadata": {},
   "source": [
    "# MAIN"
   ]
  },
  {
   "cell_type": "code",
   "execution_count": 2,
   "id": "physical-crisis",
   "metadata": {},
   "outputs": [],
   "source": [
    "template_file = \"../../data/eiopa/1_external/templates.csv\"\n",
    "output_dir = \"../../data/eiopa/3_processed\"\n",
    "use_resources_dump = False\n",
    "file_mode = 'w'"
   ]
  },
  {
   "cell_type": "code",
   "execution_count": 3,
   "id": "optical-burning",
   "metadata": {},
   "outputs": [],
   "source": [
    "# # (MG): Initiate logging file\n",
    "# time = datetime.datetime.today()\n",
    "# logging.basicConfig(\n",
    "#         filename='{}/logs/generator_{:%Y-%m-%d-%H-%M}.log'.format(output_dir, time), level=logging.DEBUG)"
   ]
  },
  {
   "cell_type": "code",
   "execution_count": null,
   "id": "rural-mongolia",
   "metadata": {},
   "outputs": [],
   "source": []
  },
  {
   "cell_type": "markdown",
   "id": "suspected-animation",
   "metadata": {},
   "source": [
    "## Initiate Graph "
   ]
  },
  {
   "cell_type": "code",
   "execution_count": 4,
   "id": "valued-denial",
   "metadata": {},
   "outputs": [
    {
     "name": "stdout",
     "output_type": "stream",
     "text": [
      "graph has 368854 statements.\n"
     ]
    }
   ],
   "source": [
    "EIOPA_DATA_PATH = os.path.join(\"..\",\"..\", \"data\", \"external\", \"eiopa\")\n",
    "GLEIF_DATA_PATH = os.path.join(\"..\",\"..\", \"data\", \"external\", \"gleif\")\n",
    "\n",
    "g = Graph()\n",
    "\n",
    "with open(os.path.join(EIOPA_DATA_PATH,'eiopa_register.ttl'), \"rb\") as fp:\n",
    "    g.parse(data = fp.read(), format = 'turtle')\n",
    "\n",
    "with open(os.path.join(GLEIF_DATA_PATH,'gleif-L1-extract.ttl'), \"rb\") as fp:\n",
    "    g.parse(data = fp.read(), format = 'turtle')\n",
    "    \n",
    "with open(os.path.join(GLEIF_DATA_PATH,'EntityLegalFormData.ttl'), \"rb\") as fp:\n",
    "    g.parse(data = fp.read(), format = 'turtle')\n",
    "\n",
    "print(\"graph has {} statements.\".format(len(g)))"
   ]
  },
  {
   "cell_type": "markdown",
   "id": "supposed-honey",
   "metadata": {},
   "source": [
    "## Generate Dataset"
   ]
  },
  {
   "cell_type": "code",
   "execution_count": 5,
   "id": "vanilla-translator",
   "metadata": {},
   "outputs": [
    {
     "name": "stderr",
     "output_type": "stream",
     "text": [
      "\r",
      "  0%|          | 0/3 [00:00<?, ?it/s]"
     ]
    },
    {
     "name": "stdout",
     "output_type": "stream",
     "text": [
      "for 1th template\n"
     ]
    },
    {
     "name": "stderr",
     "output_type": "stream",
     "text": [
      "\r",
      " 33%|███▎      | 1/3 [00:00<00:00,  2.31it/s]"
     ]
    },
    {
     "name": "stdout",
     "output_type": "stream",
     "text": [
      "for 2th template\n"
     ]
    },
    {
     "name": "stderr",
     "output_type": "stream",
     "text": [
      "\r",
      " 67%|██████▋   | 2/3 [00:01<00:00,  1.38it/s]"
     ]
    },
    {
     "name": "stdout",
     "output_type": "stream",
     "text": [
      "for 3th template\n"
     ]
    },
    {
     "name": "stderr",
     "output_type": "stream",
     "text": [
      "100%|██████████| 3/3 [00:01<00:00,  1.62it/s]\n"
     ]
    }
   ],
   "source": [
    "templates = read_template_file(template_file)\n",
    "# def generate_dataset(templates, output_dir, file_mode):\n",
    "\"\"\"\n",
    "    Input: list of Annotation elements, output_directory, file_mode\n",
    "    Output: questions dataset, query dataset\n",
    "\n",
    "    This function will generate dataset from the given templates and\n",
    "    store it to the output directory.\n",
    "\"\"\"\n",
    "it = 0\n",
    "cache = dict()\n",
    "for template in tqdm(templates):\n",
    "    it = it + 1\n",
    "    print(\"for {}th template\".format(it))\n",
    "    try:\n",
    "        results = get_results_of_generator_query(cache, template)\n",
    "    except:\n",
    "        exception = traceback.format_exc()\n",
    "        logging.error('template {} caused exception {}'.format(\n",
    "            getattr(template, 'id'), exception))\n",
    "        logging.info(\n",
    "            '1. fix problem\\n2. remove templates until the exception template in the template file\\n3. restart with `--continue` parameter')\n",
    "        raise Exception()"
   ]
  },
  {
   "cell_type": "markdown",
   "id": "elementary-announcement",
   "metadata": {},
   "source": [
    "Prepare generator query"
   ]
  },
  {
   "cell_type": "code",
   "execution_count": 6,
   "id": "surrounded-perception",
   "metadata": {},
   "outputs": [],
   "source": [
    "template = templates[0]\n",
    "generator_query = getattr(template, 'generator_query')\n",
    "def first_attempt(template): return prepare_generator_query(template)\n",
    "def second_attempt(template): return prepare_generator_query(\n",
    "    template, do_special_class_replacement=False)\n",
    "def third_attempt(template): return prepare_generator_query(\n",
    "    template, add_type_requirements=False)\n",
    "\n",
    "# for attempt, prepare_query in enumerate([first_attempt, second_attempt,\\\n",
    "#      third_attempt], start=1):\n",
    "#     prepare_query(generator_query)\n",
    "# prepare_generator_query(template)"
   ]
  },
  {
   "cell_type": "markdown",
   "id": "binding-coordinate",
   "metadata": {},
   "source": [
    "Generate queries"
   ]
  },
  {
   "cell_type": "code",
   "execution_count": 7,
   "id": "attached-basket",
   "metadata": {},
   "outputs": [],
   "source": [
    "queries = []\n",
    "for row in g.query(templates[0].generator_query):\n",
    "    for item in row:\n",
    "        queries.append(templates[0].query.replace(\"<A>\",'\"'+ str(item) + '\"'))"
   ]
  },
  {
   "cell_type": "code",
   "execution_count": 13,
   "id": "accredited-steal",
   "metadata": {},
   "outputs": [
    {
     "name": "stdout",
     "output_type": "stream",
     "text": [
      "140\n",
      "select ?a where { ?x gleif-L1:hasLegalName \"Eerste Friesche Onderlinge Paarden Verzekeringsmaatschappij U.A.\". ?x gleif-L1:hasLegalAddress/gleif-base:hasCity ?a. }\n",
      "select ?a where { ?x gleif-L1:hasLegalName \"ASSURANT EUROPE LIFE INSURANCE N.V.\". ?x gleif-L1:hasLegalAddress/gleif-base:hasCity ?a. }\n",
      "select ?a where { ?x gleif-L1:hasLegalName \"Onderlinge Waarborgmaatschappij DSW Zorgverzekeraar U.A.\". ?x gleif-L1:hasLegalAddress/gleif-base:hasCity ?a. }\n",
      "select ?a where { ?x gleif-L1:hasLegalName \"N.V. Noordhollandsche van 1816, Schadeverzekeringsmaatschappij\". ?x gleif-L1:hasLegalAddress/gleif-base:hasCity ?a. }\n",
      "select ?a where { ?x gleif-L1:hasLegalName \"Zilveren Kruis Zorgverzekeringen N.V.\". ?x gleif-L1:hasLegalAddress/gleif-base:hasCity ?a. }\n",
      "select ?a where { ?x gleif-L1:hasLegalName \"NN Non-Life Insurance N.V.\". ?x gleif-L1:hasLegalAddress/gleif-base:hasCity ?a. }\n",
      "select ?a where { ?x gleif-L1:hasLegalName \"IZA Zorgverzekeraar N.V.\". ?x gleif-L1:hasLegalAddress/gleif-base:hasCity ?a. }\n",
      "select ?a where { ?x gleif-L1:hasLegalName \"Reis- en Rechtshulp N.V.\". ?x gleif-L1:hasLegalAddress/gleif-base:hasCity ?a. }\n",
      "select ?a where { ?x gleif-L1:hasLegalName \"Nationale-Nederlanden Schadeverzekering Maatschappij N.V.\". ?x gleif-L1:hasLegalAddress/gleif-base:hasCity ?a. }\n",
      "select ?a where { ?x gleif-L1:hasLegalName \"N.V. Zorgverzekeraar UMC\". ?x gleif-L1:hasLegalAddress/gleif-base:hasCity ?a. }\n",
      "select ?a where { ?x gleif-L1:hasLegalName \"Klaverblad Schadeverzekeringsmaatschappij N.V.\". ?x gleif-L1:hasLegalAddress/gleif-base:hasCity ?a. }\n",
      "select ?a where { ?x gleif-L1:hasLegalName \"Actua Schadeverzekering N.V.\". ?x gleif-L1:hasLegalAddress/gleif-base:hasCity ?a. }\n",
      "select ?a where { ?x gleif-L1:hasLegalName \"UVM Verzekeringsmaatschappij N.V.\". ?x gleif-L1:hasLegalAddress/gleif-base:hasCity ?a. }\n",
      "select ?a where { ?x gleif-L1:hasLegalName \"OOM Schadeverzekering N.V.\". ?x gleif-L1:hasLegalAddress/gleif-base:hasCity ?a. }\n",
      "select ?a where { ?x gleif-L1:hasLegalName \"de Vereende N.V.\". ?x gleif-L1:hasLegalAddress/gleif-base:hasCity ?a. }\n",
      "select ?a where { ?x gleif-L1:hasLegalName \"Klaverblad Levensverzekering N.V.\". ?x gleif-L1:hasLegalAddress/gleif-base:hasCity ?a. }\n",
      "select ?a where { ?x gleif-L1:hasLegalName \"Univé Noord-Nederland Verzekeraar N.V.\". ?x gleif-L1:hasLegalAddress/gleif-base:hasCity ?a. }\n",
      "select ?a where { ?x gleif-L1:hasLegalName \"Onderlinge Brandwaarborg Maatschappij Noord Holland U.A.\". ?x gleif-L1:hasLegalAddress/gleif-base:hasCity ?a. }\n",
      "select ?a where { ?x gleif-L1:hasLegalName \"ABN AMRO Captive N.V.\". ?x gleif-L1:hasLegalAddress/gleif-base:hasCity ?a. }\n",
      "select ?a where { ?x gleif-L1:hasLegalName \"Onderlinge Verzekering Maatschappij Donatus U.A.\". ?x gleif-L1:hasLegalAddress/gleif-base:hasCity ?a. }\n",
      "select ?a where { ?x gleif-L1:hasLegalName \"Rabo Herverzekeringsmaatschappij N.V.\". ?x gleif-L1:hasLegalAddress/gleif-base:hasCity ?a. }\n",
      "select ?a where { ?x gleif-L1:hasLegalName \"VvAA Levensverzekeringen N.V.\". ?x gleif-L1:hasLegalAddress/gleif-base:hasCity ?a. }\n",
      "select ?a where { ?x gleif-L1:hasLegalName \"Lifetri Uitvaartverzekeringen N.V.\". ?x gleif-L1:hasLegalAddress/gleif-base:hasCity ?a. }\n",
      "select ?a where { ?x gleif-L1:hasLegalName \"N.V. Schadeverzekering Metaal en Technische Bedrijfstakken\". ?x gleif-L1:hasLegalAddress/gleif-base:hasCity ?a. }\n",
      "select ?a where { ?x gleif-L1:hasLegalName \"FBTO Zorgverzekeringen N.V.\". ?x gleif-L1:hasLegalAddress/gleif-base:hasCity ?a. }\n",
      "select ?a where { ?x gleif-L1:hasLegalName \"ONVZ Ziektekostenverzekeraar N.V.\". ?x gleif-L1:hasLegalAddress/gleif-base:hasCity ?a. }\n",
      "select ?a where { ?x gleif-L1:hasLegalName \"CZ Zorgverzekeringen N.V.\". ?x gleif-L1:hasLegalAddress/gleif-base:hasCity ?a. }\n",
      "select ?a where { ?x gleif-L1:hasLegalName \"OHRA Ziektekostenverzekeringen N.V.\". ?x gleif-L1:hasLegalAddress/gleif-base:hasCity ?a. }\n",
      "select ?a where { ?x gleif-L1:hasLegalName \"ASR Basis Ziektekostenverzekeringen N.V.\". ?x gleif-L1:hasLegalAddress/gleif-base:hasCity ?a. }\n",
      "select ?a where { ?x gleif-L1:hasLegalName \"Robein Leven N.V.\". ?x gleif-L1:hasLegalAddress/gleif-base:hasCity ?a. }\n",
      "select ?a where { ?x gleif-L1:hasLegalName \"N.V. Levensverzekering-Maatschappij \"De Hoop\"\". ?x gleif-L1:hasLegalAddress/gleif-base:hasCity ?a. }\n",
      "select ?a where { ?x gleif-L1:hasLegalName \"De Friesland Zorgverzekeraar N.V.\". ?x gleif-L1:hasLegalAddress/gleif-base:hasCity ?a. }\n",
      "select ?a where { ?x gleif-L1:hasLegalName \"Onderlinge Verzekering Maatschappij Twente U.A.\". ?x gleif-L1:hasLegalAddress/gleif-base:hasCity ?a. }\n",
      "select ?a where { ?x gleif-L1:hasLegalName \"E.O.C. Onderlinge Schepenverzekering U.A.\". ?x gleif-L1:hasLegalAddress/gleif-base:hasCity ?a. }\n",
      "select ?a where { ?x gleif-L1:hasLegalName \"SRLEV N.V.\". ?x gleif-L1:hasLegalAddress/gleif-base:hasCity ?a. }\n",
      "select ?a where { ?x gleif-L1:hasLegalName \"VGZ Zorgverzekeraar N.V.\". ?x gleif-L1:hasLegalAddress/gleif-base:hasCity ?a. }\n",
      "select ?a where { ?x gleif-L1:hasLegalName \"Achmea Pensioen- en Levensverzekeringen N.V.\". ?x gleif-L1:hasLegalAddress/gleif-base:hasCity ?a. }\n",
      "select ?a where { ?x gleif-L1:hasLegalName \"Achmea Zorgverzekeringen N.V.\". ?x gleif-L1:hasLegalAddress/gleif-base:hasCity ?a. }\n",
      "select ?a where { ?x gleif-L1:hasLegalName \"Menzis Zorgverzekeraar N.V.\". ?x gleif-L1:hasLegalAddress/gleif-base:hasCity ?a. }\n",
      "select ?a where { ?x gleif-L1:hasLegalName \"Onderlinge Hagelverzekering Maatschappij Agriver B.A.\". ?x gleif-L1:hasLegalAddress/gleif-base:hasCity ?a. }\n",
      "select ?a where { ?x gleif-L1:hasLegalName \"Onderlinge Verzekeringmaatschappij \"SOM\" U.A.\". ?x gleif-L1:hasLegalAddress/gleif-base:hasCity ?a. }\n",
      "select ?a where { ?x gleif-L1:hasLegalName \"Algemene Friese Onderlinge Schadeverzekeringsmaatschappij \"Zevenwouden\" U.A.\". ?x gleif-L1:hasLegalAddress/gleif-base:hasCity ?a. }\n",
      "select ?a where { ?x gleif-L1:hasLegalName \"BNP PARIBAS CARDIF LEVENSVERZEKERINGEN N.V.\". ?x gleif-L1:hasLegalAddress/gleif-base:hasCity ?a. }\n",
      "select ?a where { ?x gleif-L1:hasLegalName \"NN Re (Netherlands) N.V.\". ?x gleif-L1:hasLegalAddress/gleif-base:hasCity ?a. }\n",
      "select ?a where { ?x gleif-L1:hasLegalName \"NS Insurance N.V.\". ?x gleif-L1:hasLegalAddress/gleif-base:hasCity ?a. }\n",
      "select ?a where { ?x gleif-L1:hasLegalName \"Roeminck Insurance N.V.\". ?x gleif-L1:hasLegalAddress/gleif-base:hasCity ?a. }\n",
      "select ?a where { ?x gleif-L1:hasLegalName \"Stad Holland Zorgverzekeraar Onderlinge Waarborgmaatschappij U.A.\". ?x gleif-L1:hasLegalAddress/gleif-base:hasCity ?a. }\n",
      "select ?a where { ?x gleif-L1:hasLegalName \"Uitvaartverzekering Twenthe N.V.\". ?x gleif-L1:hasLegalAddress/gleif-base:hasCity ?a. }\n",
      "select ?a where { ?x gleif-L1:hasLegalName \"KMU Verzekeringen N.V.\". ?x gleif-L1:hasLegalAddress/gleif-base:hasCity ?a. }\n",
      "select ?a where { ?x gleif-L1:hasLegalName \"Woningborg N.V.\". ?x gleif-L1:hasLegalAddress/gleif-base:hasCity ?a. }\n",
      "select ?a where { ?x gleif-L1:hasLegalName \"Onderlinge Levensverzekering-Maatschappij \"'s-Gravenhage\" U.A.\". ?x gleif-L1:hasLegalAddress/gleif-base:hasCity ?a. }\n",
      "select ?a where { ?x gleif-L1:hasLegalName \"ASR Aanvullende Ziektekostenverzekeringen N.V.\". ?x gleif-L1:hasLegalAddress/gleif-base:hasCity ?a. }\n",
      "select ?a where { ?x gleif-L1:hasLegalName \"AnderZorg N.V.\". ?x gleif-L1:hasLegalAddress/gleif-base:hasCity ?a. }\n",
      "select ?a where { ?x gleif-L1:hasLegalName \"OOM Global Care N.V.\". ?x gleif-L1:hasLegalAddress/gleif-base:hasCity ?a. }\n",
      "select ?a where { ?x gleif-L1:hasLegalName \"Achmea Schadeverzekeringen N.V.\". ?x gleif-L1:hasLegalAddress/gleif-base:hasCity ?a. }\n",
      "select ?a where { ?x gleif-L1:hasLegalName \"AEGON Schadeverzekering N.V.\". ?x gleif-L1:hasLegalAddress/gleif-base:hasCity ?a. }\n",
      "select ?a where { ?x gleif-L1:hasLegalName \"Nationale-Nederlanden Levensverzekering Maatschappij N.V.\". ?x gleif-L1:hasLegalAddress/gleif-base:hasCity ?a. }\n",
      "select ?a where { ?x gleif-L1:hasLegalName \"ABN AMRO Levensverzekering N.V.\". ?x gleif-L1:hasLegalAddress/gleif-base:hasCity ?a. }\n",
      "select ?a where { ?x gleif-L1:hasLegalName \"Onderlinge Waarborg Maatschappij Achterhoek U.A.\". ?x gleif-L1:hasLegalAddress/gleif-base:hasCity ?a. }\n",
      "select ?a where { ?x gleif-L1:hasLegalName \"Goudse Levensverzekeringen N.V.\". ?x gleif-L1:hasLegalAddress/gleif-base:hasCity ?a. }\n",
      "select ?a where { ?x gleif-L1:hasLegalName \"Univé Stad en Land Brandverzekeraar N.V.\". ?x gleif-L1:hasLegalAddress/gleif-base:hasCity ?a. }\n",
      "select ?a where { ?x gleif-L1:hasLegalName \"Yarden Uitvaartverzekeringen N.V.\". ?x gleif-L1:hasLegalAddress/gleif-base:hasCity ?a. }\n",
      "select ?a where { ?x gleif-L1:hasLegalName \"Onderlinge Verzekeringsmaatschappij \"Waterland en Omstreken U.A.\"\". ?x gleif-L1:hasLegalAddress/gleif-base:hasCity ?a. }\n",
      "select ?a where { ?x gleif-L1:hasLegalName \"ASSURANT EUROPE INSURANCE N.V.\". ?x gleif-L1:hasLegalAddress/gleif-base:hasCity ?a. }\n",
      "select ?a where { ?x gleif-L1:hasLegalName \"Waard Schade N.V.\". ?x gleif-L1:hasLegalAddress/gleif-base:hasCity ?a. }\n",
      "select ?a where { ?x gleif-L1:hasLegalName \"Eno Aanvullende Verzekeringen N.V.\". ?x gleif-L1:hasLegalAddress/gleif-base:hasCity ?a. }\n",
      "select ?a where { ?x gleif-L1:hasLegalName \"Waard Leven N.V.\". ?x gleif-L1:hasLegalAddress/gleif-base:hasCity ?a. }\n",
      "select ?a where { ?x gleif-L1:hasLegalName \"N.V. Schadeverzekeringsmaatschappij Maas Lloyd\". ?x gleif-L1:hasLegalAddress/gleif-base:hasCity ?a. }\n",
      "select ?a where { ?x gleif-L1:hasLegalName \"Goudse Schadeverzekeringen N.V.\". ?x gleif-L1:hasLegalAddress/gleif-base:hasCity ?a. }\n",
      "select ?a where { ?x gleif-L1:hasLegalName \"Onderlinge Verzekering Maatschappij ZLM U.A.\". ?x gleif-L1:hasLegalAddress/gleif-base:hasCity ?a. }\n",
      "select ?a where { ?x gleif-L1:hasLegalName \"Bos Fruit Aardappelen Onderlinge verzekeringen BFAO U.A.\". ?x gleif-L1:hasLegalAddress/gleif-base:hasCity ?a. }\n",
      "select ?a where { ?x gleif-L1:hasLegalName \"UK P&I Club N.V.\". ?x gleif-L1:hasLegalAddress/gleif-base:hasCity ?a. }\n",
      "select ?a where { ?x gleif-L1:hasLegalName \"Samenwerking Glasverzekering N.V.\". ?x gleif-L1:hasLegalAddress/gleif-base:hasCity ?a. }\n",
      "select ?a where { ?x gleif-L1:hasLegalName \"Kamer van Koophandel\". ?x gleif-L1:hasLegalAddress/gleif-base:hasCity ?a. }\n",
      "select ?a where { ?x gleif-L1:hasLegalName \"DLE Natura Uitvaartverzekeringen N.V.\". ?x gleif-L1:hasLegalAddress/gleif-base:hasCity ?a. }\n",
      "select ?a where { ?x gleif-L1:hasLegalName \"AEGON Spaarkas N.V.\". ?x gleif-L1:hasLegalAddress/gleif-base:hasCity ?a. }\n",
      "select ?a where { ?x gleif-L1:hasLegalName \"VIVAT Schadeverzekeringen N.V.\". ?x gleif-L1:hasLegalAddress/gleif-base:hasCity ?a. }\n",
      "select ?a where { ?x gleif-L1:hasLegalName \"Ansvar Verzekeringsmaatschappij N.V.\". ?x gleif-L1:hasLegalAddress/gleif-base:hasCity ?a. }\n",
      "select ?a where { ?x gleif-L1:hasLegalName \"N.V. Verzekering Maatschappij \"De Burcht\"\". ?x gleif-L1:hasLegalAddress/gleif-base:hasCity ?a. }\n",
      "select ?a where { ?x gleif-L1:hasLegalName \"N.V. Univé Schade\". ?x gleif-L1:hasLegalAddress/gleif-base:hasCity ?a. }\n",
      "select ?a where { ?x gleif-L1:hasLegalName \"ASR Levensverzekering N.V.\". ?x gleif-L1:hasLegalAddress/gleif-base:hasCity ?a. }\n",
      "select ?a where { ?x gleif-L1:hasLegalName \"National Academic Verzekeringsmaatschappij N.V.\". ?x gleif-L1:hasLegalAddress/gleif-base:hasCity ?a. }\n",
      "select ?a where { ?x gleif-L1:hasLegalName \"N.V. Univé Zorg\". ?x gleif-L1:hasLegalAddress/gleif-base:hasCity ?a. }\n",
      "select ?a where { ?x gleif-L1:hasLegalName \"Leidsche Verzekering Maatschappij N.V.\". ?x gleif-L1:hasLegalAddress/gleif-base:hasCity ?a. }\n",
      "select ?a where { ?x gleif-L1:hasLegalName \"Onderlinge Waarborgmaatschappij Centrale Zorgverzekeraars groep, Zorgverzekeraar U.A.\". ?x gleif-L1:hasLegalAddress/gleif-base:hasCity ?a. }\n",
      "select ?a where { ?x gleif-L1:hasLegalName \"N.V. Verzekeringsbedrijf Groot Amsterdam (VGA)\". ?x gleif-L1:hasLegalAddress/gleif-base:hasCity ?a. }\n",
      "select ?a where { ?x gleif-L1:hasLegalName \"Onderlinge Waarborgmaatschappij Sazas U.A.\". ?x gleif-L1:hasLegalAddress/gleif-base:hasCity ?a. }\n",
      "select ?a where { ?x gleif-L1:hasLegalName \"ABN AMRO Schadeverzekering N.V.\". ?x gleif-L1:hasLegalAddress/gleif-base:hasCity ?a. }\n",
      "select ?a where { ?x gleif-L1:hasLegalName \"N.V. Noordhollandsche van 1816, Levensverzekeringsmaatschappij\". ?x gleif-L1:hasLegalAddress/gleif-base:hasCity ?a. }\n",
      "select ?a where { ?x gleif-L1:hasLegalName \"Univé Dichtbij Brandverzekeraar N.V.\". ?x gleif-L1:hasLegalAddress/gleif-base:hasCity ?a. }\n",
      "select ?a where { ?x gleif-L1:hasLegalName \"SCILDON N.V.\". ?x gleif-L1:hasLegalAddress/gleif-base:hasCity ?a. }\n",
      "select ?a where { ?x gleif-L1:hasLegalName \"Lemonade Insurance N.V.\". ?x gleif-L1:hasLegalAddress/gleif-base:hasCity ?a. }\n",
      "select ?a where { ?x gleif-L1:hasLegalName \"VvAA schadeverzekeringen N.V.\". ?x gleif-L1:hasLegalAddress/gleif-base:hasCity ?a. }\n",
      "select ?a where { ?x gleif-L1:hasLegalName \"Mutual Insurance Association \"Munis\" (Onderlinge Verzekeringsmaatschappij \"Munis\") U.A.\". ?x gleif-L1:hasLegalAddress/gleif-base:hasCity ?a. }\n",
      "select ?a where { ?x gleif-L1:hasLegalName \"Onderlinge Waarborgmaatschappij Centramed B.A.\". ?x gleif-L1:hasLegalAddress/gleif-base:hasCity ?a. }\n",
      "select ?a where { ?x gleif-L1:hasLegalName \"Onderling Fonds \"Sliedrecht\" B.A.\". ?x gleif-L1:hasLegalAddress/gleif-base:hasCity ?a. }\n",
      "select ?a where { ?x gleif-L1:hasLegalName \"Business Entity Data B.V.\". ?x gleif-L1:hasLegalAddress/gleif-base:hasCity ?a. }\n",
      "select ?a where { ?x gleif-L1:hasLegalName \"Onderlinge Waarborgmaatschappij Centrale Zorgverzekeraars groep, Aanvullende Verzekering Zorgverzekeraar u.a.\". ?x gleif-L1:hasLegalAddress/gleif-base:hasCity ?a. }\n",
      "select ?a where { ?x gleif-L1:hasLegalName \"AKZO Nobel Assurantie N.V.\". ?x gleif-L1:hasLegalAddress/gleif-base:hasCity ?a. }\n",
      "select ?a where { ?x gleif-L1:hasLegalName \"ONVZ Aanvullende Verzekering N.V.\". ?x gleif-L1:hasLegalAddress/gleif-base:hasCity ?a. }\n",
      "select ?a where { ?x gleif-L1:hasLegalName \"Univé Noord-Holland Brandverzekeraar N.V.\". ?x gleif-L1:hasLegalAddress/gleif-base:hasCity ?a. }\n",
      "select ?a where { ?x gleif-L1:hasLegalName \"Lifetri Verzekeringen N.V.\". ?x gleif-L1:hasLegalAddress/gleif-base:hasCity ?a. }\n",
      "select ?a where { ?x gleif-L1:hasLegalName \"Onderlinge Verzekerings Maatschappij Rijn en Aar U.A.\". ?x gleif-L1:hasLegalAddress/gleif-base:hasCity ?a. }\n",
      "select ?a where { ?x gleif-L1:hasLegalName \"AEGON Levensverzekering N.V.\". ?x gleif-L1:hasLegalAddress/gleif-base:hasCity ?a. }\n",
      "select ?a where { ?x gleif-L1:hasLegalName \"Menzis N.V.\". ?x gleif-L1:hasLegalAddress/gleif-base:hasCity ?a. }\n",
      "select ?a where { ?x gleif-L1:hasLegalName \"Blue Square Re N.V.\". ?x gleif-L1:hasLegalAddress/gleif-base:hasCity ?a. }\n",
      "select ?a where { ?x gleif-L1:hasLegalName \"Onderlinge Waarborgmaatschappij voor Instellingen in de Gezondheidszorg MediRisk B.A.\". ?x gleif-L1:hasLegalAddress/gleif-base:hasCity ?a. }\n",
      "select ?a where { ?x gleif-L1:hasLegalName \"Monuta Verzekeringen N.V.\". ?x gleif-L1:hasLegalAddress/gleif-base:hasCity ?a. }\n",
      "select ?a where { ?x gleif-L1:hasLegalName \"Brand New Day Levensverzekeringen N.V.\". ?x gleif-L1:hasLegalAddress/gleif-base:hasCity ?a. }\n",
      "select ?a where { ?x gleif-L1:hasLegalName \"Onderling Verzekerd U.A.\". ?x gleif-L1:hasLegalAddress/gleif-base:hasCity ?a. }\n",
      "select ?a where { ?x gleif-L1:hasLegalName \"Onderlinge Verzekeringsmaatschappij Univé Samen U.A.\". ?x gleif-L1:hasLegalAddress/gleif-base:hasCity ?a. }\n",
      "select ?a where { ?x gleif-L1:hasLegalName \"Eno Zorgverzekeraar N.V.\". ?x gleif-L1:hasLegalAddress/gleif-base:hasCity ?a. }\n",
      "select ?a where { ?x gleif-L1:hasLegalName \"Stichtsche Onderlinge Brand-Herverzekering U.A.\". ?x gleif-L1:hasLegalAddress/gleif-base:hasCity ?a. }\n",
      "select ?a where { ?x gleif-L1:hasLegalName \"Centrale Ziektekostenverzekering NZV N.V.\". ?x gleif-L1:hasLegalAddress/gleif-base:hasCity ?a. }\n",
      "select ?a where { ?x gleif-L1:hasLegalName \"DELA Natura- en levensverzekeringen N.V.\". ?x gleif-L1:hasLegalAddress/gleif-base:hasCity ?a. }\n",
      "select ?a where { ?x gleif-L1:hasLegalName \"N.V. Univé Her\". ?x gleif-L1:hasLegalAddress/gleif-base:hasCity ?a. }\n",
      "select ?a where { ?x gleif-L1:hasLegalName \"Unilever Insurances N.V.\". ?x gleif-L1:hasLegalAddress/gleif-base:hasCity ?a. }\n",
      "select ?a where { ?x gleif-L1:hasLegalName \"TVM verzekeringen N.V.\". ?x gleif-L1:hasLegalAddress/gleif-base:hasCity ?a. }\n",
      "select ?a where { ?x gleif-L1:hasLegalName \"Onderlinge Steenwijker Brandassurantie Vereniging U.A.\". ?x gleif-L1:hasLegalAddress/gleif-base:hasCity ?a. }\n",
      "select ?a where { ?x gleif-L1:hasLegalName \"Univé Oost Brandverzekeraar N.V.\". ?x gleif-L1:hasLegalAddress/gleif-base:hasCity ?a. }\n",
      "select ?a where { ?x gleif-L1:hasLegalName \"N.V. Schadeverzekering-Maatschappij Bovemij\". ?x gleif-L1:hasLegalAddress/gleif-base:hasCity ?a. }\n",
      "select ?a where { ?x gleif-L1:hasLegalName \"Glasassurantie Maatschappij Midglas N.V.\". ?x gleif-L1:hasLegalAddress/gleif-base:hasCity ?a. }\n",
      "select ?a where { ?x gleif-L1:hasLegalName \"Mercurius Schadeverzekeringen N.V.\". ?x gleif-L1:hasLegalAddress/gleif-base:hasCity ?a. }\n",
      "select ?a where { ?x gleif-L1:hasLegalName \"OVM Onderlinge Verzekeringen U.A.\". ?x gleif-L1:hasLegalAddress/gleif-base:hasCity ?a. }\n",
      "select ?a where { ?x gleif-L1:hasLegalName \"Achmea Reinsurance Company N.V.\". ?x gleif-L1:hasLegalAddress/gleif-base:hasCity ?a. }\n",
      "select ?a where { ?x gleif-L1:hasLegalName \"Onderlinge Verzekeringsmaatschappij De Veenhoop u.a.\". ?x gleif-L1:hasLegalAddress/gleif-base:hasCity ?a. }\n",
      "select ?a where { ?x gleif-L1:hasLegalName \"Univé Zuid-Nederland Verzekeringen N.V.\". ?x gleif-L1:hasLegalAddress/gleif-base:hasCity ?a. }\n",
      "select ?a where { ?x gleif-L1:hasLegalName \"Enel Insurance N.V.\". ?x gleif-L1:hasLegalAddress/gleif-base:hasCity ?a. }\n",
      "select ?a where { ?x gleif-L1:hasLegalName \"Onderlinge Waarborgmaatschappij Zorgverzekeraar Zorg en Zekerheid U.A.\". ?x gleif-L1:hasLegalAddress/gleif-base:hasCity ?a. }\n",
      "select ?a where { ?x gleif-L1:hasLegalName \"DSW Ziektekostenverzekeringen N.V.\". ?x gleif-L1:hasLegalAddress/gleif-base:hasCity ?a. }\n",
      "select ?a where { ?x gleif-L1:hasLegalName \"Onderlinge Verzekerings Maatschappij \"De Onderlingen\" U.A.\". ?x gleif-L1:hasLegalAddress/gleif-base:hasCity ?a. }\n",
      "select ?a where { ?x gleif-L1:hasLegalName \"Onderlinge Verzekerings-Maatschappij \"Noord Nederlandsche P&I Club\" U.A.\". ?x gleif-L1:hasLegalAddress/gleif-base:hasCity ?a. }\n",
      "select ?a where { ?x gleif-L1:hasLegalName \"Anker Insurance Company N.V.\". ?x gleif-L1:hasLegalAddress/gleif-base:hasCity ?a. }\n",
      "select ?a where { ?x gleif-L1:hasLegalName \"N.V. Hagelunie\". ?x gleif-L1:hasLegalAddress/gleif-base:hasCity ?a. }\n",
      "select ?a where { ?x gleif-L1:hasLegalName \"DAS Nederlandse Rechtsbijstand Verzekeringmaatschappij N.V.\". ?x gleif-L1:hasLegalAddress/gleif-base:hasCity ?a. }\n",
      "select ?a where { ?x gleif-L1:hasLegalName \"Univé Het Groene Hart Brandverzekeraar N.V.\". ?x gleif-L1:hasLegalAddress/gleif-base:hasCity ?a. }\n",
      "select ?a where { ?x gleif-L1:hasLegalName \"ASR Schadeverzekering N.V.\". ?x gleif-L1:hasLegalAddress/gleif-base:hasCity ?a. }\n",
      "select ?a where { ?x gleif-L1:hasLegalName \"Proteq Levensverzekeringen N.V.\". ?x gleif-L1:hasLegalAddress/gleif-base:hasCity ?a. }\n",
      "select ?a where { ?x gleif-L1:hasLegalName \"Interpolis Zorgverzekeringen N.V.\". ?x gleif-L1:hasLegalAddress/gleif-base:hasCity ?a. }\n",
      "select ?a where { ?x gleif-L1:hasLegalName \"BNP PARIBAS CARDIF SCHADEVERZEKERINGEN N.V.\". ?x gleif-L1:hasLegalAddress/gleif-base:hasCity ?a. }\n"
     ]
    }
   ],
   "source": [
    "print(len(queries))\n",
    "print(\"\\n\".join(queries))"
   ]
  },
  {
   "cell_type": "markdown",
   "id": "historic-mailman",
   "metadata": {},
   "source": [
    "## Graph query function"
   ]
  },
  {
   "cell_type": "code",
   "execution_count": 9,
   "id": "offshore-receipt",
   "metadata": {},
   "outputs": [
    {
     "name": "stdout",
     "output_type": "stream",
     "text": [
      "select ?a where { ?x gleif-L1:hasLegalName <A>. ?x gleif-L1:hasLegalAddress/gleif-base:hasCity ?a. }\n"
     ]
    }
   ],
   "source": [
    "QUERY = \"select ?a where { ?x gleif-L1:hasLegalName <A>. ?x gleif-L1:hasLegalAddress/gleif-base:hasCity ?a. }\"\n",
    "print(QUERY)"
   ]
  },
  {
   "cell_type": "code",
   "execution_count": 10,
   "id": "cordless-assault",
   "metadata": {},
   "outputs": [],
   "source": [
    "q = 'select distinct ?c where { ?b gleif-base:hasLegalJurisdiction CountryCodes:NL.  ?b gleif-L1:hasLegalName \"AEGON Schadeverzekering N.V.\". ?b gleif-L1:hasLegalAddress/gleif-base:hasCity ?c. }'"
   ]
  },
  {
   "cell_type": "code",
   "execution_count": 12,
   "id": "canadian-spouse",
   "metadata": {},
   "outputs": [
    {
     "name": "stdout",
     "output_type": "stream",
     "text": [
      "'s-Gravenhage\n"
     ]
    }
   ],
   "source": [
    "for row in g.query(q):\n",
    "    for item in row:\n",
    "        print(item)"
   ]
  },
  {
   "cell_type": "code",
   "execution_count": null,
   "id": "former-antigua",
   "metadata": {},
   "outputs": [],
   "source": [
    "cnt = 0\n",
    "for row in g.query(template.generator_query):\n",
    "    cnt += 1\n",
    "    for item in row:\n",
    "        print(item)\n",
    "        "
   ]
  },
  {
   "cell_type": "code",
   "execution_count": null,
   "id": "large-delta",
   "metadata": {},
   "outputs": [],
   "source": [
    "item,cnt"
   ]
  },
  {
   "cell_type": "code",
   "execution_count": null,
   "id": "acceptable-calgary",
   "metadata": {},
   "outputs": [],
   "source": [
    "queries = []\n",
    "for row in g.query(templates[0].generator_query):\n",
    "    for item in row:\n",
    "        queries.append(templates[0].query.replace(\"<A>\",'\"'+ str(item) + '\"'))"
   ]
  },
  {
   "cell_type": "code",
   "execution_count": null,
   "id": "supreme-chance",
   "metadata": {},
   "outputs": [],
   "source": [
    "queries"
   ]
  },
  {
   "cell_type": "code",
   "execution_count": null,
   "id": "optimum-bridge",
   "metadata": {},
   "outputs": [],
   "source": [
    "answer = g.query('select ?x where { ?x gleif-L1:hasLegalName \"AMMA VERZEKERINGEN\"@nl}')\n",
    "for row in answer:\n",
    "    for item in row:\n",
    "        print(item)\n"
   ]
  },
  {
   "cell_type": "code",
   "execution_count": null,
   "id": "greatest-collaboration",
   "metadata": {},
   "outputs": [],
   "source": [
    "item = '\"'+ str(item) + '\"'"
   ]
  },
  {
   "cell_type": "code",
   "execution_count": null,
   "id": "listed-notion",
   "metadata": {},
   "outputs": [],
   "source": [
    "item"
   ]
  },
  {
   "cell_type": "code",
   "execution_count": null,
   "id": "unlimited-eating",
   "metadata": {},
   "outputs": [],
   "source": [
    "for row in g.query(queries[0]):\n",
    "    for item in row:\n",
    "        print(item)"
   ]
  },
  {
   "cell_type": "code",
   "execution_count": 16,
   "id": "lesser-orbit",
   "metadata": {},
   "outputs": [
    {
     "data": {
      "text/plain": [
       "True"
      ]
     },
     "execution_count": 16,
     "metadata": {},
     "output_type": "execute_result"
    }
   ],
   "source": [
    "ontology_class = 'http://dbpedia.org/ontology/house'\n",
    "str.startswith(ontology_class, 'http://dbpedia.org/ontology/')"
   ]
  },
  {
   "cell_type": "code",
   "execution_count": 18,
   "id": "armed-rogers",
   "metadata": {},
   "outputs": [
    {
     "name": "stdout",
     "output_type": "stream",
     "text": [
      "0\n",
      "a\n"
     ]
    }
   ],
   "source": [
    "for cnt,variabel in enumerate(template.variables):\n",
    "    print(cnt)\n",
    "    print(variabel)"
   ]
  },
  {
   "cell_type": "code",
   "execution_count": null,
   "id": "normal-infrastructure",
   "metadata": {},
   "outputs": [],
   "source": []
  }
 ],
 "metadata": {
  "kernelspec": {
   "display_name": "Python 3",
   "language": "python",
   "name": "python3"
  },
  "language_info": {
   "codemirror_mode": {
    "name": "ipython",
    "version": 3
   },
   "file_extension": ".py",
   "mimetype": "text/x-python",
   "name": "python",
   "nbconvert_exporter": "python",
   "pygments_lexer": "ipython3",
   "version": "3.7.3"
  }
 },
 "nbformat": 4,
 "nbformat_minor": 5
}
