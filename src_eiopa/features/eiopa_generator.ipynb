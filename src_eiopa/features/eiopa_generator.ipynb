{
 "cells": [
  {
   "cell_type": "code",
   "execution_count": 1,
   "metadata": {},
   "outputs": [],
   "source": [
    "import argparse\n",
    "import collections\n",
    "import datetime\n",
    "import json\n",
    "import logging\n",
    "import operator\n",
    "import os\n",
    "import random\n",
    "import re\n",
    "import sys\n",
    "import traceback\n",
    "from tqdm import tqdm\n",
    "import io\n",
    "\n",
    "# from generator_utils import log_statistics, save_cache, query_dbpedia,\\\n",
    "#  strip_brackets, encode, read_template_file\n",
    "from generator import *\n",
    "from generator_utils import *\n",
    "\n",
    "import importlib\n",
    "\n",
    "from rdflib import URIRef, term, Graph, Literal, Namespace\n",
    "from rdflib.namespace import OWL,RDF, RDFS, SKOS, XSD"
   ]
  },
  {
   "cell_type": "markdown",
   "metadata": {},
   "source": [
    "# MAIN"
   ]
  },
  {
   "cell_type": "code",
   "execution_count": 2,
   "metadata": {},
   "outputs": [],
   "source": [
    "template_file = \"../../data/eiopa/1_external/templates.csv\"\n",
    "output_dir = \"../../data/eiopa/3_processed\"\n",
    "use_resources_dump = False\n",
    "file_mode = 'w'"
   ]
  },
  {
   "cell_type": "code",
   "execution_count": 3,
   "metadata": {},
   "outputs": [],
   "source": [
    "# # (MG): Initiate logging file\n",
    "# time = datetime.datetime.today()\n",
    "# logging.basicConfig(\n",
    "#         filename='{}/logs/generator_{:%Y-%m-%d-%H-%M}.log'.format(output_dir, time), level=logging.DEBUG)"
   ]
  },
  {
   "cell_type": "code",
   "execution_count": null,
   "metadata": {},
   "outputs": [],
   "source": []
  },
  {
   "cell_type": "markdown",
   "metadata": {},
   "source": [
    "## Initiate Graph "
   ]
  },
  {
   "cell_type": "code",
   "execution_count": 4,
   "metadata": {},
   "outputs": [
    {
     "name": "stdout",
     "output_type": "stream",
     "text": [
      "graph has 368854 statements.\n"
     ]
    }
   ],
   "source": [
    "\n",
    "EIOPA_DATA_PATH = os.path.join(\"..\",\"..\", \"data\", \"external\", \"eiopa\")\n",
    "GLEIF_DATA_PATH = os.path.join(\"..\",\"..\", \"data\", \"external\", \"gleif\")\n",
    "\n",
    "g = Graph()\n",
    "\n",
    "with open(os.path.join(EIOPA_DATA_PATH,'eiopa_register.ttl'), \"rb\") as fp:\n",
    "    g.parse(data = fp.read(), format = 'turtle')\n",
    "# \n",
    "with open(os.path.join(GLEIF_DATA_PATH,'gleif-L1-extract.ttl'), \"rb\") as fp:\n",
    "    g.parse(data = fp.read(), format = 'turtle')\n",
    "    \n",
    "with open(os.path.join(GLEIF_DATA_PATH,'EntityLegalFormData.ttl'), \"rb\") as fp:\n",
    "    g.parse(data = fp.read(), format = 'turtle')\n",
    "\n",
    "print(\"graph has {} statements.\".format(len(g)))"
   ]
  },
  {
   "cell_type": "markdown",
   "metadata": {},
   "source": [
    "## Generate Dataset"
   ]
  },
  {
   "cell_type": "code",
   "execution_count": 5,
   "metadata": {},
   "outputs": [],
   "source": [
    "templates = read_template_file(template_file)\n",
    "\n",
    "# # def generate_dataset(templates, output_dir, file_mode):\n",
    "# \"\"\"\n",
    "#     Input: list of Annotation elements, output_directory, file_mode\n",
    "#     Output: questions dataset, query dataset\n",
    "\n",
    "#     This function will generate dataset from the given templates and\n",
    "#     store it to the output directory.\n",
    "# \"\"\"\n",
    "# it = 0\n",
    "# cache = dict()\n",
    "# for template in tqdm(templates):\n",
    "#     it = it + 1\n",
    "#     print(\"for {}th template\".format(it))\n",
    "#     try:\n",
    "#         results = get_results_of_generator_query(cache, template)\n",
    "#     except:\n",
    "#         exception = traceback.format_exc()\n",
    "#         logging.error('template {} caused exception {}'.format(\n",
    "#             getattr(template, 'id'), exception))\n",
    "#         logging.info(\n",
    "#             '1. fix problem\\n2. remove templates until the exception template in the template file\\n3. restart with `--continue` parameter')\n",
    "#         raise Exception()"
   ]
  },
  {
   "cell_type": "code",
   "execution_count": 6,
   "metadata": {},
   "outputs": [],
   "source": [
    "def query_database(query):\n",
    "    \"\"\" Returns list of query results \"\"\"\n",
    "    results = []\n",
    "    for row in g.query(query):\n",
    "        items = []\n",
    "        for item in row:\n",
    "            items.append(str(get_name(item)))\n",
    "        results.append(items)\n",
    "\n",
    "    return results"
   ]
  },
  {
   "cell_type": "code",
   "execution_count": 7,
   "metadata": {},
   "outputs": [
    {
     "name": "stdout",
     "output_type": "stream",
     "text": [
      "select distinct ?a where {?x eiopa-Base:hasEUCountryWhereEntityOperates CountryCodes:NL . ?x eiopa-Base:hasInsuranceUndertakingID ?a.}\n",
      "['a']\n"
     ]
    }
   ],
   "source": [
    "template = templates[1]\n",
    "print(template.generator_query)\n",
    "print(template.variables)"
   ]
  },
  {
   "cell_type": "code",
   "execution_count": 8,
   "metadata": {},
   "outputs": [],
   "source": [
    "generator_query = prepare_generator_query(template)"
   ]
  },
  {
   "cell_type": "code",
   "execution_count": 9,
   "metadata": {},
   "outputs": [
    {
     "name": "stdout",
     "output_type": "stream",
     "text": [
      "select distinct ?a where {?x eiopa-Base:hasEUCountryWhereEntityOperates CountryCodes:NL . ?x eiopa-Base:hasInsuranceUndertakingID ?a.}\n"
     ]
    }
   ],
   "source": [
    "print(generator_query)"
   ]
  },
  {
   "cell_type": "code",
   "execution_count": 10,
   "metadata": {},
   "outputs": [],
   "source": [
    "results = query_database(generator_query)"
   ]
  },
  {
   "cell_type": "code",
   "execution_count": 11,
   "metadata": {},
   "outputs": [
    {
     "name": "stdout",
     "output_type": "stream",
     "text": [
      "['L0008']\n",
      "{'natural_language': 'In what jurisdiction does l0008 operate?', 'query': 'select distinct var_a where  brack_open var_x eiopa-base:haseucountrywhereentityoperates var_a sep_dot var_x eiopa-base:hasinsuranceundertakingid <a> sep_dot brack_close '}\n",
      "['H0125']\n",
      "{'natural_language': 'In what jurisdiction does h0125 operate?', 'query': 'select distinct var_a where  brack_open var_x eiopa-base:haseucountrywhereentityoperates var_a sep_dot var_x eiopa-base:hasinsuranceundertakingid <a> sep_dot brack_close '}\n",
      "['W1943']\n",
      "{'natural_language': 'In what jurisdiction does w1943 operate?', 'query': 'select distinct var_a where  brack_open var_x eiopa-base:haseucountrywhereentityoperates var_a sep_dot var_x eiopa-base:hasinsuranceundertakingid <a> sep_dot brack_close '}\n",
      "['W1642']\n",
      "{'natural_language': 'In what jurisdiction does w1642 operate?', 'query': 'select distinct var_a where  brack_open var_x eiopa-base:haseucountrywhereentityoperates var_a sep_dot var_x eiopa-base:hasinsuranceundertakingid <a> sep_dot brack_close '}\n",
      "['N0042']\n",
      "{'natural_language': 'In what jurisdiction does n0042 operate?', 'query': 'select distinct var_a where  brack_open var_x eiopa-base:haseucountrywhereentityoperates var_a sep_dot var_x eiopa-base:hasinsuranceundertakingid <a> sep_dot brack_close '}\n",
      "['W0087']\n",
      "{'natural_language': 'In what jurisdiction does w0087 operate?', 'query': 'select distinct var_a where  brack_open var_x eiopa-base:haseucountrywhereentityoperates var_a sep_dot var_x eiopa-base:hasinsuranceundertakingid <a> sep_dot brack_close '}\n",
      "['R162036']\n",
      "{'natural_language': 'In what jurisdiction does r162036 operate?', 'query': 'select distinct var_a where  brack_open var_x eiopa-base:haseucountrywhereentityoperates var_a sep_dot var_x eiopa-base:hasinsuranceundertakingid <a> sep_dot brack_close '}\n",
      "['W1940']\n",
      "{'natural_language': 'In what jurisdiction does w1940 operate?', 'query': 'select distinct var_a where  brack_open var_x eiopa-base:haseucountrywhereentityoperates var_a sep_dot var_x eiopa-base:hasinsuranceundertakingid <a> sep_dot brack_close '}\n",
      "['W1988']\n",
      "{'natural_language': 'In what jurisdiction does w1988 operate?', 'query': 'select distinct var_a where  brack_open var_x eiopa-base:haseucountrywhereentityoperates var_a sep_dot var_x eiopa-base:hasinsuranceundertakingid <a> sep_dot brack_close '}\n",
      "['W1972']\n",
      "{'natural_language': 'In what jurisdiction does w1972 operate?', 'query': 'select distinct var_a where  brack_open var_x eiopa-base:haseucountrywhereentityoperates var_a sep_dot var_x eiopa-base:hasinsuranceundertakingid <a> sep_dot brack_close '}\n",
      "['W0319']\n",
      "{'natural_language': 'In what jurisdiction does w0319 operate?', 'query': 'select distinct var_a where  brack_open var_x eiopa-base:haseucountrywhereentityoperates var_a sep_dot var_x eiopa-base:hasinsuranceundertakingid <a> sep_dot brack_close '}\n",
      "['W1805']\n",
      "{'natural_language': 'In what jurisdiction does w1805 operate?', 'query': 'select distinct var_a where  brack_open var_x eiopa-base:haseucountrywhereentityoperates var_a sep_dot var_x eiopa-base:hasinsuranceundertakingid <a> sep_dot brack_close '}\n",
      "['W0147']\n",
      "{'natural_language': 'In what jurisdiction does w0147 operate?', 'query': 'select distinct var_a where  brack_open var_x eiopa-base:haseucountrywhereentityoperates var_a sep_dot var_x eiopa-base:hasinsuranceundertakingid <a> sep_dot brack_close '}\n",
      "['H0088']\n",
      "{'natural_language': 'In what jurisdiction does h0088 operate?', 'query': 'select distinct var_a where  brack_open var_x eiopa-base:haseucountrywhereentityoperates var_a sep_dot var_x eiopa-base:hasinsuranceundertakingid <a> sep_dot brack_close '}\n",
      "['L0180']\n",
      "{'natural_language': 'In what jurisdiction does l0180 operate?', 'query': 'select distinct var_a where  brack_open var_x eiopa-base:haseucountrywhereentityoperates var_a sep_dot var_x eiopa-base:hasinsuranceundertakingid <a> sep_dot brack_close '}\n",
      "['W1954']\n",
      "{'natural_language': 'In what jurisdiction does w1954 operate?', 'query': 'select distinct var_a where  brack_open var_x eiopa-base:haseucountrywhereentityoperates var_a sep_dot var_x eiopa-base:hasinsuranceundertakingid <a> sep_dot brack_close '}\n",
      "['W0060']\n",
      "{'natural_language': 'In what jurisdiction does w0060 operate?', 'query': 'select distinct var_a where  brack_open var_x eiopa-base:haseucountrywhereentityoperates var_a sep_dot var_x eiopa-base:hasinsuranceundertakingid <a> sep_dot brack_close '}\n",
      "['W0219']\n",
      "{'natural_language': 'In what jurisdiction does w0219 operate?', 'query': 'select distinct var_a where  brack_open var_x eiopa-base:haseucountrywhereentityoperates var_a sep_dot var_x eiopa-base:hasinsuranceundertakingid <a> sep_dot brack_close '}\n",
      "['W1899']\n",
      "{'natural_language': 'In what jurisdiction does w1899 operate?', 'query': 'select distinct var_a where  brack_open var_x eiopa-base:haseucountrywhereentityoperates var_a sep_dot var_x eiopa-base:hasinsuranceundertakingid <a> sep_dot brack_close '}\n",
      "['W1752']\n",
      "{'natural_language': 'In what jurisdiction does w1752 operate?', 'query': 'select distinct var_a where  brack_open var_x eiopa-base:haseucountrywhereentityoperates var_a sep_dot var_x eiopa-base:hasinsuranceundertakingid <a> sep_dot brack_close '}\n",
      "['H0133']\n",
      "{'natural_language': 'In what jurisdiction does h0133 operate?', 'query': 'select distinct var_a where  brack_open var_x eiopa-base:haseucountrywhereentityoperates var_a sep_dot var_x eiopa-base:hasinsuranceundertakingid <a> sep_dot brack_close '}\n",
      "['W1027']\n",
      "{'natural_language': 'In what jurisdiction does w1027 operate?', 'query': 'select distinct var_a where  brack_open var_x eiopa-base:haseucountrywhereentityoperates var_a sep_dot var_x eiopa-base:hasinsuranceundertakingid <a> sep_dot brack_close '}\n",
      "['W1942']\n",
      "{'natural_language': 'In what jurisdiction does w1942 operate?', 'query': 'select distinct var_a where  brack_open var_x eiopa-base:haseucountrywhereentityoperates var_a sep_dot var_x eiopa-base:hasinsuranceundertakingid <a> sep_dot brack_close '}\n",
      "['W0174']\n",
      "{'natural_language': 'In what jurisdiction does w0174 operate?', 'query': 'select distinct var_a where  brack_open var_x eiopa-base:haseucountrywhereentityoperates var_a sep_dot var_x eiopa-base:hasinsuranceundertakingid <a> sep_dot brack_close '}\n",
      "['W1743']\n",
      "{'natural_language': 'In what jurisdiction does w1743 operate?', 'query': 'select distinct var_a where  brack_open var_x eiopa-base:haseucountrywhereentityoperates var_a sep_dot var_x eiopa-base:hasinsuranceundertakingid <a> sep_dot brack_close '}\n",
      "['W1983']\n",
      "{'natural_language': 'In what jurisdiction does w1983 operate?', 'query': 'select distinct var_a where  brack_open var_x eiopa-base:haseucountrywhereentityoperates var_a sep_dot var_x eiopa-base:hasinsuranceundertakingid <a> sep_dot brack_close '}\n",
      "['W1487']\n",
      "{'natural_language': 'In what jurisdiction does w1487 operate?', 'query': 'select distinct var_a where  brack_open var_x eiopa-base:haseucountrywhereentityoperates var_a sep_dot var_x eiopa-base:hasinsuranceundertakingid <a> sep_dot brack_close '}\n",
      "['L0187']\n",
      "{'natural_language': 'In what jurisdiction does l0187 operate?', 'query': 'select distinct var_a where  brack_open var_x eiopa-base:haseucountrywhereentityoperates var_a sep_dot var_x eiopa-base:hasinsuranceundertakingid <a> sep_dot brack_close '}\n",
      "['W1986']\n",
      "{'natural_language': 'In what jurisdiction does w1986 operate?', 'query': 'select distinct var_a where  brack_open var_x eiopa-base:haseucountrywhereentityoperates var_a sep_dot var_x eiopa-base:hasinsuranceundertakingid <a> sep_dot brack_close '}\n",
      "['W1840']\n",
      "{'natural_language': 'In what jurisdiction does w1840 operate?', 'query': 'select distinct var_a where  brack_open var_x eiopa-base:haseucountrywhereentityoperates var_a sep_dot var_x eiopa-base:hasinsuranceundertakingid <a> sep_dot brack_close '}\n",
      "['W1913']\n",
      "{'natural_language': 'In what jurisdiction does w1913 operate?', 'query': 'select distinct var_a where  brack_open var_x eiopa-base:haseucountrywhereentityoperates var_a sep_dot var_x eiopa-base:hasinsuranceundertakingid <a> sep_dot brack_close '}\n",
      "['W1875']\n",
      "{'natural_language': 'In what jurisdiction does w1875 operate?', 'query': 'select distinct var_a where  brack_open var_x eiopa-base:haseucountrywhereentityoperates var_a sep_dot var_x eiopa-base:hasinsuranceundertakingid <a> sep_dot brack_close '}\n",
      "['W0035']\n",
      "{'natural_language': 'In what jurisdiction does w0035 operate?', 'query': 'select distinct var_a where  brack_open var_x eiopa-base:haseucountrywhereentityoperates var_a sep_dot var_x eiopa-base:hasinsuranceundertakingid <a> sep_dot brack_close '}\n",
      "['W1877']\n",
      "{'natural_language': 'In what jurisdiction does w1877 operate?', 'query': 'select distinct var_a where  brack_open var_x eiopa-base:haseucountrywhereentityoperates var_a sep_dot var_x eiopa-base:hasinsuranceundertakingid <a> sep_dot brack_close '}\n",
      "['W1817']\n",
      "{'natural_language': 'In what jurisdiction does w1817 operate?', 'query': 'select distinct var_a where  brack_open var_x eiopa-base:haseucountrywhereentityoperates var_a sep_dot var_x eiopa-base:hasinsuranceundertakingid <a> sep_dot brack_close '}\n",
      "['W1969']\n",
      "{'natural_language': 'In what jurisdiction does w1969 operate?', 'query': 'select distinct var_a where  brack_open var_x eiopa-base:haseucountrywhereentityoperates var_a sep_dot var_x eiopa-base:hasinsuranceundertakingid <a> sep_dot brack_close '}\n",
      "['L0216']\n",
      "{'natural_language': 'In what jurisdiction does l0216 operate?', 'query': 'select distinct var_a where  brack_open var_x eiopa-base:haseucountrywhereentityoperates var_a sep_dot var_x eiopa-base:hasinsuranceundertakingid <a> sep_dot brack_close '}\n",
      "['W0302']\n",
      "{'natural_language': 'In what jurisdiction does w0302 operate?', 'query': 'select distinct var_a where  brack_open var_x eiopa-base:haseucountrywhereentityoperates var_a sep_dot var_x eiopa-base:hasinsuranceundertakingid <a> sep_dot brack_close '}\n",
      "['W1806']\n",
      "{'natural_language': 'In what jurisdiction does w1806 operate?', 'query': 'select distinct var_a where  brack_open var_x eiopa-base:haseucountrywhereentityoperates var_a sep_dot var_x eiopa-base:hasinsuranceundertakingid <a> sep_dot brack_close '}\n",
      "['W0355']\n",
      "{'natural_language': 'In what jurisdiction does w0355 operate?', 'query': 'select distinct var_a where  brack_open var_x eiopa-base:haseucountrywhereentityoperates var_a sep_dot var_x eiopa-base:hasinsuranceundertakingid <a> sep_dot brack_close '}\n",
      "['W1868']\n",
      "{'natural_language': 'In what jurisdiction does w1868 operate?', 'query': 'select distinct var_a where  brack_open var_x eiopa-base:haseucountrywhereentityoperates var_a sep_dot var_x eiopa-base:hasinsuranceundertakingid <a> sep_dot brack_close '}\n",
      "['W1423']\n",
      "{'natural_language': 'In what jurisdiction does w1423 operate?', 'query': 'select distinct var_a where  brack_open var_x eiopa-base:haseucountrywhereentityoperates var_a sep_dot var_x eiopa-base:hasinsuranceundertakingid <a> sep_dot brack_close '}\n",
      "['L0025']\n",
      "{'natural_language': 'In what jurisdiction does l0025 operate?', 'query': 'select distinct var_a where  brack_open var_x eiopa-base:haseucountrywhereentityoperates var_a sep_dot var_x eiopa-base:hasinsuranceundertakingid <a> sep_dot brack_close '}\n",
      "['H0134']\n",
      "{'natural_language': 'In what jurisdiction does h0134 operate?', 'query': 'select distinct var_a where  brack_open var_x eiopa-base:haseucountrywhereentityoperates var_a sep_dot var_x eiopa-base:hasinsuranceundertakingid <a> sep_dot brack_close '}\n",
      "['W1911']\n",
      "{'natural_language': 'In what jurisdiction does w1911 operate?', 'query': 'select distinct var_a where  brack_open var_x eiopa-base:haseucountrywhereentityoperates var_a sep_dot var_x eiopa-base:hasinsuranceundertakingid <a> sep_dot brack_close '}\n",
      "['W0192']\n",
      "{'natural_language': 'In what jurisdiction does w0192 operate?', 'query': 'select distinct var_a where  brack_open var_x eiopa-base:haseucountrywhereentityoperates var_a sep_dot var_x eiopa-base:hasinsuranceundertakingid <a> sep_dot brack_close '}\n",
      "['N0015']\n",
      "{'natural_language': 'In what jurisdiction does n0015 operate?', 'query': 'select distinct var_a where  brack_open var_x eiopa-base:haseucountrywhereentityoperates var_a sep_dot var_x eiopa-base:hasinsuranceundertakingid <a> sep_dot brack_close '}\n",
      "['W1686']\n",
      "{'natural_language': 'In what jurisdiction does w1686 operate?', 'query': 'select distinct var_a where  brack_open var_x eiopa-base:haseucountrywhereentityoperates var_a sep_dot var_x eiopa-base:hasinsuranceundertakingid <a> sep_dot brack_close '}\n",
      "['W1922']\n",
      "{'natural_language': 'In what jurisdiction does w1922 operate?', 'query': 'select distinct var_a where  brack_open var_x eiopa-base:haseucountrywhereentityoperates var_a sep_dot var_x eiopa-base:hasinsuranceundertakingid <a> sep_dot brack_close '}\n",
      "['L0058']\n",
      "{'natural_language': 'In what jurisdiction does l0058 operate?', 'query': 'select distinct var_a where  brack_open var_x eiopa-base:haseucountrywhereentityoperates var_a sep_dot var_x eiopa-base:hasinsuranceundertakingid <a> sep_dot brack_close '}\n",
      "['W1902']\n",
      "{'natural_language': 'In what jurisdiction does w1902 operate?', 'query': 'select distinct var_a where  brack_open var_x eiopa-base:haseucountrywhereentityoperates var_a sep_dot var_x eiopa-base:hasinsuranceundertakingid <a> sep_dot brack_close '}\n",
      "['R161589']\n",
      "{'natural_language': 'In what jurisdiction does r161589 operate?', 'query': 'select distinct var_a where  brack_open var_x eiopa-base:haseucountrywhereentityoperates var_a sep_dot var_x eiopa-base:hasinsuranceundertakingid <a> sep_dot brack_close '}\n",
      "['W1292']\n",
      "{'natural_language': 'In what jurisdiction does w1292 operate?', 'query': 'select distinct var_a where  brack_open var_x eiopa-base:haseucountrywhereentityoperates var_a sep_dot var_x eiopa-base:hasinsuranceundertakingid <a> sep_dot brack_close '}\n",
      "['W0164']\n",
      "{'natural_language': 'In what jurisdiction does w0164 operate?', 'query': 'select distinct var_a where  brack_open var_x eiopa-base:haseucountrywhereentityoperates var_a sep_dot var_x eiopa-base:hasinsuranceundertakingid <a> sep_dot brack_close '}\n",
      "['W1904']\n",
      "{'natural_language': 'In what jurisdiction does w1904 operate?', 'query': 'select distinct var_a where  brack_open var_x eiopa-base:haseucountrywhereentityoperates var_a sep_dot var_x eiopa-base:hasinsuranceundertakingid <a> sep_dot brack_close '}\n",
      "['W1906']\n",
      "{'natural_language': 'In what jurisdiction does w1906 operate?', 'query': 'select distinct var_a where  brack_open var_x eiopa-base:haseucountrywhereentityoperates var_a sep_dot var_x eiopa-base:hasinsuranceundertakingid <a> sep_dot brack_close '}\n",
      "['W1619']\n",
      "{'natural_language': 'In what jurisdiction does w1619 operate?', 'query': 'select distinct var_a where  brack_open var_x eiopa-base:haseucountrywhereentityoperates var_a sep_dot var_x eiopa-base:hasinsuranceundertakingid <a> sep_dot brack_close '}\n",
      "['W1710']\n",
      "{'natural_language': 'In what jurisdiction does w1710 operate?', 'query': 'select distinct var_a where  brack_open var_x eiopa-base:haseucountrywhereentityoperates var_a sep_dot var_x eiopa-base:hasinsuranceundertakingid <a> sep_dot brack_close '}\n",
      "['W1219']\n",
      "{'natural_language': 'In what jurisdiction does w1219 operate?', 'query': 'select distinct var_a where  brack_open var_x eiopa-base:haseucountrywhereentityoperates var_a sep_dot var_x eiopa-base:hasinsuranceundertakingid <a> sep_dot brack_close '}\n",
      "['W1910']\n",
      "{'natural_language': 'In what jurisdiction does w1910 operate?', 'query': 'select distinct var_a where  brack_open var_x eiopa-base:haseucountrywhereentityoperates var_a sep_dot var_x eiopa-base:hasinsuranceundertakingid <a> sep_dot brack_close '}\n",
      "['W1589']\n",
      "{'natural_language': 'In what jurisdiction does w1589 operate?', 'query': 'select distinct var_a where  brack_open var_x eiopa-base:haseucountrywhereentityoperates var_a sep_dot var_x eiopa-base:hasinsuranceundertakingid <a> sep_dot brack_close '}\n",
      "['H0074']\n",
      "{'natural_language': 'In what jurisdiction does h0074 operate?', 'query': 'select distinct var_a where  brack_open var_x eiopa-base:haseucountrywhereentityoperates var_a sep_dot var_x eiopa-base:hasinsuranceundertakingid <a> sep_dot brack_close '}\n",
      "['W1680']\n",
      "{'natural_language': 'In what jurisdiction does w1680 operate?', 'query': 'select distinct var_a where  brack_open var_x eiopa-base:haseucountrywhereentityoperates var_a sep_dot var_x eiopa-base:hasinsuranceundertakingid <a> sep_dot brack_close '}\n",
      "['W1860']\n",
      "{'natural_language': 'In what jurisdiction does w1860 operate?', 'query': 'select distinct var_a where  brack_open var_x eiopa-base:haseucountrywhereentityoperates var_a sep_dot var_x eiopa-base:hasinsuranceundertakingid <a> sep_dot brack_close '}\n",
      "['L0093']\n",
      "{'natural_language': 'In what jurisdiction does l0093 operate?', 'query': 'select distinct var_a where  brack_open var_x eiopa-base:haseucountrywhereentityoperates var_a sep_dot var_x eiopa-base:hasinsuranceundertakingid <a> sep_dot brack_close '}\n",
      "['L0151']\n",
      "{'natural_language': 'In what jurisdiction does l0151 operate?', 'query': 'select distinct var_a where  brack_open var_x eiopa-base:haseucountrywhereentityoperates var_a sep_dot var_x eiopa-base:hasinsuranceundertakingid <a> sep_dot brack_close '}\n",
      "['W1978']\n",
      "{'natural_language': 'In what jurisdiction does w1978 operate?', 'query': 'select distinct var_a where  brack_open var_x eiopa-base:haseucountrywhereentityoperates var_a sep_dot var_x eiopa-base:hasinsuranceundertakingid <a> sep_dot brack_close '}\n",
      "['L0150']\n",
      "{'natural_language': 'In what jurisdiction does l0150 operate?', 'query': 'select distinct var_a where  brack_open var_x eiopa-base:haseucountrywhereentityoperates var_a sep_dot var_x eiopa-base:hasinsuranceundertakingid <a> sep_dot brack_close '}\n",
      "['L0116']\n",
      "{'natural_language': 'In what jurisdiction does l0116 operate?', 'query': 'select distinct var_a where  brack_open var_x eiopa-base:haseucountrywhereentityoperates var_a sep_dot var_x eiopa-base:hasinsuranceundertakingid <a> sep_dot brack_close '}\n",
      "['W1497']\n",
      "{'natural_language': 'In what jurisdiction does w1497 operate?', 'query': 'select distinct var_a where  brack_open var_x eiopa-base:haseucountrywhereentityoperates var_a sep_dot var_x eiopa-base:hasinsuranceundertakingid <a> sep_dot brack_close '}\n",
      "['W1767']\n",
      "{'natural_language': 'In what jurisdiction does w1767 operate?', 'query': 'select distinct var_a where  brack_open var_x eiopa-base:haseucountrywhereentityoperates var_a sep_dot var_x eiopa-base:hasinsuranceundertakingid <a> sep_dot brack_close '}\n",
      "['W1961']\n",
      "{'natural_language': 'In what jurisdiction does w1961 operate?', 'query': 'select distinct var_a where  brack_open var_x eiopa-base:haseucountrywhereentityoperates var_a sep_dot var_x eiopa-base:hasinsuranceundertakingid <a> sep_dot brack_close '}\n",
      "['W0393']\n",
      "{'natural_language': 'In what jurisdiction does w0393 operate?', 'query': 'select distinct var_a where  brack_open var_x eiopa-base:haseucountrywhereentityoperates var_a sep_dot var_x eiopa-base:hasinsuranceundertakingid <a> sep_dot brack_close '}\n",
      "['W1976']\n",
      "{'natural_language': 'In what jurisdiction does w1976 operate?', 'query': 'select distinct var_a where  brack_open var_x eiopa-base:haseucountrywhereentityoperates var_a sep_dot var_x eiopa-base:hasinsuranceundertakingid <a> sep_dot brack_close '}\n",
      "['W1973']\n",
      "{'natural_language': 'In what jurisdiction does w1973 operate?', 'query': 'select distinct var_a where  brack_open var_x eiopa-base:haseucountrywhereentityoperates var_a sep_dot var_x eiopa-base:hasinsuranceundertakingid <a> sep_dot brack_close '}\n",
      "['W1650']\n",
      "{'natural_language': 'In what jurisdiction does w1650 operate?', 'query': 'select distinct var_a where  brack_open var_x eiopa-base:haseucountrywhereentityoperates var_a sep_dot var_x eiopa-base:hasinsuranceundertakingid <a> sep_dot brack_close '}\n",
      "['W1825']\n",
      "{'natural_language': 'In what jurisdiction does w1825 operate?', 'query': 'select distinct var_a where  brack_open var_x eiopa-base:haseucountrywhereentityoperates var_a sep_dot var_x eiopa-base:hasinsuranceundertakingid <a> sep_dot brack_close '}\n",
      "['W1702']\n",
      "{'natural_language': 'In what jurisdiction does w1702 operate?', 'query': 'select distinct var_a where  brack_open var_x eiopa-base:haseucountrywhereentityoperates var_a sep_dot var_x eiopa-base:hasinsuranceundertakingid <a> sep_dot brack_close '}\n",
      "['W0065']\n",
      "{'natural_language': 'In what jurisdiction does w0065 operate?', 'query': 'select distinct var_a where  brack_open var_x eiopa-base:haseucountrywhereentityoperates var_a sep_dot var_x eiopa-base:hasinsuranceundertakingid <a> sep_dot brack_close '}\n",
      "['W0186']\n",
      "{'natural_language': 'In what jurisdiction does w0186 operate?', 'query': 'select distinct var_a where  brack_open var_x eiopa-base:haseucountrywhereentityoperates var_a sep_dot var_x eiopa-base:hasinsuranceundertakingid <a> sep_dot brack_close '}\n",
      "['L0104']\n",
      "{'natural_language': 'In what jurisdiction does l0104 operate?', 'query': 'select distinct var_a where  brack_open var_x eiopa-base:haseucountrywhereentityoperates var_a sep_dot var_x eiopa-base:hasinsuranceundertakingid <a> sep_dot brack_close '}\n",
      "['W1706']\n",
      "{'natural_language': 'In what jurisdiction does w1706 operate?', 'query': 'select distinct var_a where  brack_open var_x eiopa-base:haseucountrywhereentityoperates var_a sep_dot var_x eiopa-base:hasinsuranceundertakingid <a> sep_dot brack_close '}\n",
      "['R140256']\n",
      "{'natural_language': 'In what jurisdiction does r140256 operate?', 'query': 'select distinct var_a where  brack_open var_x eiopa-base:haseucountrywhereentityoperates var_a sep_dot var_x eiopa-base:hasinsuranceundertakingid <a> sep_dot brack_close '}\n",
      "['W0123']\n",
      "{'natural_language': 'In what jurisdiction does w0123 operate?', 'query': 'select distinct var_a where  brack_open var_x eiopa-base:haseucountrywhereentityoperates var_a sep_dot var_x eiopa-base:hasinsuranceundertakingid <a> sep_dot brack_close '}\n",
      "['L0129']\n",
      "{'natural_language': 'In what jurisdiction does l0129 operate?', 'query': 'select distinct var_a where  brack_open var_x eiopa-base:haseucountrywhereentityoperates var_a sep_dot var_x eiopa-base:hasinsuranceundertakingid <a> sep_dot brack_close '}\n",
      "['W0132']\n",
      "{'natural_language': 'In what jurisdiction does w0132 operate?', 'query': 'select distinct var_a where  brack_open var_x eiopa-base:haseucountrywhereentityoperates var_a sep_dot var_x eiopa-base:hasinsuranceundertakingid <a> sep_dot brack_close '}\n",
      "['W1104']\n",
      "{'natural_language': 'In what jurisdiction does w1104 operate?', 'query': 'select distinct var_a where  brack_open var_x eiopa-base:haseucountrywhereentityoperates var_a sep_dot var_x eiopa-base:hasinsuranceundertakingid <a> sep_dot brack_close '}\n",
      "['W0083']\n",
      "{'natural_language': 'In what jurisdiction does w0083 operate?', 'query': 'select distinct var_a where  brack_open var_x eiopa-base:haseucountrywhereentityoperates var_a sep_dot var_x eiopa-base:hasinsuranceundertakingid <a> sep_dot brack_close '}\n",
      "['W1090']\n",
      "{'natural_language': 'In what jurisdiction does w1090 operate?', 'query': 'select distinct var_a where  brack_open var_x eiopa-base:haseucountrywhereentityoperates var_a sep_dot var_x eiopa-base:hasinsuranceundertakingid <a> sep_dot brack_close '}\n",
      "['L0029']\n",
      "{'natural_language': 'In what jurisdiction does l0029 operate?', 'query': 'select distinct var_a where  brack_open var_x eiopa-base:haseucountrywhereentityoperates var_a sep_dot var_x eiopa-base:hasinsuranceundertakingid <a> sep_dot brack_close '}\n",
      "['L0155']\n",
      "{'natural_language': 'In what jurisdiction does l0155 operate?', 'query': 'select distinct var_a where  brack_open var_x eiopa-base:haseucountrywhereentityoperates var_a sep_dot var_x eiopa-base:hasinsuranceundertakingid <a> sep_dot brack_close '}\n",
      "['N0048']\n",
      "{'natural_language': 'In what jurisdiction does n0048 operate?', 'query': 'select distinct var_a where  brack_open var_x eiopa-base:haseucountrywhereentityoperates var_a sep_dot var_x eiopa-base:hasinsuranceundertakingid <a> sep_dot brack_close '}\n",
      "['L0182']\n",
      "{'natural_language': 'In what jurisdiction does l0182 operate?', 'query': 'select distinct var_a where  brack_open var_x eiopa-base:haseucountrywhereentityoperates var_a sep_dot var_x eiopa-base:hasinsuranceundertakingid <a> sep_dot brack_close '}\n",
      "['W1889']\n",
      "{'natural_language': 'In what jurisdiction does w1889 operate?', 'query': 'select distinct var_a where  brack_open var_x eiopa-base:haseucountrywhereentityoperates var_a sep_dot var_x eiopa-base:hasinsuranceundertakingid <a> sep_dot brack_close '}\n",
      "['L0046']\n",
      "{'natural_language': 'In what jurisdiction does l0046 operate?', 'query': 'select distinct var_a where  brack_open var_x eiopa-base:haseucountrywhereentityoperates var_a sep_dot var_x eiopa-base:hasinsuranceundertakingid <a> sep_dot brack_close '}\n",
      "['H0089']\n",
      "{'natural_language': 'In what jurisdiction does h0089 operate?', 'query': 'select distinct var_a where  brack_open var_x eiopa-base:haseucountrywhereentityoperates var_a sep_dot var_x eiopa-base:hasinsuranceundertakingid <a> sep_dot brack_close '}\n",
      "['W0389']\n",
      "{'natural_language': 'In what jurisdiction does w0389 operate?', 'query': 'select distinct var_a where  brack_open var_x eiopa-base:haseucountrywhereentityoperates var_a sep_dot var_x eiopa-base:hasinsuranceundertakingid <a> sep_dot brack_close '}\n",
      "['W1938']\n",
      "{'natural_language': 'In what jurisdiction does w1938 operate?', 'query': 'select distinct var_a where  brack_open var_x eiopa-base:haseucountrywhereentityoperates var_a sep_dot var_x eiopa-base:hasinsuranceundertakingid <a> sep_dot brack_close '}\n",
      "['L0131']\n",
      "{'natural_language': 'In what jurisdiction does l0131 operate?', 'query': 'select distinct var_a where  brack_open var_x eiopa-base:haseucountrywhereentityoperates var_a sep_dot var_x eiopa-base:hasinsuranceundertakingid <a> sep_dot brack_close '}\n",
      "['W1909']\n",
      "{'natural_language': 'In what jurisdiction does w1909 operate?', 'query': 'select distinct var_a where  brack_open var_x eiopa-base:haseucountrywhereentityoperates var_a sep_dot var_x eiopa-base:hasinsuranceundertakingid <a> sep_dot brack_close '}\n",
      "['W1711']\n",
      "{'natural_language': 'In what jurisdiction does w1711 operate?', 'query': 'select distinct var_a where  brack_open var_x eiopa-base:haseucountrywhereentityoperates var_a sep_dot var_x eiopa-base:hasinsuranceundertakingid <a> sep_dot brack_close '}\n",
      "['L0017']\n",
      "{'natural_language': 'In what jurisdiction does l0017 operate?', 'query': 'select distinct var_a where  brack_open var_x eiopa-base:haseucountrywhereentityoperates var_a sep_dot var_x eiopa-base:hasinsuranceundertakingid <a> sep_dot brack_close '}\n",
      "['L0215']\n",
      "{'natural_language': 'In what jurisdiction does l0215 operate?', 'query': 'select distinct var_a where  brack_open var_x eiopa-base:haseucountrywhereentityoperates var_a sep_dot var_x eiopa-base:hasinsuranceundertakingid <a> sep_dot brack_close '}\n",
      "['W0128']\n",
      "{'natural_language': 'In what jurisdiction does w0128 operate?', 'query': 'select distinct var_a where  brack_open var_x eiopa-base:haseucountrywhereentityoperates var_a sep_dot var_x eiopa-base:hasinsuranceundertakingid <a> sep_dot brack_close '}\n",
      "['W1258']\n",
      "{'natural_language': 'In what jurisdiction does w1258 operate?', 'query': 'select distinct var_a where  brack_open var_x eiopa-base:haseucountrywhereentityoperates var_a sep_dot var_x eiopa-base:hasinsuranceundertakingid <a> sep_dot brack_close '}\n",
      "['R161237']\n",
      "{'natural_language': 'In what jurisdiction does r161237 operate?', 'query': 'select distinct var_a where  brack_open var_x eiopa-base:haseucountrywhereentityoperates var_a sep_dot var_x eiopa-base:hasinsuranceundertakingid <a> sep_dot brack_close '}\n",
      "['W1958']\n",
      "{'natural_language': 'In what jurisdiction does w1958 operate?', 'query': 'select distinct var_a where  brack_open var_x eiopa-base:haseucountrywhereentityoperates var_a sep_dot var_x eiopa-base:hasinsuranceundertakingid <a> sep_dot brack_close '}\n",
      "['W0064']\n",
      "{'natural_language': 'In what jurisdiction does w0064 operate?', 'query': 'select distinct var_a where  brack_open var_x eiopa-base:haseucountrywhereentityoperates var_a sep_dot var_x eiopa-base:hasinsuranceundertakingid <a> sep_dot brack_close '}\n",
      "['H0132']\n",
      "{'natural_language': 'In what jurisdiction does h0132 operate?', 'query': 'select distinct var_a where  brack_open var_x eiopa-base:haseucountrywhereentityoperates var_a sep_dot var_x eiopa-base:hasinsuranceundertakingid <a> sep_dot brack_close '}\n",
      "['W1789']\n",
      "{'natural_language': 'In what jurisdiction does w1789 operate?', 'query': 'select distinct var_a where  brack_open var_x eiopa-base:haseucountrywhereentityoperates var_a sep_dot var_x eiopa-base:hasinsuranceundertakingid <a> sep_dot brack_close '}\n",
      "['L0077']\n",
      "{'natural_language': 'In what jurisdiction does l0077 operate?', 'query': 'select distinct var_a where  brack_open var_x eiopa-base:haseucountrywhereentityoperates var_a sep_dot var_x eiopa-base:hasinsuranceundertakingid <a> sep_dot brack_close '}\n",
      "['W1727']\n",
      "{'natural_language': 'In what jurisdiction does w1727 operate?', 'query': 'select distinct var_a where  brack_open var_x eiopa-base:haseucountrywhereentityoperates var_a sep_dot var_x eiopa-base:hasinsuranceundertakingid <a> sep_dot brack_close '}\n",
      "['W1031']\n",
      "{'natural_language': 'In what jurisdiction does w1031 operate?', 'query': 'select distinct var_a where  brack_open var_x eiopa-base:haseucountrywhereentityoperates var_a sep_dot var_x eiopa-base:hasinsuranceundertakingid <a> sep_dot brack_close '}\n",
      "['W1920']\n",
      "{'natural_language': 'In what jurisdiction does w1920 operate?', 'query': 'select distinct var_a where  brack_open var_x eiopa-base:haseucountrywhereentityoperates var_a sep_dot var_x eiopa-base:hasinsuranceundertakingid <a> sep_dot brack_close '}\n",
      "['R140252']\n",
      "{'natural_language': 'In what jurisdiction does r140252 operate?', 'query': 'select distinct var_a where  brack_open var_x eiopa-base:haseucountrywhereentityoperates var_a sep_dot var_x eiopa-base:hasinsuranceundertakingid <a> sep_dot brack_close '}\n",
      "['W1921']\n",
      "{'natural_language': 'In what jurisdiction does w1921 operate?', 'query': 'select distinct var_a where  brack_open var_x eiopa-base:haseucountrywhereentityoperates var_a sep_dot var_x eiopa-base:hasinsuranceundertakingid <a> sep_dot brack_close '}\n",
      "['W1709']\n",
      "{'natural_language': 'In what jurisdiction does w1709 operate?', 'query': 'select distinct var_a where  brack_open var_x eiopa-base:haseucountrywhereentityoperates var_a sep_dot var_x eiopa-base:hasinsuranceundertakingid <a> sep_dot brack_close '}\n",
      "['W1974']\n",
      "{'natural_language': 'In what jurisdiction does w1974 operate?', 'query': 'select distinct var_a where  brack_open var_x eiopa-base:haseucountrywhereentityoperates var_a sep_dot var_x eiopa-base:hasinsuranceundertakingid <a> sep_dot brack_close '}\n",
      "['R161238']\n",
      "{'natural_language': 'In what jurisdiction does r161238 operate?', 'query': 'select distinct var_a where  brack_open var_x eiopa-base:haseucountrywhereentityoperates var_a sep_dot var_x eiopa-base:hasinsuranceundertakingid <a> sep_dot brack_close '}\n",
      "['W1908']\n",
      "{'natural_language': 'In what jurisdiction does w1908 operate?', 'query': 'select distinct var_a where  brack_open var_x eiopa-base:haseucountrywhereentityoperates var_a sep_dot var_x eiopa-base:hasinsuranceundertakingid <a> sep_dot brack_close '}\n",
      "['W0109']\n",
      "{'natural_language': 'In what jurisdiction does w0109 operate?', 'query': 'select distinct var_a where  brack_open var_x eiopa-base:haseucountrywhereentityoperates var_a sep_dot var_x eiopa-base:hasinsuranceundertakingid <a> sep_dot brack_close '}\n",
      "['W0344']\n",
      "{'natural_language': 'In what jurisdiction does w0344 operate?', 'query': 'select distinct var_a where  brack_open var_x eiopa-base:haseucountrywhereentityoperates var_a sep_dot var_x eiopa-base:hasinsuranceundertakingid <a> sep_dot brack_close '}\n",
      "['W1963']\n",
      "{'natural_language': 'In what jurisdiction does w1963 operate?', 'query': 'select distinct var_a where  brack_open var_x eiopa-base:haseucountrywhereentityoperates var_a sep_dot var_x eiopa-base:hasinsuranceundertakingid <a> sep_dot brack_close '}\n",
      "['W1788']\n",
      "{'natural_language': 'In what jurisdiction does w1788 operate?', 'query': 'select distinct var_a where  brack_open var_x eiopa-base:haseucountrywhereentityoperates var_a sep_dot var_x eiopa-base:hasinsuranceundertakingid <a> sep_dot brack_close '}\n",
      "['W0010']\n",
      "{'natural_language': 'In what jurisdiction does w0010 operate?', 'query': 'select distinct var_a where  brack_open var_x eiopa-base:haseucountrywhereentityoperates var_a sep_dot var_x eiopa-base:hasinsuranceundertakingid <a> sep_dot brack_close '}\n",
      "['H0073']\n",
      "{'natural_language': 'In what jurisdiction does h0073 operate?', 'query': 'select distinct var_a where  brack_open var_x eiopa-base:haseucountrywhereentityoperates var_a sep_dot var_x eiopa-base:hasinsuranceundertakingid <a> sep_dot brack_close '}\n",
      "['W0281']\n",
      "{'natural_language': 'In what jurisdiction does w0281 operate?', 'query': 'select distinct var_a where  brack_open var_x eiopa-base:haseucountrywhereentityoperates var_a sep_dot var_x eiopa-base:hasinsuranceundertakingid <a> sep_dot brack_close '}\n",
      "['W1576']\n",
      "{'natural_language': 'In what jurisdiction does w1576 operate?', 'query': 'select distinct var_a where  brack_open var_x eiopa-base:haseucountrywhereentityoperates var_a sep_dot var_x eiopa-base:hasinsuranceundertakingid <a> sep_dot brack_close '}\n",
      "['W0301']\n",
      "{'natural_language': 'In what jurisdiction does w0301 operate?', 'query': 'select distinct var_a where  brack_open var_x eiopa-base:haseucountrywhereentityoperates var_a sep_dot var_x eiopa-base:hasinsuranceundertakingid <a> sep_dot brack_close '}\n",
      "['W1981']\n",
      "{'natural_language': 'In what jurisdiction does w1981 operate?', 'query': 'select distinct var_a where  brack_open var_x eiopa-base:haseucountrywhereentityoperates var_a sep_dot var_x eiopa-base:hasinsuranceundertakingid <a> sep_dot brack_close '}\n",
      "['W0449']\n",
      "{'natural_language': 'In what jurisdiction does w0449 operate?', 'query': 'select distinct var_a where  brack_open var_x eiopa-base:haseucountrywhereentityoperates var_a sep_dot var_x eiopa-base:hasinsuranceundertakingid <a> sep_dot brack_close '}\n",
      "['W0143']\n",
      "{'natural_language': 'In what jurisdiction does w0143 operate?', 'query': 'select distinct var_a where  brack_open var_x eiopa-base:haseucountrywhereentityoperates var_a sep_dot var_x eiopa-base:hasinsuranceundertakingid <a> sep_dot brack_close '}\n",
      "['W1886']\n",
      "{'natural_language': 'In what jurisdiction does w1886 operate?', 'query': 'select distinct var_a where  brack_open var_x eiopa-base:haseucountrywhereentityoperates var_a sep_dot var_x eiopa-base:hasinsuranceundertakingid <a> sep_dot brack_close '}\n",
      "['W0145']\n",
      "{'natural_language': 'In what jurisdiction does w0145 operate?', 'query': 'select distinct var_a where  brack_open var_x eiopa-base:haseucountrywhereentityoperates var_a sep_dot var_x eiopa-base:hasinsuranceundertakingid <a> sep_dot brack_close '}\n",
      "['W1749']\n",
      "{'natural_language': 'In what jurisdiction does w1749 operate?', 'query': 'select distinct var_a where  brack_open var_x eiopa-base:haseucountrywhereentityoperates var_a sep_dot var_x eiopa-base:hasinsuranceundertakingid <a> sep_dot brack_close '}\n",
      "['W1977']\n",
      "{'natural_language': 'In what jurisdiction does w1977 operate?', 'query': 'select distinct var_a where  brack_open var_x eiopa-base:haseucountrywhereentityoperates var_a sep_dot var_x eiopa-base:hasinsuranceundertakingid <a> sep_dot brack_close '}\n",
      "['L0171']\n",
      "{'natural_language': 'In what jurisdiction does l0171 operate?', 'query': 'select distinct var_a where  brack_open var_x eiopa-base:haseucountrywhereentityoperates var_a sep_dot var_x eiopa-base:hasinsuranceundertakingid <a> sep_dot brack_close '}\n",
      "['L0119']\n",
      "{'natural_language': 'In what jurisdiction does l0119 operate?', 'query': 'select distinct var_a where  brack_open var_x eiopa-base:haseucountrywhereentityoperates var_a sep_dot var_x eiopa-base:hasinsuranceundertakingid <a> sep_dot brack_close '}\n"
     ]
    }
   ],
   "source": [
    "for item in results:\n",
    "    print(item)\n",
    "    print(build_dataset_pair(item,template))"
   ]
  },
  {
   "cell_type": "code",
   "execution_count": null,
   "metadata": {},
   "outputs": [],
   "source": []
  },
  {
   "cell_type": "code",
   "execution_count": null,
   "metadata": {},
   "outputs": [],
   "source": []
  },
  {
   "cell_type": "code",
   "execution_count": null,
   "metadata": {},
   "outputs": [],
   "source": []
  },
  {
   "cell_type": "code",
   "execution_count": null,
   "metadata": {},
   "outputs": [],
   "source": []
  },
  {
   "cell_type": "markdown",
   "metadata": {},
   "source": [
    "Prepare generator query"
   ]
  },
  {
   "cell_type": "code",
   "execution_count": null,
   "metadata": {},
   "outputs": [],
   "source": [
    "template = templates[0]\n",
    "generator_query = getattr(template, 'generator_query')\n",
    "def first_attempt(template): return prepare_generator_query(template)\n",
    "def second_attempt(template): return prepare_generator_query(\n",
    "    template, do_special_class_replacement=False)\n",
    "def third_attempt(template): return prepare_generator_query(\n",
    "    template, add_type_requirements=False)\n",
    "\n",
    "# for attempt, prepare_query in enumerate([first_attempt, second_attempt,\\\n",
    "#      third_attempt], start=1):\n",
    "#     prepare_query(generator_query)\n",
    "# prepare_generator_query(template)"
   ]
  },
  {
   "cell_type": "markdown",
   "metadata": {},
   "source": [
    "Generate queries"
   ]
  },
  {
   "cell_type": "code",
   "execution_count": null,
   "metadata": {},
   "outputs": [],
   "source": [
    "queries = []\n",
    "for row in g.query(templates[0].generator_query):\n",
    "    for item in row:\n",
    "        queries.append(templates[0].query.replace(\"<A>\",'\"'+ str(item) + '\"'))"
   ]
  },
  {
   "cell_type": "code",
   "execution_count": null,
   "metadata": {},
   "outputs": [],
   "source": [
    "print(len(queries))\n",
    "print(\"\\n\".join(queries))"
   ]
  },
  {
   "cell_type": "markdown",
   "metadata": {},
   "source": [
    "## Graph query function"
   ]
  },
  {
   "cell_type": "code",
   "execution_count": null,
   "metadata": {},
   "outputs": [],
   "source": [
    "QUERY = \"select ?a where { ?x gleif-L1:hasLegalName <A>. ?x gleif-L1:hasLegalAddress/gleif-base:hasCity ?a. }\"\n",
    "print(QUERY)"
   ]
  },
  {
   "cell_type": "code",
   "execution_count": null,
   "metadata": {},
   "outputs": [],
   "source": [
    "q = 'select distinct ?c where { ?b gleif-base:hasLegalJurisdiction CountryCodes:NL.  ?b gleif-L1:hasLegalName \"AEGON Schadeverzekering N.V.\". ?b gleif-L1:hasLegalAddress/gleif-base:hasCity ?c. }'"
   ]
  },
  {
   "cell_type": "code",
   "execution_count": null,
   "metadata": {},
   "outputs": [],
   "source": [
    "for row in g.query(q):\n",
    "    for item in row:\n",
    "        print(item)"
   ]
  },
  {
   "cell_type": "code",
   "execution_count": null,
   "metadata": {},
   "outputs": [],
   "source": [
    "cnt = 0\n",
    "for row in g.query(template.generator_query):\n",
    "    cnt += 1\n",
    "    for item in row:\n",
    "        print(item)\n",
    "        "
   ]
  },
  {
   "cell_type": "code",
   "execution_count": null,
   "metadata": {},
   "outputs": [],
   "source": [
    "item,cnt"
   ]
  },
  {
   "cell_type": "code",
   "execution_count": null,
   "metadata": {},
   "outputs": [],
   "source": [
    "queries = []\n",
    "for row in g.query(templates[0].generator_query):\n",
    "    for item in row:\n",
    "        queries.append(templates[0].query.replace(\"<A>\",'\"'+ str(item) + '\"'))"
   ]
  },
  {
   "cell_type": "code",
   "execution_count": null,
   "metadata": {},
   "outputs": [],
   "source": [
    "queries"
   ]
  },
  {
   "cell_type": "code",
   "execution_count": null,
   "metadata": {},
   "outputs": [],
   "source": [
    "answer = g.query('select ?x where { ?x gleif-L1:hasLegalName \"AMMA VERZEKERINGEN\"@nl}')\n",
    "for row in answer:\n",
    "    for item in row:\n",
    "        print(item)\n"
   ]
  },
  {
   "cell_type": "code",
   "execution_count": null,
   "metadata": {},
   "outputs": [],
   "source": [
    "item = '\"'+ str(item) + '\"'"
   ]
  },
  {
   "cell_type": "code",
   "execution_count": null,
   "metadata": {},
   "outputs": [],
   "source": [
    "item"
   ]
  },
  {
   "cell_type": "code",
   "execution_count": null,
   "metadata": {},
   "outputs": [],
   "source": [
    "for row in g.query(queries[0]):\n",
    "    for item in row:\n",
    "        print(item)"
   ]
  },
  {
   "cell_type": "code",
   "execution_count": null,
   "metadata": {},
   "outputs": [],
   "source": [
    "ontology_class = 'http://dbpedia.org/ontology/house'\n",
    "str.startswith(ontology_class, 'http://dbpedia.org/ontology/')"
   ]
  },
  {
   "cell_type": "code",
   "execution_count": null,
   "metadata": {},
   "outputs": [],
   "source": [
    "for cnt,variabel in enumerate(template.variables):\n",
    "    print(cnt)\n",
    "    print(variabel)"
   ]
  },
  {
   "cell_type": "code",
   "execution_count": null,
   "metadata": {},
   "outputs": [],
   "source": []
  }
 ],
 "metadata": {
  "kernelspec": {
   "display_name": "Python (RDF_processing)",
   "language": "python",
   "name": "rdf_processing"
  },
  "language_info": {
   "codemirror_mode": {
    "name": "ipython",
    "version": 3
   },
   "file_extension": ".py",
   "mimetype": "text/x-python",
   "name": "python",
   "nbconvert_exporter": "python",
   "pygments_lexer": "ipython3",
   "version": "3.9.2"
  }
 },
 "nbformat": 4,
 "nbformat_minor": 5
}
