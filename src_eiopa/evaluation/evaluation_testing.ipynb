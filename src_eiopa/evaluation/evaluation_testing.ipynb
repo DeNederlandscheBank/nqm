{
 "cells": [
  {
   "cell_type": "code",
   "execution_count": 1,
   "metadata": {
    "collapsed": true
   },
   "outputs": [],
   "source": [
    "from decoder import decode\n",
    "import fairseq\n",
    "from os.path import join\n",
    "import torch\n",
    "from fairseq.models.transformer import TransformerModel\n",
    "\n",
    "from src_eiopa.features.generator import initialize_graph,get_name"
   ]
  },
  {
   "cell_type": "code",
   "execution_count": 2,
   "outputs": [],
   "source": [
    "fairseq_folder = join('..','..','data','eiopa','4_dictionaries','fairseq-data-bin-31181')\n",
    "data_path = join('..','..','data','eiopa','4_dictionaries','data_24-03_14-14_31181_')\n",
    "model_path = join('..','..','models','transformer_iwslt_de_en_20226912')\n",
    "graph_path = join('..','..','data','eiopa','1_external')"
   ],
   "metadata": {
    "collapsed": false,
    "pycharm": {
     "name": "#%%\n"
    }
   }
  },
  {
   "cell_type": "code",
   "execution_count": 3,
   "outputs": [
    {
     "name": "stdout",
     "output_type": "stream",
     "text": [
      "Graph has 376260 statements.\n"
     ]
    }
   ],
   "source": [
    "graph = initialize_graph(graph_path)"
   ],
   "metadata": {
    "collapsed": false,
    "pycharm": {
     "name": "#%%\n"
    }
   }
  },
  {
   "cell_type": "code",
   "execution_count": 4,
   "outputs": [],
   "source": [
    "model = TransformerModel.from_pretrained(\n",
    "  '../../models/',\n",
    "  checkpoint_file='./transformer_iwslt_de_en_20226912/checkpoint_best.pt',\n",
    "  data_name_or_path='/Users/jan_marcglowienke/Documents/University/Master_Courses/Thesis/3_Code/data/eiopa/4_dictionaries/fairseq-data-bin-31181',\n",
    "   # bpe='subword_nmt',\n",
    "   # bpe_codes='bpecodes'\n",
    ")"
   ],
   "metadata": {
    "collapsed": false,
    "pycharm": {
     "name": "#%%\n"
    }
   }
  },
  {
   "cell_type": "code",
   "execution_count": 5,
   "outputs": [],
   "source": [
    "output = model.translate(\"In what country does w1963 operate?\")"
   ],
   "metadata": {
    "collapsed": false,
    "pycharm": {
     "name": "#%%\n"
    }
   }
  },
  {
   "cell_type": "code",
   "execution_count": 6,
   "outputs": [
    {
     "data": {
      "text/plain": "'SELECT DISTINCT ?a WHERE{?x eiopa-Base:hasEUCountryWhereEntityOperates ?a . ?x eiopa-Base:hasInsuranceUndertakingID w1963 . }'"
     },
     "execution_count": 6,
     "metadata": {},
     "output_type": "execute_result"
    }
   ],
   "source": [
    "decode(output)"
   ],
   "metadata": {
    "collapsed": false,
    "pycharm": {
     "name": "#%%\n"
    }
   }
  },
  {
   "cell_type": "code",
   "execution_count": 7,
   "outputs": [
    {
     "name": "stdout",
     "output_type": "stream",
     "text": [
      "NL\n"
     ]
    }
   ],
   "source": [
    "q = \"SELECT DISTINCT ?a WHERE{\" \\\n",
    "    \"?x eiopa-Base:hasEUCountryWhereEntityOperates ?a .\" \\\n",
    "    \" ?x eiopa-Base:hasInsuranceUndertakingID 'W1963' . }\"\n",
    "\n",
    "results = graph.query(q)\n",
    "\n",
    "for line in results:\n",
    "    for item in line:\n",
    "        print(get_name(item))"
   ],
   "metadata": {
    "collapsed": false,
    "pycharm": {
     "name": "#%%\n"
    }
   }
  },
  {
   "cell_type": "code",
   "execution_count": 8,
   "outputs": [
    {
     "data": {
      "text/plain": "<rdflib.plugins.sparql.processor.SPARQLResult at 0x7f8c7a555040>"
     },
     "execution_count": 8,
     "metadata": {},
     "output_type": "execute_result"
    }
   ],
   "source": [
    "results"
   ],
   "metadata": {
    "collapsed": false,
    "pycharm": {
     "name": "#%%\n"
    }
   }
  },
  {
   "cell_type": "code",
   "execution_count": 8,
   "outputs": [],
   "source": [],
   "metadata": {
    "collapsed": false,
    "pycharm": {
     "name": "#%%\n"
    }
   }
  }
 ],
 "metadata": {
  "kernelspec": {
   "name": "conda-env-nqm_fairseq-py",
   "language": "python",
   "display_name": "Python [conda env:nqm_fairseq] *"
  },
  "language_info": {
   "codemirror_mode": {
    "name": "ipython",
    "version": 2
   },
   "file_extension": ".py",
   "mimetype": "text/x-python",
   "name": "python",
   "nbconvert_exporter": "python",
   "pygments_lexer": "ipython2",
   "version": "2.7.6"
  }
 },
 "nbformat": 4,
 "nbformat_minor": 0
}